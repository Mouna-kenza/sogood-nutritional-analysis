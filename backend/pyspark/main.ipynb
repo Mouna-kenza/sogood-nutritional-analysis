{
 "cells": [
  {
   "cell_type": "code",
   "execution_count": 1,
   "id": "5b3df630",
   "metadata": {},
   "outputs": [],
   "source": [
    "from pyspark.sql import SparkSession\n",
    "import pyspark.sql.functions as F"
   ]
  },
  {
   "cell_type": "code",
   "execution_count": 2,
   "id": "5911e718",
   "metadata": {},
   "outputs": [],
   "source": [
    "spark = SparkSession.builder \\\n",
    "    .appName(\"FoodFactsNotebook\") \\\n",
    "    .getOrCreate()"
   ]
  },
  {
   "cell_type": "code",
   "execution_count": 3,
   "id": "d36ee3f7",
   "metadata": {},
   "outputs": [],
   "source": [
    "# parquet_path = r\"C:\\Users\\yasser.sakhraoui\\Desktop\\food_project\\sogood-nutritional-analysis\\backend\\pyspark\\food.parquet\"\n",
    "# df = spark.read.parquet(parquet_path)"
   ]
  },
  {
   "cell_type": "code",
   "execution_count": 4,
   "id": "025081f7",
   "metadata": {},
   "outputs": [],
   "source": [
    "csv_path = r\"C:\\Users\\yasser.sakhraoui\\Desktop\\food_project\\sogood-nutritional-analysis\\backend\\pyspark\\food.csv\""
   ]
  },
  {
   "cell_type": "code",
   "execution_count": 5,
   "id": "64bbc251",
   "metadata": {},
   "outputs": [],
   "source": [
    "df = spark.read.csv(\n",
    "    csv_path,\n",
    "    sep=\"\\t\",\n",
    "    header=True,\n",
    "    inferSchema=True\n",
    ")"
   ]
  },
  {
   "cell_type": "code",
   "execution_count": 7,
   "id": "b92509fd",
   "metadata": {},
   "outputs": [
    {
     "name": "stdout",
     "output_type": "stream",
     "text": [
      "+-----+------------------------------------------------------------------------------------+-------+----------+-------------------+---------------+----------------------+----------------+--------------+---------------------+-----------------------------+------------------------+------------+--------+---------+--------------+------------+--------------+--------------+-----------------+--------------+----------+---------------+-------------+-------+------------+----------+--------------------+-------------------------+------------------------------+------------------------------+-----------------------------+---------+--------------+------------------------+------+-----------+---------------+------+---------+--------------+------------+----------------------------------------------------------------------------------------------------------------------------------------------------------------------------------------------------------------------------------------------------------------------------------------------------------------------------------------------------------------------------------------------------------------------------------------------------------------------------------------------------------------------------------------------------------------+----------------------------------------------------------------------------------------------------------------------------------------------------------------------------------------------------------------------------------------------------------------------------------------------------------------------------------------------------------------------------------------------------------------------------------------------------------------------------------------------------------------------------------------------------------------------------------------+--------------------------------------------------------------------------------+---------+------------+------+-----------+---------+------------+----------------+-----------------+-----------+---------+--------------+------------+----------------+----------------+----------+-------------+-------------+-----------+----------------+--------------+----------------------------------------------------------------------------------------------------------------------------------------------------------------------------------------------------------------------------------------------------------------------------------------------------------------------------------------------------------------------------------------------------------------------------------------------------------------------------------------------------------------------------------------------------------------+-----------------------------------------------------------------------------------------------------------------------------------------------------------------------------------------------------------------------------------------------------------------------------------------------------------------------------------------------------------------------------------------------------------------------------------------------------------------------------------------------------------------------------------------------+-------------------------------------------------------------------------------------------------------------------------------------------------------------------------------------------------------------------------------------------------------------------------------------------------------------------------------------------------------------------------------------------------------------------------------------------------------------------------------+-----------+-------------------------+-------------------------+--------------------+----------------+-----+------------------------+--------------+-------------------------------------------------------------------------------------------------------------------------------------------------------------------------------------------------------------------------------------------------------------------------+------------+------------+-------------------+-------------+----------------+-------------------------------------------------------------------------------------+-------------------------------------------------------------------------------------+------------------------------------------------------------------------------------------+------------------------------------------------------------------------------------------+----------------------------------------------------------------------------------------+----------------------------------------------------------------------------------------+--------------+----------------+-----------+--------------------+--------+------------------+-----------------+-----------------+------------------+----------------+----------------+------------------+------------------+-----------------+-------------------+-----------------+--------------------+-----------------+------------------+------------------+--------------------+------------------------+----------------+------------------------+----------------+----------------+-------------------------+--------------------------+-------------------------+------------------+---------------------+-------------------------+--------------------------------+---------------+-----------------+-----------------+--------------+----------------+------------------+--------------+----------------+------------------+-----------+-----------------+------------+------------+-------------+--------------+------------+------------+------------------+-----------+------------+---------------+----------+------------------+--------------------+-------------+-----------+-------------------+----------------+---------+---------------+-----------+------------+--------------+------------------+--------------+--------------+--------------+--------------+---------------+---------------+---------------+---------------+---------------+------------+----------------+-----------+---------------------+-----------+----------------+--------------+-------------+------------+---------------+---------+--------------+---------+-----------+--------------+-------------+-------------+-------------+---------------+-----------+-------------+------------+-------+---------------------------+---------------------------------+------------------------------------+-----------------------------------------------------+--------------------------------+----------+---------------+---------------------+---------------------------------------+-----------------------+-----------------------+-------------------+-------------------+------------+------------------+----------------+-------------+--------------+-------------+------------+------------+------------------------+\n",
      "|code |url                                                                                 |creator|created_t |created_datetime   |last_modified_t|last_modified_datetime|last_modified_by|last_updated_t|last_updated_datetime|product_name                 |abbreviated_product_name|generic_name|quantity|packaging|packaging_tags|packaging_fr|packaging_text|brands        |brands_tags      |brands_fr     |categories|categories_tags|categories_fr|origins|origins_tags|origins_fr|manufacturing_places|manufacturing_places_tags|labels                        |labels_tags                   |labels_fr                    |emb_codes|emb_codes_tags|first_packaging_code_geo|cities|cities_tags|purchase_places|stores|countries|countries_tags|countries_fr|ingredients_text                                                                                                                                                                                                                                                                                                                                                                                                                                                                                                                                                |ingredients_tags                                                                                                                                                                                                                                                                                                                                                                                                                                                                                                                                                                        |ingredients_analysis_tags                                                       |allergens|allergens_fr|traces|traces_tags|traces_fr|serving_size|serving_quantity|no_nutrition_data|additives_n|additives|additives_tags|additives_fr|nutriscore_score|nutriscore_grade|nova_group|pnns_groups_1|pnns_groups_2|food_groups|food_groups_tags|food_groups_fr|states                                                                                                                                                                                                                                                                                                                                                                                                                                                                                                                                                          |states_tags                                                                                                                                                                                                                                                                                                                                                                                                                                                                                                                                    |states_fr                                                                                                                                                                                                                                                                                                                                                                                                                                                                      |brand_owner|environmental_score_score|environmental_score_grade|nutrient_levels_tags|product_quantity|owner|data_quality_errors_tags|unique_scans_n|popularity_tags                                                                                                                                                                                                                                                          |completeness|last_image_t|last_image_datetime|main_category|main_category_fr|image_url                                                                            |image_small_url                                                                      |image_ingredients_url                                                                     |image_ingredients_small_url                                                               |image_nutrition_url                                                                     |image_nutrition_small_url                                                               |energy-kj_100g|energy-kcal_100g|energy_100g|energy-from-fat_100g|fat_100g|saturated-fat_100g|butyric-acid_100g|caproic-acid_100g|caprylic-acid_100g|capric-acid_100g|lauric-acid_100g|myristic-acid_100g|palmitic-acid_100g|stearic-acid_100g|arachidic-acid_100g|behenic-acid_100g|lignoceric-acid_100g|cerotic-acid_100g|montanic-acid_100g|melissic-acid_100g|unsaturated-fat_100g|monounsaturated-fat_100g|omega-9-fat_100g|polyunsaturated-fat_100g|omega-3-fat_100g|omega-6-fat_100g|alpha-linolenic-acid_100g|eicosapentaenoic-acid_100g|docosahexaenoic-acid_100g|linoleic-acid_100g|arachidonic-acid_100g|gamma-linolenic-acid_100g|dihomo-gamma-linolenic-acid_100g|oleic-acid_100g|elaidic-acid_100g|gondoic-acid_100g|mead-acid_100g|erucic-acid_100g|nervonic-acid_100g|trans-fat_100g|cholesterol_100g|carbohydrates_100g|sugars_100g|added-sugars_100g|sucrose_100g|glucose_100g|fructose_100g|galactose_100g|lactose_100g|maltose_100g|maltodextrins_100g|starch_100g|polyols_100g|erythritol_100g|fiber_100g|soluble-fiber_100g|insoluble-fiber_100g|proteins_100g|casein_100g|serum-proteins_100g|nucleotides_100g|salt_100g|added-salt_100g|sodium_100g|alcohol_100g|vitamin-a_100g|beta-carotene_100g|vitamin-d_100g|vitamin-e_100g|vitamin-k_100g|vitamin-c_100g|vitamin-b1_100g|vitamin-b2_100g|vitamin-pp_100g|vitamin-b6_100g|vitamin-b9_100g|folates_100g|vitamin-b12_100g|biotin_100g|pantothenic-acid_100g|silica_100g|bicarbonate_100g|potassium_100g|chloride_100g|calcium_100g|phosphorus_100g|iron_100g|magnesium_100g|zinc_100g|copper_100g|manganese_100g|fluoride_100g|selenium_100g|chromium_100g|molybdenum_100g|iodine_100g|caffeine_100g|taurine_100g|ph_100g|fruits-vegetables-nuts_100g|fruits-vegetables-nuts-dried_100g|fruits-vegetables-nuts-estimate_100g|fruits-vegetables-nuts-estimate-from-ingredients_100g|collagen-meat-protein-ratio_100g|cocoa_100g|chlorophyl_100g|carbon-footprint_100g|carbon-footprint-from-meat-or-fish_100g|nutrition-score-fr_100g|nutrition-score-uk_100g|glycemic-index_100g|water-hardness_100g|choline_100g|phylloquinone_100g|beta-glucan_100g|inositol_100g|carnitine_100g|sulphate_100g|nitrate_100g|acidity_100g|carbohydrates-total_100g|\n",
      "+-----+------------------------------------------------------------------------------------+-------+----------+-------------------+---------------+----------------------+----------------+--------------+---------------------+-----------------------------+------------------------+------------+--------+---------+--------------+------------+--------------+--------------+-----------------+--------------+----------+---------------+-------------+-------+------------+----------+--------------------+-------------------------+------------------------------+------------------------------+-----------------------------+---------+--------------+------------------------+------+-----------+---------------+------+---------+--------------+------------+----------------------------------------------------------------------------------------------------------------------------------------------------------------------------------------------------------------------------------------------------------------------------------------------------------------------------------------------------------------------------------------------------------------------------------------------------------------------------------------------------------------------------------------------------------------+----------------------------------------------------------------------------------------------------------------------------------------------------------------------------------------------------------------------------------------------------------------------------------------------------------------------------------------------------------------------------------------------------------------------------------------------------------------------------------------------------------------------------------------------------------------------------------------+--------------------------------------------------------------------------------+---------+------------+------+-----------+---------+------------+----------------+-----------------+-----------+---------+--------------+------------+----------------+----------------+----------+-------------+-------------+-----------+----------------+--------------+----------------------------------------------------------------------------------------------------------------------------------------------------------------------------------------------------------------------------------------------------------------------------------------------------------------------------------------------------------------------------------------------------------------------------------------------------------------------------------------------------------------------------------------------------------------+-----------------------------------------------------------------------------------------------------------------------------------------------------------------------------------------------------------------------------------------------------------------------------------------------------------------------------------------------------------------------------------------------------------------------------------------------------------------------------------------------------------------------------------------------+-------------------------------------------------------------------------------------------------------------------------------------------------------------------------------------------------------------------------------------------------------------------------------------------------------------------------------------------------------------------------------------------------------------------------------------------------------------------------------+-----------+-------------------------+-------------------------+--------------------+----------------+-----+------------------------+--------------+-------------------------------------------------------------------------------------------------------------------------------------------------------------------------------------------------------------------------------------------------------------------------+------------+------------+-------------------+-------------+----------------+-------------------------------------------------------------------------------------+-------------------------------------------------------------------------------------+------------------------------------------------------------------------------------------+------------------------------------------------------------------------------------------+----------------------------------------------------------------------------------------+----------------------------------------------------------------------------------------+--------------+----------------+-----------+--------------------+--------+------------------+-----------------+-----------------+------------------+----------------+----------------+------------------+------------------+-----------------+-------------------+-----------------+--------------------+-----------------+------------------+------------------+--------------------+------------------------+----------------+------------------------+----------------+----------------+-------------------------+--------------------------+-------------------------+------------------+---------------------+-------------------------+--------------------------------+---------------+-----------------+-----------------+--------------+----------------+------------------+--------------+----------------+------------------+-----------+-----------------+------------+------------+-------------+--------------+------------+------------+------------------+-----------+------------+---------------+----------+------------------+--------------------+-------------+-----------+-------------------+----------------+---------+---------------+-----------+------------+--------------+------------------+--------------+--------------+--------------+--------------+---------------+---------------+---------------+---------------+---------------+------------+----------------+-----------+---------------------+-----------+----------------+--------------+-------------+------------+---------------+---------+--------------+---------+-----------+--------------+-------------+-------------+-------------+---------------+-----------+-------------+------------+-------+---------------------------+---------------------------------+------------------------------------+-----------------------------------------------------+--------------------------------+----------+---------------+---------------------+---------------------------------------+-----------------------+-----------------------+-------------------+-------------------+------------+------------------+----------------+-------------+--------------+-------------+------------+------------+------------------------+\n",
      "|54.0 |http://world-fr.openfoodfacts.org/produit/000000000054/limonade-artisanale-a-la-rose|kiliweb|1582569031|2020-02-24 19:30:31|1733085204     |2024-12-01 21:33:24   |NULL            |1740205422    |2025-02-22 07:23:42  |Limonade artisanale a la rose|NULL                    |NULL        |NULL    |NULL     |NULL          |NULL        |NULL          |NULL          |NULL             |NULL          |NULL      |NULL           |NULL         |NULL   |NULL        |NULL      |NULL                |NULL                     |NULL                          |NULL                          |NULL                         |NULL     |NULL          |NULL                    |NULL  |NULL       |NULL           |NULL  |en:fr    |en:france     |France      |NULL                                                                                                                                                                                                                                                                                                                                                                                                                                                                                                                                                            |NULL                                                                                                                                                                                                                                                                                                                                                                                                                                                                                                                                                                                    |NULL                                                                            |NULL     |NULL        |NULL  |NULL       |NULL     |NULL        |NULL            |NULL             |NULL       |NULL     |NULL          |NULL        |NULL            |unknown         |NULL      |unknown      |unknown      |NULL       |NULL            |NULL          |en:to-be-completed, en:nutrition-facts-to-be-completed, en:ingredients-to-be-completed, en:expiration-date-to-be-completed, en:packaging-code-to-be-completed, en:characteristics-to-be-completed, en:origins-to-be-completed, en:categories-to-be-completed, en:brands-to-be-completed, en:packaging-to-be-completed, en:quantity-to-be-completed, en:product-name-completed, en:photos-to-be-validated, en:packaging-photo-to-be-selected, en:nutrition-photo-to-be-selected, en:ingredients-photo-to-be-selected, en:front-photo-selected, en:photos-uploaded|en:to-be-completed,en:nutrition-facts-to-be-completed,en:ingredients-to-be-completed,en:expiration-date-to-be-completed,en:packaging-code-to-be-completed,en:characteristics-to-be-completed,en:origins-to-be-completed,en:categories-to-be-completed,en:brands-to-be-completed,en:packaging-to-be-completed,en:quantity-to-be-completed,en:product-name-completed,en:photos-to-be-validated,en:packaging-photo-to-be-selected,en:nutrition-photo-to-be-selected,en:ingredients-photo-to-be-selected,en:front-photo-selected,en:photos-uploaded|À compléter,Informations nutritionnelles à compléter,Ingrédients à compléter,Date limite à compléter,Code emballeur à compléter,Caractéristiques à compléter,Origines à compléter,Catégories à compléter,Marques à compléter,Emballage à compléter,Quantité à compléter,Nom du produit complété,Photos à valider,Photo de l'emballage non sélectionnée,Photo de la nutrition non sélectionnée,Photo des ingrédients non sélectionnée,Photo de face sélectionnée,Photos envoyées|NULL       |NULL                     |unknown                  |NULL                |NULL            |NULL |NULL                    |NULL          |NULL                                                                                                                                                                                                                                                                     |0.1625      |1733085204  |2024-12-01 21:33:24|NULL         |NULL            |https://images.openfoodfacts.org/images/products/000/000/000/0054/front_fr.3.400.jpg |https://images.openfoodfacts.org/images/products/000/000/000/0054/front_fr.3.200.jpg |NULL                                                                                      |NULL                                                                                      |NULL                                                                                    |NULL                                                                                    |NULL          |NULL            |NULL       |NULL                |NULL    |NULL              |NULL             |NULL             |NULL              |NULL            |NULL            |NULL              |NULL              |NULL             |NULL               |NULL             |NULL                |NULL             |NULL              |NULL              |NULL                |NULL                    |NULL            |NULL                    |NULL            |NULL            |NULL                     |NULL                      |NULL                     |NULL              |NULL                 |NULL                     |NULL                            |NULL           |NULL             |NULL             |NULL          |NULL            |NULL              |NULL          |NULL            |NULL              |NULL       |NULL             |NULL        |NULL        |NULL         |NULL          |NULL        |NULL        |NULL              |NULL       |NULL        |NULL           |NULL      |NULL              |NULL                |NULL         |NULL       |NULL               |NULL            |NULL     |NULL           |NULL       |NULL        |NULL          |NULL              |NULL          |NULL          |NULL          |NULL          |NULL           |NULL           |NULL           |NULL           |NULL           |NULL        |NULL            |NULL       |NULL                 |NULL       |NULL            |NULL          |NULL         |NULL        |NULL           |NULL     |NULL          |NULL     |NULL       |NULL          |NULL         |NULL         |NULL         |NULL           |NULL       |NULL         |NULL        |NULL   |NULL                       |NULL                             |NULL                                |NULL                                                 |NULL                            |NULL      |NULL           |NULL                 |NULL                                   |NULL                   |NULL                   |NULL               |NULL               |NULL        |NULL              |NULL            |NULL         |NULL          |NULL         |NULL        |NULL        |NULL                    |\n",
      "|63.0 |http://world-fr.openfoodfacts.org/produit/000000000063/m-amp-m-white-fitpiggy       |kiliweb|1673620307|2023-01-13 15:31:47|1750061386     |2025-06-16 10:09:46   |bodysupport     |1750061386    |2025-06-16 10:09:46  |M&amp;M white                |NULL                    |NULL        |80 gram |NULL     |NULL          |NULL        |NULL          |Fitpiggy      |xx:fitpiggy      |fitpiggy      |NULL      |NULL           |NULL         |NULL   |NULL        |NULL      |NULL                |NULL                     |NULL                          |NULL                          |NULL                         |NULL     |NULL          |NULL                    |NULL  |NULL       |NULL           |NULL  |en:fr    |en:france     |France      |Weizenmehl, Rapsöl, Speisesalz, 1,7% Meersalz, Fefe, Gerstenmaizextrakt, Säureregulator: Natrium - hydroxid; Backtriebnittel: Ammoniumcarbonate. Das Produkt kann Spuren von Sesam enthalten. DURCHSCHNITTLICHE NÄHRWERTE - pro %RM* 100g pro 100g Brennwert kJ/kcal 1630/385 19% Fett 3,7g 5% davon: - gesättigte Fettsäuren 0,6g 3% Kohlenhydrate 74,0g 28% davon: - Zucker 2,4g 3% Ballaststoffe 3,9g 12,0g 24% Eiweiß 3,9g 65% Salz *Referenzmenge für einen durchschnittlichen Erwachsenen (8400 kJ/2000 kcal) AP EDEKA KUNDEN UND ERNÄHRUNGSSERVICE 2509 (|en:weizenmehl,en:rapsol,en:speisesalz,en:meersalz,en:fefe,en:gerstenmaizextrakt,en:saureregulator,en:hydroxid,en:backtriebnittel,en:pro-rm-100g-pro-100g-brennwert-kj,en:kcal-1630,en:385-19-fett-3-7-5-davon,en:gesattigte-fettsauren-0-6-3-kohlenhydrate-74-28-davon,en:zucker-2-4-3-ballaststoffe-3-9-12-24-eiweiss-3-9-65-salz-referenzmenge-fur-einen-durchschnittlichen-erwachsenen,en:ap-edeka-kunden-und-ernahrungsservice-2509,en:sodium,en:minerals,en:ammoniumcarbonate,en:das-produkt-kann-spuren-von-sesam-enthalten,en:durchschnittliche-nahrwerte,en:8400-kj,en:2000-kcal|en:palm-oil-content-unknown,en:vegan-status-unknown,en:vegetarian-status-unknown|NULL     |NULL        |NULL  |NULL       |NULL     |80 gram     |80.0            |NULL             |0          |NULL     |NULL          |NULL        |NULL            |unknown         |NULL      |unknown      |unknown      |NULL       |NULL            |NULL          |en:to-be-completed, en:nutrition-facts-completed, en:ingredients-completed, en:expiration-date-completed, en:packaging-code-to-be-completed, en:characteristics-to-be-completed, en:origins-to-be-completed, en:categories-to-be-completed, en:brands-completed, en:packaging-to-be-completed, en:quantity-completed, en:product-name-completed, en:photos-to-be-validated, en:packaging-photo-to-be-selected, en:nutrition-photo-to-be-selected, en:ingredients-photo-to-be-selected, en:front-photo-selected, en:photos-uploaded                              |en:to-be-completed,en:nutrition-facts-completed,en:ingredients-completed,en:expiration-date-completed,en:packaging-code-to-be-completed,en:characteristics-to-be-completed,en:origins-to-be-completed,en:categories-to-be-completed,en:brands-completed,en:packaging-to-be-completed,en:quantity-completed,en:product-name-completed,en:photos-to-be-validated,en:packaging-photo-to-be-selected,en:nutrition-photo-to-be-selected,en:ingredients-photo-to-be-selected,en:front-photo-selected,en:photos-uploaded                              |À compléter,Informations nutritionnelles complétées,Ingrédients complétés,Date limite complétée,Code emballeur à compléter,Caractéristiques à compléter,Origines à compléter,Catégories à compléter,Marques complétées,Emballage à compléter,Quantité complétée,Nom du produit complété,Photos à valider,Photo de l'emballage non sélectionnée,Photo de la nutrition non sélectionnée,Photo des ingrédients non sélectionnée,Photo de face sélectionnée,Photos envoyées        |NULL       |NULL                     |unknown                  |NULL                |80.0            |NULL |NULL                    |1             |top-75-percent-scans-2024,top-80-percent-scans-2024,top-85-percent-scans-2024,top-90-percent-scans-2024,top-50000-us-scans-2024,top-100000-us-scans-2024,top-country-us-scans-2024                                                                                       |0.6625      |1746257766  |2025-05-03 09:36:06|NULL         |NULL            |https://images.openfoodfacts.org/images/products/000/000/000/0063/front_fr.17.400.jpg|https://images.openfoodfacts.org/images/products/000/000/000/0063/front_fr.17.200.jpg|https://images.openfoodfacts.org/images/products/000/000/000/0063/ingredients_de.8.400.jpg|https://images.openfoodfacts.org/images/products/000/000/000/0063/ingredients_de.8.200.jpg|NULL                                                                                    |NULL                                                                                    |NULL          |359.0           |1502.0     |NULL                |19.0    |17.3              |NULL             |NULL             |NULL              |NULL            |NULL            |NULL              |NULL              |NULL             |NULL               |NULL             |NULL                |NULL             |NULL              |NULL              |NULL                |NULL                    |NULL            |NULL                    |NULL            |NULL            |NULL                     |NULL                      |NULL                     |NULL              |NULL                 |NULL                     |NULL                            |NULL           |NULL             |NULL             |NULL          |NULL            |NULL              |NULL          |NULL            |26.0              |1.0        |NULL             |NULL        |NULL        |NULL         |NULL          |NULL        |NULL        |NULL              |NULL       |NULL        |NULL           |NULL      |NULL              |NULL                |17.0         |NULL       |NULL               |NULL            |1.2      |NULL           |0.48       |NULL        |NULL          |NULL              |NULL          |NULL          |NULL          |NULL          |NULL           |NULL           |NULL           |NULL           |NULL           |NULL        |NULL            |NULL       |NULL                 |NULL       |NULL            |NULL          |NULL         |NULL        |NULL           |NULL     |NULL          |NULL     |NULL       |NULL          |NULL         |NULL         |NULL         |NULL           |NULL       |NULL         |NULL        |NULL   |NULL                       |NULL                             |NULL                                |0.0                                                  |NULL                            |NULL      |NULL           |NULL                 |NULL                                   |NULL                   |NULL                   |NULL               |NULL               |NULL        |NULL              |NULL            |NULL         |NULL          |NULL         |NULL        |NULL        |NULL                    |\n",
      "|114.0|http://world-fr.openfoodfacts.org/produit/000000000114/chocolate-n-3-jeff-de-bruges |kiliweb|1580066482|2020-01-26 20:21:22|1737247862     |2025-01-19 01:51:02   |smoothie-app    |1743312145    |2025-03-30 07:22:25  |Chocolate n 3                |NULL                    |NULL        |80 g    |NULL     |NULL          |NULL        |NULL          |Jeff de Bruges|xx:jeff-de-bruges|jeff-de-bruges|NULL      |NULL           |NULL         |NULL   |NULL        |NULL      |NULL                |NULL                     |Point Vert, Fabriqué en France|en:green-dot,en:made-in-france|Point Vert,Fabriqué en France|NULL     |NULL          |NULL                    |NULL  |NULL       |NULL           |NULL  |France   |en:france     |France      |NULL                                                                                                                                                                                                                                                                                                                                                                                                                                                                                                                                                            |NULL                                                                                                                                                                                                                                                                                                                                                                                                                                                                                                                                                                                    |NULL                                                                            |NULL     |NULL        |NULL  |NULL       |NULL     |NULL        |NULL            |NULL             |NULL       |NULL     |NULL          |NULL        |NULL            |unknown         |NULL      |unknown      |unknown      |NULL       |NULL            |NULL          |en:to-be-completed, en:nutrition-facts-completed, en:ingredients-to-be-completed, en:expiration-date-to-be-completed, en:packaging-code-to-be-completed, en:characteristics-to-be-completed, en:origins-to-be-completed, en:categories-to-be-completed, en:brands-completed, en:packaging-to-be-completed, en:quantity-completed, en:product-name-completed, en:photos-to-be-validated, en:packaging-photo-to-be-selected, en:nutrition-photo-selected, en:ingredients-photo-to-be-selected, en:front-photo-selected, en:photos-uploaded                        |en:to-be-completed,en:nutrition-facts-completed,en:ingredients-to-be-completed,en:expiration-date-to-be-completed,en:packaging-code-to-be-completed,en:characteristics-to-be-completed,en:origins-to-be-completed,en:categories-to-be-completed,en:brands-completed,en:packaging-to-be-completed,en:quantity-completed,en:product-name-completed,en:photos-to-be-validated,en:packaging-photo-to-be-selected,en:nutrition-photo-selected,en:ingredients-photo-to-be-selected,en:front-photo-selected,en:photos-uploaded                        |À compléter,Informations nutritionnelles complétées,Ingrédients à compléter,Date limite à compléter,Code emballeur à compléter,Caractéristiques à compléter,Origines à compléter,Catégories à compléter,Marques complétées,Emballage à compléter,Quantité complétée,Nom du produit complété,Photos à valider,Photo de l'emballage non sélectionnée,Photo de la nutrition sélectionnée,Photo des ingrédients non sélectionnée,Photo de face sélectionnée,Photos envoyées        |NULL       |NULL                     |unknown                  |NULL                |80.0            |NULL |NULL                    |1             |bottom-25-percent-scans-2022,bottom-20-percent-scans-2022,top-85-percent-scans-2022,top-90-percent-scans-2022,top-country-fr-scans-2022,top-75-percent-scans-2024,top-80-percent-scans-2024,top-85-percent-scans-2024,top-90-percent-scans-2024,top-country-fr-scans-2024|0.475       |1737247860  |2025-01-19 01:51:00|NULL         |NULL            |https://images.openfoodfacts.org/images/products/000/000/000/0114/front_fr.21.400.jpg|https://images.openfoodfacts.org/images/products/000/000/000/0114/front_fr.21.200.jpg|NULL                                                                                      |NULL                                                                                      |https://images.openfoodfacts.org/images/products/000/000/000/0114/nutrition_fr.5.400.jpg|https://images.openfoodfacts.org/images/products/000/000/000/0114/nutrition_fr.5.200.jpg|2415.0        |NULL            |2415.0     |NULL                |44.0    |28.0              |NULL             |NULL             |NULL              |NULL            |NULL            |NULL              |NULL              |NULL             |NULL               |NULL             |NULL                |NULL             |NULL              |NULL              |NULL                |NULL                    |NULL            |NULL                    |NULL            |NULL            |NULL                     |NULL                      |NULL                     |NULL              |NULL                 |NULL                     |NULL                            |NULL           |NULL             |NULL             |NULL          |NULL            |NULL              |NULL          |NULL            |30.0              |27.0       |NULL             |NULL        |NULL        |NULL         |NULL          |NULL        |NULL        |NULL              |NULL       |NULL        |NULL           |NULL      |NULL              |NULL                |7.1          |NULL       |NULL               |NULL            |0.025    |NULL           |0.01       |NULL        |NULL          |NULL              |NULL          |NULL          |NULL          |NULL          |NULL           |NULL           |NULL           |NULL           |NULL           |NULL        |NULL            |NULL       |NULL                 |NULL       |NULL            |NULL          |NULL         |NULL        |NULL           |NULL     |NULL          |NULL     |NULL       |NULL          |NULL         |NULL         |NULL         |NULL           |NULL       |NULL         |NULL        |NULL   |NULL                       |NULL                             |NULL                                |NULL                                                 |NULL                            |NULL      |NULL           |NULL                 |NULL                                   |NULL                   |NULL                   |NULL               |NULL               |NULL        |NULL              |NULL            |NULL         |NULL          |NULL         |NULL        |NULL        |NULL                    |\n",
      "+-----+------------------------------------------------------------------------------------+-------+----------+-------------------+---------------+----------------------+----------------+--------------+---------------------+-----------------------------+------------------------+------------+--------+---------+--------------+------------+--------------+--------------+-----------------+--------------+----------+---------------+-------------+-------+------------+----------+--------------------+-------------------------+------------------------------+------------------------------+-----------------------------+---------+--------------+------------------------+------+-----------+---------------+------+---------+--------------+------------+----------------------------------------------------------------------------------------------------------------------------------------------------------------------------------------------------------------------------------------------------------------------------------------------------------------------------------------------------------------------------------------------------------------------------------------------------------------------------------------------------------------------------------------------------------------+----------------------------------------------------------------------------------------------------------------------------------------------------------------------------------------------------------------------------------------------------------------------------------------------------------------------------------------------------------------------------------------------------------------------------------------------------------------------------------------------------------------------------------------------------------------------------------------+--------------------------------------------------------------------------------+---------+------------+------+-----------+---------+------------+----------------+-----------------+-----------+---------+--------------+------------+----------------+----------------+----------+-------------+-------------+-----------+----------------+--------------+----------------------------------------------------------------------------------------------------------------------------------------------------------------------------------------------------------------------------------------------------------------------------------------------------------------------------------------------------------------------------------------------------------------------------------------------------------------------------------------------------------------------------------------------------------------+-----------------------------------------------------------------------------------------------------------------------------------------------------------------------------------------------------------------------------------------------------------------------------------------------------------------------------------------------------------------------------------------------------------------------------------------------------------------------------------------------------------------------------------------------+-------------------------------------------------------------------------------------------------------------------------------------------------------------------------------------------------------------------------------------------------------------------------------------------------------------------------------------------------------------------------------------------------------------------------------------------------------------------------------+-----------+-------------------------+-------------------------+--------------------+----------------+-----+------------------------+--------------+-------------------------------------------------------------------------------------------------------------------------------------------------------------------------------------------------------------------------------------------------------------------------+------------+------------+-------------------+-------------+----------------+-------------------------------------------------------------------------------------+-------------------------------------------------------------------------------------+------------------------------------------------------------------------------------------+------------------------------------------------------------------------------------------+----------------------------------------------------------------------------------------+----------------------------------------------------------------------------------------+--------------+----------------+-----------+--------------------+--------+------------------+-----------------+-----------------+------------------+----------------+----------------+------------------+------------------+-----------------+-------------------+-----------------+--------------------+-----------------+------------------+------------------+--------------------+------------------------+----------------+------------------------+----------------+----------------+-------------------------+--------------------------+-------------------------+------------------+---------------------+-------------------------+--------------------------------+---------------+-----------------+-----------------+--------------+----------------+------------------+--------------+----------------+------------------+-----------+-----------------+------------+------------+-------------+--------------+------------+------------+------------------+-----------+------------+---------------+----------+------------------+--------------------+-------------+-----------+-------------------+----------------+---------+---------------+-----------+------------+--------------+------------------+--------------+--------------+--------------+--------------+---------------+---------------+---------------+---------------+---------------+------------+----------------+-----------+---------------------+-----------+----------------+--------------+-------------+------------+---------------+---------+--------------+---------+-----------+--------------+-------------+-------------+-------------+---------------+-----------+-------------+------------+-------+---------------------------+---------------------------------+------------------------------------+-----------------------------------------------------+--------------------------------+----------+---------------+---------------------+---------------------------------------+-----------------------+-----------------------+-------------------+-------------------+------------+------------------+----------------+-------------+--------------+-------------+------------+------------+------------------------+\n",
      "only showing top 3 rows\n"
     ]
    }
   ],
   "source": [
    "df.show(3, truncate=False)"
   ]
  },
  {
   "cell_type": "code",
   "execution_count": null,
   "id": "dcfabf9a",
   "metadata": {},
   "outputs": [],
   "source": [
    "df = df.orderBy(F.rand())"
   ]
  },
  {
   "cell_type": "code",
   "execution_count": 13,
   "id": "44055ebf",
   "metadata": {},
   "outputs": [
    {
     "data": {
      "text/plain": [
       "['code',\n",
       " 'url',\n",
       " 'creator',\n",
       " 'created_t',\n",
       " 'created_datetime',\n",
       " 'last_modified_t',\n",
       " 'last_modified_datetime',\n",
       " 'last_modified_by',\n",
       " 'last_updated_t',\n",
       " 'last_updated_datetime',\n",
       " 'product_name',\n",
       " 'abbreviated_product_name',\n",
       " 'generic_name',\n",
       " 'quantity',\n",
       " 'packaging',\n",
       " 'packaging_tags',\n",
       " 'packaging_fr',\n",
       " 'packaging_text',\n",
       " 'brands',\n",
       " 'brands_tags',\n",
       " 'brands_fr',\n",
       " 'categories',\n",
       " 'categories_tags',\n",
       " 'categories_fr',\n",
       " 'origins',\n",
       " 'origins_tags',\n",
       " 'origins_fr',\n",
       " 'manufacturing_places',\n",
       " 'manufacturing_places_tags',\n",
       " 'labels',\n",
       " 'labels_tags',\n",
       " 'labels_fr',\n",
       " 'emb_codes',\n",
       " 'emb_codes_tags',\n",
       " 'first_packaging_code_geo',\n",
       " 'cities',\n",
       " 'cities_tags',\n",
       " 'purchase_places',\n",
       " 'stores',\n",
       " 'countries',\n",
       " 'countries_tags',\n",
       " 'countries_fr',\n",
       " 'ingredients_text',\n",
       " 'ingredients_tags',\n",
       " 'ingredients_analysis_tags',\n",
       " 'allergens',\n",
       " 'allergens_fr',\n",
       " 'traces',\n",
       " 'traces_tags',\n",
       " 'traces_fr',\n",
       " 'serving_size',\n",
       " 'serving_quantity',\n",
       " 'no_nutrition_data',\n",
       " 'additives_n',\n",
       " 'additives',\n",
       " 'additives_tags',\n",
       " 'additives_fr',\n",
       " 'nutriscore_score',\n",
       " 'nutriscore_grade',\n",
       " 'nova_group',\n",
       " 'pnns_groups_1',\n",
       " 'pnns_groups_2',\n",
       " 'food_groups',\n",
       " 'food_groups_tags',\n",
       " 'food_groups_fr',\n",
       " 'states',\n",
       " 'states_tags',\n",
       " 'states_fr',\n",
       " 'brand_owner',\n",
       " 'environmental_score_score',\n",
       " 'environmental_score_grade',\n",
       " 'nutrient_levels_tags',\n",
       " 'product_quantity',\n",
       " 'owner',\n",
       " 'data_quality_errors_tags',\n",
       " 'unique_scans_n',\n",
       " 'popularity_tags',\n",
       " 'completeness',\n",
       " 'last_image_t',\n",
       " 'last_image_datetime',\n",
       " 'main_category',\n",
       " 'main_category_fr',\n",
       " 'image_url',\n",
       " 'image_small_url',\n",
       " 'image_ingredients_url',\n",
       " 'image_ingredients_small_url',\n",
       " 'image_nutrition_url',\n",
       " 'image_nutrition_small_url',\n",
       " 'energy-kj_100g',\n",
       " 'energy-kcal_100g',\n",
       " 'energy_100g',\n",
       " 'energy-from-fat_100g',\n",
       " 'fat_100g',\n",
       " 'saturated-fat_100g',\n",
       " 'butyric-acid_100g',\n",
       " 'caproic-acid_100g',\n",
       " 'caprylic-acid_100g',\n",
       " 'capric-acid_100g',\n",
       " 'lauric-acid_100g',\n",
       " 'myristic-acid_100g',\n",
       " 'palmitic-acid_100g',\n",
       " 'stearic-acid_100g',\n",
       " 'arachidic-acid_100g',\n",
       " 'behenic-acid_100g',\n",
       " 'lignoceric-acid_100g',\n",
       " 'cerotic-acid_100g',\n",
       " 'montanic-acid_100g',\n",
       " 'melissic-acid_100g',\n",
       " 'unsaturated-fat_100g',\n",
       " 'monounsaturated-fat_100g',\n",
       " 'omega-9-fat_100g',\n",
       " 'polyunsaturated-fat_100g',\n",
       " 'omega-3-fat_100g',\n",
       " 'omega-6-fat_100g',\n",
       " 'alpha-linolenic-acid_100g',\n",
       " 'eicosapentaenoic-acid_100g',\n",
       " 'docosahexaenoic-acid_100g',\n",
       " 'linoleic-acid_100g',\n",
       " 'arachidonic-acid_100g',\n",
       " 'gamma-linolenic-acid_100g',\n",
       " 'dihomo-gamma-linolenic-acid_100g',\n",
       " 'oleic-acid_100g',\n",
       " 'elaidic-acid_100g',\n",
       " 'gondoic-acid_100g',\n",
       " 'mead-acid_100g',\n",
       " 'erucic-acid_100g',\n",
       " 'nervonic-acid_100g',\n",
       " 'trans-fat_100g',\n",
       " 'cholesterol_100g',\n",
       " 'carbohydrates_100g',\n",
       " 'sugars_100g',\n",
       " 'added-sugars_100g',\n",
       " 'sucrose_100g',\n",
       " 'glucose_100g',\n",
       " 'fructose_100g',\n",
       " 'galactose_100g',\n",
       " 'lactose_100g',\n",
       " 'maltose_100g',\n",
       " 'maltodextrins_100g',\n",
       " 'starch_100g',\n",
       " 'polyols_100g',\n",
       " 'erythritol_100g',\n",
       " 'fiber_100g',\n",
       " 'soluble-fiber_100g',\n",
       " 'insoluble-fiber_100g',\n",
       " 'proteins_100g',\n",
       " 'casein_100g',\n",
       " 'serum-proteins_100g',\n",
       " 'nucleotides_100g',\n",
       " 'salt_100g',\n",
       " 'added-salt_100g',\n",
       " 'sodium_100g',\n",
       " 'alcohol_100g',\n",
       " 'vitamin-a_100g',\n",
       " 'beta-carotene_100g',\n",
       " 'vitamin-d_100g',\n",
       " 'vitamin-e_100g',\n",
       " 'vitamin-k_100g',\n",
       " 'vitamin-c_100g',\n",
       " 'vitamin-b1_100g',\n",
       " 'vitamin-b2_100g',\n",
       " 'vitamin-pp_100g',\n",
       " 'vitamin-b6_100g',\n",
       " 'vitamin-b9_100g',\n",
       " 'folates_100g',\n",
       " 'vitamin-b12_100g',\n",
       " 'biotin_100g',\n",
       " 'pantothenic-acid_100g',\n",
       " 'silica_100g',\n",
       " 'bicarbonate_100g',\n",
       " 'potassium_100g',\n",
       " 'chloride_100g',\n",
       " 'calcium_100g',\n",
       " 'phosphorus_100g',\n",
       " 'iron_100g',\n",
       " 'magnesium_100g',\n",
       " 'zinc_100g',\n",
       " 'copper_100g',\n",
       " 'manganese_100g',\n",
       " 'fluoride_100g',\n",
       " 'selenium_100g',\n",
       " 'chromium_100g',\n",
       " 'molybdenum_100g',\n",
       " 'iodine_100g',\n",
       " 'caffeine_100g',\n",
       " 'taurine_100g',\n",
       " 'ph_100g',\n",
       " 'fruits-vegetables-nuts_100g',\n",
       " 'fruits-vegetables-nuts-dried_100g',\n",
       " 'fruits-vegetables-nuts-estimate_100g',\n",
       " 'fruits-vegetables-nuts-estimate-from-ingredients_100g',\n",
       " 'collagen-meat-protein-ratio_100g',\n",
       " 'cocoa_100g',\n",
       " 'chlorophyl_100g',\n",
       " 'carbon-footprint_100g',\n",
       " 'carbon-footprint-from-meat-or-fish_100g',\n",
       " 'nutrition-score-fr_100g',\n",
       " 'nutrition-score-uk_100g',\n",
       " 'glycemic-index_100g',\n",
       " 'water-hardness_100g',\n",
       " 'choline_100g',\n",
       " 'phylloquinone_100g',\n",
       " 'beta-glucan_100g',\n",
       " 'inositol_100g',\n",
       " 'carnitine_100g',\n",
       " 'sulphate_100g',\n",
       " 'nitrate_100g',\n",
       " 'acidity_100g',\n",
       " 'carbohydrates-total_100g']"
      ]
     },
     "execution_count": 13,
     "metadata": {},
     "output_type": "execute_result"
    }
   ],
   "source": [
    "df.columns"
   ]
  },
  {
   "cell_type": "code",
   "execution_count": 14,
   "id": "a08d7bfe",
   "metadata": {},
   "outputs": [
    {
     "name": "stdout",
     "output_type": "stream",
     "text": [
      "+----------------+-----+\n",
      "|nutriscore_grade|count|\n",
      "+----------------+-----+\n",
      "|         unknown|12912|\n",
      "|               e| 1870|\n",
      "|               d| 1634|\n",
      "|               c| 1316|\n",
      "|               a|  931|\n",
      "|               b|  766|\n",
      "|  not-applicable|  415|\n",
      "|            NULL|  156|\n",
      "+----------------+-----+\n",
      "\n"
     ]
    }
   ],
   "source": [
    "df.limit(20000).groupBy(\"nutriscore_grade\").count().orderBy(\"count\", ascending=False).show()"
   ]
  },
  {
   "cell_type": "code",
   "execution_count": 16,
   "id": "ce1c8d4d",
   "metadata": {},
   "outputs": [
    {
     "name": "stdout",
     "output_type": "stream",
     "text": [
      "+----------------+-----+\n",
      "|nutriscore_score|count|\n",
      "+----------------+-----+\n",
      "|            NULL|13483|\n",
      "|               0|  450|\n",
      "|               4|  268|\n",
      "|               2|  250|\n",
      "|              19|  242|\n",
      "|              11|  238|\n",
      "|               3|  236|\n",
      "|               1|  228|\n",
      "|              15|  221|\n",
      "|               5|  219|\n",
      "|              13|  218|\n",
      "|              14|  218|\n",
      "|              20|  213|\n",
      "|              12|  213|\n",
      "|              -1|  206|\n",
      "|              16|  203|\n",
      "|              17|  193|\n",
      "|              18|  189|\n",
      "|               6|  187|\n",
      "|               7|  157|\n",
      "+----------------+-----+\n",
      "only showing top 20 rows\n"
     ]
    }
   ],
   "source": [
    "df.limit(20000).groupBy(\"nutriscore_score\").count().orderBy(\"count\", ascending=False).show()"
   ]
  },
  {
   "cell_type": "code",
   "execution_count": 15,
   "id": "00509843",
   "metadata": {},
   "outputs": [
    {
     "name": "stdout",
     "output_type": "stream",
     "text": [
      "+----------+-----+\n",
      "|nova_group|count|\n",
      "+----------+-----+\n",
      "|      NULL|14748|\n",
      "|         4| 3313|\n",
      "|         3| 1005|\n",
      "|         1|  614|\n",
      "|         2|  320|\n",
      "+----------+-----+\n",
      "\n"
     ]
    }
   ],
   "source": [
    "df.limit(20000).groupBy(\"nova_group\").count().orderBy(\"count\", ascending=False).show()"
   ]
  },
  {
   "cell_type": "code",
   "execution_count": 17,
   "id": "b2932f7a",
   "metadata": {},
   "outputs": [
    {
     "name": "stdout",
     "output_type": "stream",
     "text": [
      "+-----------+-----+\n",
      "|additives_n|count|\n",
      "+-----------+-----+\n",
      "|       NULL|14105|\n",
      "|          0| 2691|\n",
      "|          1|  976|\n",
      "|          2|  620|\n",
      "|          3|  455|\n",
      "|          4|  328|\n",
      "|          5|  255|\n",
      "|          6|  174|\n",
      "|          7|  110|\n",
      "|          8|   93|\n",
      "|          9|   64|\n",
      "|         10|   39|\n",
      "|         11|   20|\n",
      "|         12|   18|\n",
      "|         13|   13|\n",
      "|         14|    7|\n",
      "|         18|    6|\n",
      "|         17|    5|\n",
      "|         15|    4|\n",
      "|         21|    4|\n",
      "+-----------+-----+\n",
      "only showing top 20 rows\n"
     ]
    }
   ],
   "source": [
    "df.limit(20000).groupBy(\"additives_n\").count().orderBy(\"count\", ascending=False).show()"
   ]
  },
  {
   "cell_type": "code",
   "execution_count": null,
   "id": "841f5a42",
   "metadata": {},
   "outputs": [],
   "source": []
  },
  {
   "cell_type": "markdown",
   "id": "f3f9531a",
   "metadata": {},
   "source": [
    "### ML"
   ]
  },
  {
   "cell_type": "code",
   "execution_count": 6,
   "id": "83c90294",
   "metadata": {},
   "outputs": [],
   "source": [
    "from pyspark.ml.feature import VectorAssembler, StringIndexer\n",
    "from pyspark.ml.classification import RandomForestClassifier\n",
    "from pyspark.ml.regression import RandomForestRegressor\n",
    "from pyspark.ml import Pipeline"
   ]
  },
  {
   "cell_type": "code",
   "execution_count": 7,
   "id": "a1389eb7",
   "metadata": {},
   "outputs": [],
   "source": [
    "df = df.withColumn(\n",
    "    \"nutriscore_grade_num\",\n",
    "    F.when(F.col(\"nutriscore_grade\") == \"a\", 1)\n",
    "     .when(F.col(\"nutriscore_grade\") == \"b\", 2)\n",
    "     .when(F.col(\"nutriscore_grade\") == \"c\", 3)\n",
    "     .when(F.col(\"nutriscore_grade\") == \"d\", 4)\n",
    "     .when(F.col(\"nutriscore_grade\") == \"e\", 5)\n",
    ")"
   ]
  },
  {
   "cell_type": "code",
   "execution_count": 27,
   "id": "373c1850",
   "metadata": {},
   "outputs": [
    {
     "name": "stdout",
     "output_type": "stream",
     "text": [
      "+--------+-----+\n",
      "|fat_100g|count|\n",
      "+--------+-----+\n",
      "|    NULL| 5348|\n",
      "|     0.0| 2244|\n",
      "|     0.5|  408|\n",
      "|     1.0|  183|\n",
      "|     0.1|  174|\n",
      "|    20.0|  172|\n",
      "|    10.0|  164|\n",
      "|    15.0|  162|\n",
      "|    25.0|  151|\n",
      "|    16.0|  130|\n",
      "|     3.0|  126|\n",
      "|    30.0|  122|\n",
      "|    19.0|  122|\n",
      "|     2.0|  120|\n",
      "|    18.0|  117|\n",
      "|     0.2|  116|\n",
      "|    13.0|  116|\n",
      "|    12.0|  115|\n",
      "|    14.0|  113|\n",
      "|    23.0|  111|\n",
      "+--------+-----+\n",
      "only showing top 20 rows\n"
     ]
    }
   ],
   "source": [
    "df.limit(20000).groupBy(\"fat_100g\").count().orderBy(\"count\", ascending=False).show()"
   ]
  },
  {
   "cell_type": "code",
   "execution_count": 8,
   "id": "5e238d85",
   "metadata": {},
   "outputs": [],
   "source": [
    "features = ['fat_100g', 'sugars_100g', 'salt_100g', 'fiber_100g', 'proteins_100g']"
   ]
  },
  {
   "cell_type": "code",
   "execution_count": 11,
   "id": "e02e47ca",
   "metadata": {},
   "outputs": [
    {
     "name": "stdout",
     "output_type": "stream",
     "text": [
      "+----------------+--------------------+-------+\n",
      "|nutriscore_grade|nutriscore_grade_num|  count|\n",
      "+----------------+--------------------+-------+\n",
      "|               b|                   2| 148012|\n",
      "|         unknown|                NULL|2525423|\n",
      "|            NULL|                NULL|  28101|\n",
      "|               a|                   1| 180131|\n",
      "|               e|                   5| 361562|\n",
      "|               c|                   3| 262868|\n",
      "|  not-applicable|                NULL|  86732|\n",
      "|               d|                   4| 323411|\n",
      "+----------------+--------------------+-------+\n",
      "\n"
     ]
    }
   ],
   "source": [
    "df.select(\"nutriscore_grade\", \"nutriscore_grade_num\").groupBy(\"nutriscore_grade\", \"nutriscore_grade_num\").count().show()"
   ]
  },
  {
   "cell_type": "code",
   "execution_count": 9,
   "id": "970189ad",
   "metadata": {},
   "outputs": [],
   "source": [
    "df_clean = df.select(features + [\"nutriscore_grade_num\", \"nova_group\", \"additives_n\"]) \\\n",
    "             .dropna(subset=features + [\"nutriscore_grade_num\", \"nova_group\", \"additives_n\"])"
   ]
  },
  {
   "cell_type": "code",
   "execution_count": 10,
   "id": "1187b36e",
   "metadata": {},
   "outputs": [
    {
     "name": "stdout",
     "output_type": "stream",
     "text": [
      "+--------------------+-----+\n",
      "|nutriscore_grade_num|count|\n",
      "+--------------------+-----+\n",
      "|                   5| 6152|\n",
      "|                   4| 4419|\n",
      "|                   1| 4187|\n",
      "|                   3| 3378|\n",
      "|                   2| 1864|\n",
      "+--------------------+-----+\n",
      "\n"
     ]
    }
   ],
   "source": [
    "df_clean.limit(20000).groupBy(\"nutriscore_grade_num\").count().orderBy(\"count\", ascending=False).show()"
   ]
  },
  {
   "cell_type": "code",
   "execution_count": 12,
   "id": "cb9a97c8",
   "metadata": {},
   "outputs": [],
   "source": [
    "# 5. Assemble features\n",
    "assembler = VectorAssembler(inputCols=features, outputCol=\"features\")\n",
    "df_features = assembler.transform(df_clean)"
   ]
  },
  {
   "cell_type": "code",
   "execution_count": 21,
   "id": "30a5bd93",
   "metadata": {},
   "outputs": [],
   "source": [
    "# 6. Define models\n",
    "\n",
    "# Nutriscore model\n",
    "rf_nutriscore = RandomForestClassifier(\n",
    "    labelCol=\"nutriscore_grade_num\",\n",
    "    featuresCol=\"features\",\n",
    "    predictionCol=\"pred_nutriscore\",\n",
    "    probabilityCol=\"prob_nutriscore\",\n",
    "    rawPredictionCol=\"raw_nutriscore\"\n",
    ")\n",
    "\n",
    "# Nova group model\n",
    "rf_nova = RandomForestClassifier(\n",
    "    labelCol=\"nova_group\",\n",
    "    featuresCol=\"features\",\n",
    "    predictionCol=\"pred_nova\",\n",
    "    probabilityCol=\"prob_nova\",\n",
    "    rawPredictionCol=\"raw_nova\"\n",
    ")\n",
    "\n",
    "# Additives model (regression)\n",
    "rf_additives = RandomForestRegressor(\n",
    "    labelCol=\"additives_n\",\n",
    "    featuresCol=\"features\",\n",
    "    predictionCol=\"pred_additives\"\n",
    ")"
   ]
  },
  {
   "cell_type": "code",
   "execution_count": 22,
   "id": "c62a0464",
   "metadata": {},
   "outputs": [],
   "source": [
    "# 7. Train models\n",
    "model_nutriscore = rf_nutriscore.fit(df_features)\n",
    "model_nova = rf_nova.fit(df_features)\n",
    "model_additives = rf_additives.fit(df_features)"
   ]
  },
  {
   "cell_type": "code",
   "execution_count": 23,
   "id": "1dce31b9",
   "metadata": {},
   "outputs": [],
   "source": [
    "# 8. Make predictions\n",
    "pred1 = model_nutriscore.transform(df_features)\n",
    "pred2 = model_nova.transform(pred1)\n",
    "pred3 = model_additives.transform(pred2)"
   ]
  },
  {
   "cell_type": "code",
   "execution_count": null,
   "id": "79890120",
   "metadata": {},
   "outputs": [],
   "source": [
    "# 9. Show final predictions\n",
    "pred3.select(\"nutriscore_grade_num\", \"pred_nutriscore\",\n",
    "             \"nova_group\", \"pred_nova\",\n",
    "             \"additives_n\", \"pred_additives\").show(10)"
   ]
  },
  {
   "cell_type": "code",
   "execution_count": 24,
   "id": "843ccdb4",
   "metadata": {},
   "outputs": [
    {
     "name": "stdout",
     "output_type": "stream",
     "text": [
      "+--------------------+---------------+----------+---------+-----------+------------------+\n",
      "|nutriscore_grade_num|pred_nutriscore|nova_group|pred_nova|additives_n|pred_additives    |\n",
      "+--------------------+---------------+----------+---------+-----------+------------------+\n",
      "|4                   |3.0            |3         |4.0      |0          |2.0020249235113012|\n",
      "|3                   |3.0            |4         |4.0      |1          |1.8142976947137335|\n",
      "|5                   |5.0            |4         |4.0      |6          |3.6192678638398577|\n",
      "|3                   |4.0            |4         |4.0      |6          |2.067486671684052 |\n",
      "|1                   |1.0            |3         |4.0      |0          |1.2883294525641122|\n",
      "|4                   |4.0            |4         |4.0      |1          |1.9387668465557553|\n",
      "|1                   |1.0            |4         |4.0      |1          |1.443031699349499 |\n",
      "|1                   |1.0            |4         |1.0      |1          |0.6827286140056822|\n",
      "|3                   |1.0            |4         |1.0      |7          |0.6976040753400718|\n",
      "|5                   |5.0            |4         |4.0      |9          |5.7497402446428785|\n",
      "|5                   |4.0            |4         |4.0      |1          |3.2565291647317265|\n",
      "|5                   |4.0            |4         |4.0      |0          |2.2727680336026332|\n",
      "|5                   |5.0            |4         |4.0      |2          |1.8805374216003823|\n",
      "|4                   |4.0            |4         |4.0      |1          |1.3240418221927808|\n",
      "|4                   |3.0            |1         |4.0      |0          |2.4507032815023173|\n",
      "|2                   |4.0            |1         |1.0      |0          |0.4765296378127365|\n",
      "|5                   |5.0            |4         |4.0      |8          |4.000688017070213 |\n",
      "|5                   |5.0            |4         |4.0      |8          |5.121163850101938 |\n",
      "|4                   |4.0            |4         |4.0      |5          |1.9047077097829064|\n",
      "|4                   |4.0            |4         |4.0      |1          |0.9501174619535506|\n",
      "+--------------------+---------------+----------+---------+-----------+------------------+\n",
      "only showing top 20 rows\n"
     ]
    }
   ],
   "source": [
    "pred3.select(\n",
    "    \"nutriscore_grade_num\", \"pred_nutriscore\",\n",
    "    \"nova_group\", \"pred_nova\",\n",
    "    \"additives_n\", \"pred_additives\"\n",
    ").show(20, truncate=False)"
   ]
  },
  {
   "cell_type": "code",
   "execution_count": null,
   "id": "ab9efae4",
   "metadata": {},
   "outputs": [],
   "source": []
  },
  {
   "cell_type": "markdown",
   "id": "453f69db",
   "metadata": {},
   "source": [
    "### ML Evaluation "
   ]
  },
  {
   "cell_type": "code",
   "execution_count": 26,
   "id": "d7d790fa",
   "metadata": {},
   "outputs": [],
   "source": [
    "from pyspark.ml.evaluation import MulticlassClassificationEvaluator, RegressionEvaluator"
   ]
  },
  {
   "cell_type": "code",
   "execution_count": 27,
   "id": "a909b398",
   "metadata": {},
   "outputs": [
    {
     "name": "stdout",
     "output_type": "stream",
     "text": [
      "Nutriscore accuracy: 0.6101\n"
     ]
    }
   ],
   "source": [
    "evaluator_nutri = MulticlassClassificationEvaluator(\n",
    "    labelCol=\"nutriscore_grade_num\", \n",
    "    predictionCol=\"pred_nutriscore\", \n",
    "    metricName=\"accuracy\"\n",
    ")\n",
    "\n",
    "accuracy_nutri = evaluator_nutri.evaluate(pred3)\n",
    "print(f\"Nutriscore accuracy: {accuracy_nutri:.4f}\")"
   ]
  },
  {
   "cell_type": "code",
   "execution_count": 28,
   "id": "108540a4",
   "metadata": {},
   "outputs": [
    {
     "name": "stdout",
     "output_type": "stream",
     "text": [
      "Nova group accuracy: 0.7061\n"
     ]
    }
   ],
   "source": [
    "evaluator_nova = MulticlassClassificationEvaluator(\n",
    "    labelCol=\"nova_group\", \n",
    "    predictionCol=\"pred_nova\", \n",
    "    metricName=\"accuracy\"\n",
    ")\n",
    "\n",
    "accuracy_nova = evaluator_nova.evaluate(pred3)\n",
    "print(f\"Nova group accuracy: {accuracy_nova:.4f}\")"
   ]
  },
  {
   "cell_type": "code",
   "execution_count": 29,
   "id": "3ccdf9e6",
   "metadata": {},
   "outputs": [
    {
     "name": "stdout",
     "output_type": "stream",
     "text": [
      "Additives RMSE: 2.5923\n"
     ]
    }
   ],
   "source": [
    "evaluator_add = RegressionEvaluator(\n",
    "    labelCol=\"additives_n\", \n",
    "    predictionCol=\"pred_additives\", \n",
    "    metricName=\"rmse\"\n",
    ")\n",
    "\n",
    "rmse_additives = evaluator_add.evaluate(pred3)\n",
    "print(f\"Additives RMSE: {rmse_additives:.4f}\")"
   ]
  },
  {
   "cell_type": "code",
   "execution_count": null,
   "id": "9c989246",
   "metadata": {},
   "outputs": [],
   "source": []
  },
  {
   "cell_type": "markdown",
   "id": "1ecca44d",
   "metadata": {},
   "source": [
    "### Accuracy and Loss Graphs"
   ]
  },
  {
   "cell_type": "code",
   "execution_count": 30,
   "id": "7d324ed1",
   "metadata": {},
   "outputs": [],
   "source": [
    "pandas_df = df_clean.limit(50000).toPandas()"
   ]
  },
  {
   "cell_type": "code",
   "execution_count": 31,
   "id": "44dcc908",
   "metadata": {},
   "outputs": [
    {
     "data": {
      "text/html": [
       "<div>\n",
       "<style scoped>\n",
       "    .dataframe tbody tr th:only-of-type {\n",
       "        vertical-align: middle;\n",
       "    }\n",
       "\n",
       "    .dataframe tbody tr th {\n",
       "        vertical-align: top;\n",
       "    }\n",
       "\n",
       "    .dataframe thead th {\n",
       "        text-align: right;\n",
       "    }\n",
       "</style>\n",
       "<table border=\"1\" class=\"dataframe\">\n",
       "  <thead>\n",
       "    <tr style=\"text-align: right;\">\n",
       "      <th></th>\n",
       "      <th>fat_100g</th>\n",
       "      <th>sugars_100g</th>\n",
       "      <th>salt_100g</th>\n",
       "      <th>fiber_100g</th>\n",
       "      <th>proteins_100g</th>\n",
       "      <th>nutriscore_grade_num</th>\n",
       "      <th>nova_group</th>\n",
       "      <th>additives_n</th>\n",
       "    </tr>\n",
       "  </thead>\n",
       "  <tbody>\n",
       "    <tr>\n",
       "      <th>0</th>\n",
       "      <td>1.6</td>\n",
       "      <td>1.30</td>\n",
       "      <td>1.70</td>\n",
       "      <td>2.900000</td>\n",
       "      <td>82.0</td>\n",
       "      <td>4</td>\n",
       "      <td>3</td>\n",
       "      <td>0</td>\n",
       "    </tr>\n",
       "    <tr>\n",
       "      <th>1</th>\n",
       "      <td>2.0</td>\n",
       "      <td>1.70</td>\n",
       "      <td>1.50</td>\n",
       "      <td>10.714286</td>\n",
       "      <td>76.0</td>\n",
       "      <td>3</td>\n",
       "      <td>4</td>\n",
       "      <td>1</td>\n",
       "    </tr>\n",
       "    <tr>\n",
       "      <th>2</th>\n",
       "      <td>24.0</td>\n",
       "      <td>31.00</td>\n",
       "      <td>0.48</td>\n",
       "      <td>1.400000</td>\n",
       "      <td>6.4</td>\n",
       "      <td>5</td>\n",
       "      <td>4</td>\n",
       "      <td>6</td>\n",
       "    </tr>\n",
       "    <tr>\n",
       "      <th>3</th>\n",
       "      <td>16.7</td>\n",
       "      <td>1.85</td>\n",
       "      <td>0.88</td>\n",
       "      <td>18.500000</td>\n",
       "      <td>37.0</td>\n",
       "      <td>3</td>\n",
       "      <td>4</td>\n",
       "      <td>6</td>\n",
       "    </tr>\n",
       "    <tr>\n",
       "      <th>4</th>\n",
       "      <td>0.0</td>\n",
       "      <td>9.09</td>\n",
       "      <td>0.00</td>\n",
       "      <td>0.000000</td>\n",
       "      <td>90.9</td>\n",
       "      <td>1</td>\n",
       "      <td>3</td>\n",
       "      <td>0</td>\n",
       "    </tr>\n",
       "  </tbody>\n",
       "</table>\n",
       "</div>"
      ],
      "text/plain": [
       "   fat_100g  sugars_100g  salt_100g  fiber_100g  proteins_100g  \\\n",
       "0       1.6         1.30       1.70    2.900000           82.0   \n",
       "1       2.0         1.70       1.50   10.714286           76.0   \n",
       "2      24.0        31.00       0.48    1.400000            6.4   \n",
       "3      16.7         1.85       0.88   18.500000           37.0   \n",
       "4       0.0         9.09       0.00    0.000000           90.9   \n",
       "\n",
       "   nutriscore_grade_num  nova_group  additives_n  \n",
       "0                     4           3            0  \n",
       "1                     3           4            1  \n",
       "2                     5           4            6  \n",
       "3                     3           4            6  \n",
       "4                     1           3            0  "
      ]
     },
     "execution_count": 31,
     "metadata": {},
     "output_type": "execute_result"
    }
   ],
   "source": [
    "pandas_df.head()"
   ]
  },
  {
   "cell_type": "markdown",
   "id": "0a6b7719",
   "metadata": {},
   "source": [
    "#### Tensorflow"
   ]
  },
  {
   "cell_type": "code",
   "execution_count": 33,
   "id": "2d6674f1",
   "metadata": {},
   "outputs": [],
   "source": [
    "import numpy as np\n",
    "from sklearn.model_selection import train_test_split\n",
    "\n",
    "X = pandas_df[features].values\n",
    "y_nutri = pandas_df[\"nutriscore_grade_num\"].values\n",
    "y_nova = pandas_df[\"nova_group\"].values\n",
    "y_add = pandas_df[\"additives_n\"].values\n",
    "\n",
    "# Split into training and validation\n",
    "X_train, X_val, y1_train, y1_val, y2_train, y2_val, y3_train, y3_val = train_test_split(\n",
    "    X, y_nutri, y_nova, y_add, test_size=0.2, random_state=42\n",
    ")"
   ]
  },
  {
   "cell_type": "code",
   "execution_count": 34,
   "id": "7c818386",
   "metadata": {},
   "outputs": [],
   "source": [
    "import tensorflow as tf\n",
    "from tensorflow.keras.layers import Input, Dense\n",
    "from tensorflow.keras.models import Model\n",
    "from tensorflow.keras.callbacks import EarlyStopping"
   ]
  },
  {
   "cell_type": "code",
   "execution_count": 35,
   "id": "ebb546d6",
   "metadata": {},
   "outputs": [],
   "source": [
    "inp = Input(shape=(X.shape[1],))\n",
    "x = Dense(64, activation='relu')(inp)\n",
    "x = Dense(32, activation='relu')(x)\n",
    "\n",
    "out1 = Dense(5, activation='softmax', name=\"nutriscore\")  # 5 grades\n",
    "out2 = Dense(5, activation='softmax', name=\"nova\")        # 1–4 or 1–5 groups\n",
    "out3 = Dense(1, name=\"additives\")                         # regression"
   ]
  },
  {
   "cell_type": "code",
   "execution_count": 36,
   "id": "e1ae3551",
   "metadata": {},
   "outputs": [],
   "source": [
    "model = Model(inp, [out1(x), out2(x), out3(x)])\n",
    "model.compile(\n",
    "    optimizer='adam',\n",
    "    loss={\n",
    "        \"nutriscore\": \"sparse_categorical_crossentropy\",\n",
    "        \"nova\": \"sparse_categorical_crossentropy\",\n",
    "        \"additives\": \"mse\"\n",
    "    },\n",
    "    metrics={\"nutriscore\": \"accuracy\", \"nova\": \"accuracy\"}\n",
    ")"
   ]
  },
  {
   "cell_type": "code",
   "execution_count": 37,
   "id": "487ec614",
   "metadata": {},
   "outputs": [],
   "source": [
    "# Early stopping\n",
    "es = EarlyStopping(patience=5, restore_best_weights=True)"
   ]
  },
  {
   "cell_type": "markdown",
   "id": "2e69dd54",
   "metadata": {},
   "source": [
    "##### Received a label value of 5 which is outside the valid range of [0, 5).  Label values: 1 4 5 5 1 4 1 4 1 1 3 3 5 3 5 4 4 1 5 4 4 5 1 5 3 4 4 3 5 5 3 5 5 1 1 3 5 4 4 4 4 1 5 4 4 4 5 1 5 4 2 5 4 4 5 1 2 5 3 5 5 4 5 5\n"
   ]
  },
  {
   "cell_type": "code",
   "execution_count": 39,
   "id": "d4be0341",
   "metadata": {},
   "outputs": [],
   "source": [
    "y1_train -= 1\n",
    "y1_val   -= 1\n",
    "y2_train -= 1\n",
    "y2_val   -= 1"
   ]
  },
  {
   "cell_type": "code",
   "execution_count": 40,
   "id": "666847e6",
   "metadata": {},
   "outputs": [
    {
     "name": "stdout",
     "output_type": "stream",
     "text": [
      "Epoch 1/50\n",
      "\u001b[1m625/625\u001b[0m \u001b[32m━━━━━━━━━━━━━━━━━━━━\u001b[0m\u001b[37m\u001b[0m \u001b[1m1s\u001b[0m 2ms/step - additives_loss: 37.8363 - loss: 41.8401 - nova_accuracy: 0.4884 - nova_loss: 2.0574 - nutriscore_accuracy: 0.3477 - nutriscore_loss: 1.9464 - val_additives_loss: 11.5856 - val_loss: 13.7059 - val_nova_accuracy: 0.6972 - val_nova_loss: 0.8576 - val_nutriscore_accuracy: 0.4357 - val_nutriscore_loss: 1.2308\n",
      "Epoch 2/50\n",
      "\u001b[1m625/625\u001b[0m \u001b[32m━━━━━━━━━━━━━━━━━━━━\u001b[0m\u001b[37m\u001b[0m \u001b[1m1s\u001b[0m 2ms/step - additives_loss: 11.3868 - loss: 13.4508 - nova_accuracy: 0.6947 - nova_loss: 0.8441 - nutriscore_accuracy: 0.4575 - nutriscore_loss: 1.2199 - val_additives_loss: 11.8284 - val_loss: 13.7309 - val_nova_accuracy: 0.6965 - val_nova_loss: 0.7756 - val_nutriscore_accuracy: 0.5637 - val_nutriscore_loss: 1.0975\n",
      "Epoch 3/50\n",
      "\u001b[1m625/625\u001b[0m \u001b[32m━━━━━━━━━━━━━━━━━━━━\u001b[0m\u001b[37m\u001b[0m \u001b[1m1s\u001b[0m 2ms/step - additives_loss: 11.9973 - loss: 13.8801 - nova_accuracy: 0.6994 - nova_loss: 0.7742 - nutriscore_accuracy: 0.5607 - nutriscore_loss: 1.1086 - val_additives_loss: 13.9949 - val_loss: 15.7672 - val_nova_accuracy: 0.7096 - val_nova_loss: 0.7046 - val_nutriscore_accuracy: 0.5818 - val_nutriscore_loss: 1.0250\n",
      "Epoch 4/50\n",
      "\u001b[1m625/625\u001b[0m \u001b[32m━━━━━━━━━━━━━━━━━━━━\u001b[0m\u001b[37m\u001b[0m \u001b[1m1s\u001b[0m 2ms/step - additives_loss: 11.1824 - loss: 12.9346 - nova_accuracy: 0.7052 - nova_loss: 0.7256 - nutriscore_accuracy: 0.5893 - nutriscore_loss: 1.0266 - val_additives_loss: 12.8585 - val_loss: 14.7538 - val_nova_accuracy: 0.7154 - val_nova_loss: 0.7432 - val_nutriscore_accuracy: 0.5523 - val_nutriscore_loss: 1.1162\n",
      "Epoch 5/50\n",
      "\u001b[1m625/625\u001b[0m \u001b[32m━━━━━━━━━━━━━━━━━━━━\u001b[0m\u001b[37m\u001b[0m \u001b[1m1s\u001b[0m 2ms/step - additives_loss: 11.1231 - loss: 12.8788 - nova_accuracy: 0.7109 - nova_loss: 0.7350 - nutriscore_accuracy: 0.5878 - nutriscore_loss: 1.0207 - val_additives_loss: 9.9501 - val_loss: 11.6062 - val_nova_accuracy: 0.7307 - val_nova_loss: 0.6852 - val_nutriscore_accuracy: 0.6142 - val_nutriscore_loss: 0.9455\n",
      "Epoch 6/50\n",
      "\u001b[1m625/625\u001b[0m \u001b[32m━━━━━━━━━━━━━━━━━━━━\u001b[0m\u001b[37m\u001b[0m \u001b[1m1s\u001b[0m 2ms/step - additives_loss: 10.7988 - loss: 12.4455 - nova_accuracy: 0.7278 - nova_loss: 0.6938 - nutriscore_accuracy: 0.6101 - nutriscore_loss: 0.9528 - val_additives_loss: 9.5438 - val_loss: 11.1235 - val_nova_accuracy: 0.7391 - val_nova_loss: 0.6611 - val_nutriscore_accuracy: 0.6380 - val_nutriscore_loss: 0.8926\n",
      "Epoch 7/50\n",
      "\u001b[1m625/625\u001b[0m \u001b[32m━━━━━━━━━━━━━━━━━━━━\u001b[0m\u001b[37m\u001b[0m \u001b[1m1s\u001b[0m 2ms/step - additives_loss: 9.1499 - loss: 10.7257 - nova_accuracy: 0.7329 - nova_loss: 0.6725 - nutriscore_accuracy: 0.6336 - nutriscore_loss: 0.9033 - val_additives_loss: 23.9695 - val_loss: 25.6047 - val_nova_accuracy: 0.7422 - val_nova_loss: 0.6855 - val_nutriscore_accuracy: 0.6505 - val_nutriscore_loss: 0.8524\n",
      "Epoch 8/50\n",
      "\u001b[1m625/625\u001b[0m \u001b[32m━━━━━━━━━━━━━━━━━━━━\u001b[0m\u001b[37m\u001b[0m \u001b[1m1s\u001b[0m 2ms/step - additives_loss: 24.4266 - loss: 25.9805 - nova_accuracy: 0.7403 - nova_loss: 0.6671 - nutriscore_accuracy: 0.6405 - nutriscore_loss: 0.8869 - val_additives_loss: 9.2475 - val_loss: 10.7438 - val_nova_accuracy: 0.7471 - val_nova_loss: 0.6354 - val_nutriscore_accuracy: 0.6717 - val_nutriscore_loss: 0.8340\n",
      "Epoch 9/50\n",
      "\u001b[1m625/625\u001b[0m \u001b[32m━━━━━━━━━━━━━━━━━━━━\u001b[0m\u001b[37m\u001b[0m \u001b[1m1s\u001b[0m 2ms/step - additives_loss: 8.7983 - loss: 10.2937 - nova_accuracy: 0.7422 - nova_loss: 0.6442 - nutriscore_accuracy: 0.6649 - nutriscore_loss: 0.8512 - val_additives_loss: 8.9507 - val_loss: 10.4036 - val_nova_accuracy: 0.7460 - val_nova_loss: 0.6288 - val_nutriscore_accuracy: 0.6860 - val_nutriscore_loss: 0.7976\n",
      "Epoch 10/50\n",
      "\u001b[1m625/625\u001b[0m \u001b[32m━━━━━━━━━━━━━━━━━━━━\u001b[0m\u001b[37m\u001b[0m \u001b[1m1s\u001b[0m 2ms/step - additives_loss: 9.0239 - loss: 10.4934 - nova_accuracy: 0.7363 - nova_loss: 0.6484 - nutriscore_accuracy: 0.6785 - nutriscore_loss: 0.8212 - val_additives_loss: 8.8909 - val_loss: 10.3250 - val_nova_accuracy: 0.7466 - val_nova_loss: 0.6271 - val_nutriscore_accuracy: 0.6922 - val_nutriscore_loss: 0.7795\n",
      "Epoch 11/50\n",
      "\u001b[1m625/625\u001b[0m \u001b[32m━━━━━━━━━━━━━━━━━━━━\u001b[0m\u001b[37m\u001b[0m \u001b[1m1s\u001b[0m 2ms/step - additives_loss: 8.6462 - loss: 10.0704 - nova_accuracy: 0.7428 - nova_loss: 0.6337 - nutriscore_accuracy: 0.6915 - nutriscore_loss: 0.7905 - val_additives_loss: 10.1704 - val_loss: 11.5913 - val_nova_accuracy: 0.7487 - val_nova_loss: 0.6205 - val_nutriscore_accuracy: 0.7003 - val_nutriscore_loss: 0.7665\n",
      "Epoch 12/50\n",
      "\u001b[1m625/625\u001b[0m \u001b[32m━━━━━━━━━━━━━━━━━━━━\u001b[0m\u001b[37m\u001b[0m \u001b[1m1s\u001b[0m 2ms/step - additives_loss: 11.4508 - loss: 12.8960 - nova_accuracy: 0.7400 - nova_loss: 0.6527 - nutriscore_accuracy: 0.6950 - nutriscore_loss: 0.7925 - val_additives_loss: 8.8472 - val_loss: 10.2598 - val_nova_accuracy: 0.7482 - val_nova_loss: 0.6224 - val_nutriscore_accuracy: 0.6936 - val_nutriscore_loss: 0.7630\n",
      "Epoch 13/50\n",
      "\u001b[1m625/625\u001b[0m \u001b[32m━━━━━━━━━━━━━━━━━━━━\u001b[0m\u001b[37m\u001b[0m \u001b[1m1s\u001b[0m 2ms/step - additives_loss: 9.6006 - loss: 11.1356 - nova_accuracy: 0.7440 - nova_loss: 0.6503 - nutriscore_accuracy: 0.6880 - nutriscore_loss: 0.8847 - val_additives_loss: 8.6182 - val_loss: 9.9906 - val_nova_accuracy: 0.7520 - val_nova_loss: 0.6089 - val_nutriscore_accuracy: 0.7075 - val_nutriscore_loss: 0.7381\n",
      "Epoch 14/50\n",
      "\u001b[1m625/625\u001b[0m \u001b[32m━━━━━━━━━━━━━━━━━━━━\u001b[0m\u001b[37m\u001b[0m \u001b[1m1s\u001b[0m 2ms/step - additives_loss: 8.3923 - loss: 9.7793 - nova_accuracy: 0.7448 - nova_loss: 0.6237 - nutriscore_accuracy: 0.7043 - nutriscore_loss: 0.7634 - val_additives_loss: 8.8548 - val_loss: 10.2016 - val_nova_accuracy: 0.7497 - val_nova_loss: 0.6088 - val_nutriscore_accuracy: 0.7228 - val_nutriscore_loss: 0.7120\n",
      "Epoch 15/50\n",
      "\u001b[1m625/625\u001b[0m \u001b[32m━━━━━━━━━━━━━━━━━━━━\u001b[0m\u001b[37m\u001b[0m \u001b[1m1s\u001b[0m 2ms/step - additives_loss: 9.3450 - loss: 10.7522 - nova_accuracy: 0.7417 - nova_loss: 0.6311 - nutriscore_accuracy: 0.7022 - nutriscore_loss: 0.7762 - val_additives_loss: 8.5054 - val_loss: 9.8396 - val_nova_accuracy: 0.7500 - val_nova_loss: 0.6060 - val_nutriscore_accuracy: 0.7195 - val_nutriscore_loss: 0.7039\n",
      "Epoch 16/50\n",
      "\u001b[1m625/625\u001b[0m \u001b[32m━━━━━━━━━━━━━━━━━━━━\u001b[0m\u001b[37m\u001b[0m \u001b[1m1s\u001b[0m 2ms/step - additives_loss: 9.2187 - loss: 10.5855 - nova_accuracy: 0.7404 - nova_loss: 0.6325 - nutriscore_accuracy: 0.7140 - nutriscore_loss: 0.7343 - val_additives_loss: 8.5032 - val_loss: 9.8277 - val_nova_accuracy: 0.7475 - val_nova_loss: 0.6029 - val_nutriscore_accuracy: 0.7241 - val_nutriscore_loss: 0.6961\n",
      "Epoch 17/50\n",
      "\u001b[1m625/625\u001b[0m \u001b[32m━━━━━━━━━━━━━━━━━━━━\u001b[0m\u001b[37m\u001b[0m \u001b[1m1s\u001b[0m 2ms/step - additives_loss: 8.5550 - loss: 9.8810 - nova_accuracy: 0.7474 - nova_loss: 0.6108 - nutriscore_accuracy: 0.7193 - nutriscore_loss: 0.7152 - val_additives_loss: 8.5284 - val_loss: 9.8438 - val_nova_accuracy: 0.7497 - val_nova_loss: 0.5980 - val_nutriscore_accuracy: 0.7356 - val_nutriscore_loss: 0.6902\n",
      "Epoch 18/50\n",
      "\u001b[1m625/625\u001b[0m \u001b[32m━━━━━━━━━━━━━━━━━━━━\u001b[0m\u001b[37m\u001b[0m \u001b[1m1s\u001b[0m 2ms/step - additives_loss: 8.4362 - loss: 9.7457 - nova_accuracy: 0.7495 - nova_loss: 0.6034 - nutriscore_accuracy: 0.7210 - nutriscore_loss: 0.7060 - val_additives_loss: 12.4859 - val_loss: 13.8140 - val_nova_accuracy: 0.7492 - val_nova_loss: 0.6154 - val_nutriscore_accuracy: 0.7381 - val_nutriscore_loss: 0.6674\n",
      "Epoch 19/50\n",
      "\u001b[1m625/625\u001b[0m \u001b[32m━━━━━━━━━━━━━━━━━━━━\u001b[0m\u001b[37m\u001b[0m \u001b[1m1s\u001b[0m 2ms/step - additives_loss: 9.5042 - loss: 10.8308 - nova_accuracy: 0.7438 - nova_loss: 0.6182 - nutriscore_accuracy: 0.7185 - nutriscore_loss: 0.7084 - val_additives_loss: 8.3284 - val_loss: 9.6126 - val_nova_accuracy: 0.7511 - val_nova_loss: 0.5941 - val_nutriscore_accuracy: 0.7355 - val_nutriscore_loss: 0.6650\n",
      "Epoch 20/50\n",
      "\u001b[1m625/625\u001b[0m \u001b[32m━━━━━━━━━━━━━━━━━━━━\u001b[0m\u001b[37m\u001b[0m \u001b[1m1s\u001b[0m 2ms/step - additives_loss: 8.2715 - loss: 9.5708 - nova_accuracy: 0.7462 - nova_loss: 0.6059 - nutriscore_accuracy: 0.7306 - nutriscore_loss: 0.6934 - val_additives_loss: 8.6744 - val_loss: 9.9489 - val_nova_accuracy: 0.7551 - val_nova_loss: 0.5869 - val_nutriscore_accuracy: 0.7423 - val_nutriscore_loss: 0.6607\n",
      "Epoch 21/50\n",
      "\u001b[1m625/625\u001b[0m \u001b[32m━━━━━━━━━━━━━━━━━━━━\u001b[0m\u001b[37m\u001b[0m \u001b[1m1s\u001b[0m 2ms/step - additives_loss: 8.0206 - loss: 9.2931 - nova_accuracy: 0.7508 - nova_loss: 0.5985 - nutriscore_accuracy: 0.7346 - nutriscore_loss: 0.6740 - val_additives_loss: 8.3557 - val_loss: 9.6222 - val_nova_accuracy: 0.7598 - val_nova_loss: 0.5898 - val_nutriscore_accuracy: 0.7443 - val_nutriscore_loss: 0.6496\n",
      "Epoch 22/50\n",
      "\u001b[1m625/625\u001b[0m \u001b[32m━━━━━━━━━━━━━━━━━━━━\u001b[0m\u001b[37m\u001b[0m \u001b[1m1s\u001b[0m 2ms/step - additives_loss: 8.7500 - loss: 10.0224 - nova_accuracy: 0.7500 - nova_loss: 0.6026 - nutriscore_accuracy: 0.7339 - nutriscore_loss: 0.6698 - val_additives_loss: 8.3103 - val_loss: 9.5801 - val_nova_accuracy: 0.7572 - val_nova_loss: 0.5885 - val_nutriscore_accuracy: 0.7384 - val_nutriscore_loss: 0.6551\n",
      "Epoch 23/50\n",
      "\u001b[1m625/625\u001b[0m \u001b[32m━━━━━━━━━━━━━━━━━━━━\u001b[0m\u001b[37m\u001b[0m \u001b[1m1s\u001b[0m 2ms/step - additives_loss: 8.1517 - loss: 9.4290 - nova_accuracy: 0.7525 - nova_loss: 0.5970 - nutriscore_accuracy: 0.7307 - nutriscore_loss: 0.6803 - val_additives_loss: 8.2706 - val_loss: 9.5467 - val_nova_accuracy: 0.7602 - val_nova_loss: 0.5886 - val_nutriscore_accuracy: 0.7438 - val_nutriscore_loss: 0.6609\n",
      "Epoch 24/50\n",
      "\u001b[1m625/625\u001b[0m \u001b[32m━━━━━━━━━━━━━━━━━━━━\u001b[0m\u001b[37m\u001b[0m \u001b[1m1s\u001b[0m 2ms/step - additives_loss: 8.2253 - loss: 9.4728 - nova_accuracy: 0.7505 - nova_loss: 0.5937 - nutriscore_accuracy: 0.7411 - nutriscore_loss: 0.6538 - val_additives_loss: 8.1432 - val_loss: 9.4144 - val_nova_accuracy: 0.7639 - val_nova_loss: 0.5852 - val_nutriscore_accuracy: 0.7390 - val_nutriscore_loss: 0.6594\n",
      "Epoch 25/50\n",
      "\u001b[1m625/625\u001b[0m \u001b[32m━━━━━━━━━━━━━━━━━━━━\u001b[0m\u001b[37m\u001b[0m \u001b[1m1s\u001b[0m 2ms/step - additives_loss: 8.0192 - loss: 9.2515 - nova_accuracy: 0.7552 - nova_loss: 0.5869 - nutriscore_accuracy: 0.7425 - nutriscore_loss: 0.6454 - val_additives_loss: 8.2194 - val_loss: 9.4519 - val_nova_accuracy: 0.7620 - val_nova_loss: 0.5721 - val_nutriscore_accuracy: 0.7529 - val_nutriscore_loss: 0.6334\n",
      "Epoch 26/50\n",
      "\u001b[1m625/625\u001b[0m \u001b[32m━━━━━━━━━━━━━━━━━━━━\u001b[0m\u001b[37m\u001b[0m \u001b[1m1s\u001b[0m 2ms/step - additives_loss: 7.9850 - loss: 9.2090 - nova_accuracy: 0.7519 - nova_loss: 0.5880 - nutriscore_accuracy: 0.7459 - nutriscore_loss: 0.6360 - val_additives_loss: 8.2327 - val_loss: 9.4614 - val_nova_accuracy: 0.7576 - val_nova_loss: 0.5784 - val_nutriscore_accuracy: 0.7544 - val_nutriscore_loss: 0.6246\n",
      "Epoch 27/50\n",
      "\u001b[1m625/625\u001b[0m \u001b[32m━━━━━━━━━━━━━━━━━━━━\u001b[0m\u001b[37m\u001b[0m \u001b[1m1s\u001b[0m 2ms/step - additives_loss: 7.8629 - loss: 9.0947 - nova_accuracy: 0.7540 - nova_loss: 0.5839 - nutriscore_accuracy: 0.7424 - nutriscore_loss: 0.6479 - val_additives_loss: 9.6779 - val_loss: 10.9245 - val_nova_accuracy: 0.7614 - val_nova_loss: 0.5747 - val_nutriscore_accuracy: 0.7511 - val_nutriscore_loss: 0.6400\n",
      "Epoch 28/50\n",
      "\u001b[1m625/625\u001b[0m \u001b[32m━━━━━━━━━━━━━━━━━━━━\u001b[0m\u001b[37m\u001b[0m \u001b[1m1s\u001b[0m 2ms/step - additives_loss: 9.0536 - loss: 10.3009 - nova_accuracy: 0.7549 - nova_loss: 0.6008 - nutriscore_accuracy: 0.7410 - nutriscore_loss: 0.6464 - val_additives_loss: 8.0776 - val_loss: 9.3047 - val_nova_accuracy: 0.7623 - val_nova_loss: 0.5694 - val_nutriscore_accuracy: 0.7448 - val_nutriscore_loss: 0.6334\n",
      "Epoch 29/50\n",
      "\u001b[1m625/625\u001b[0m \u001b[32m━━━━━━━━━━━━━━━━━━━━\u001b[0m\u001b[37m\u001b[0m \u001b[1m1s\u001b[0m 2ms/step - additives_loss: 7.8266 - loss: 9.0464 - nova_accuracy: 0.7552 - nova_loss: 0.5830 - nutriscore_accuracy: 0.7451 - nutriscore_loss: 0.6368 - val_additives_loss: 7.9655 - val_loss: 9.1649 - val_nova_accuracy: 0.7663 - val_nova_loss: 0.5646 - val_nutriscore_accuracy: 0.7636 - val_nutriscore_loss: 0.6117\n",
      "Epoch 30/50\n",
      "\u001b[1m625/625\u001b[0m \u001b[32m━━━━━━━━━━━━━━━━━━━━\u001b[0m\u001b[37m\u001b[0m \u001b[1m1s\u001b[0m 2ms/step - additives_loss: 7.8839 - loss: 9.0809 - nova_accuracy: 0.7601 - nova_loss: 0.5764 - nutriscore_accuracy: 0.7533 - nutriscore_loss: 0.6207 - val_additives_loss: 8.1805 - val_loss: 9.3941 - val_nova_accuracy: 0.7663 - val_nova_loss: 0.5746 - val_nutriscore_accuracy: 0.7587 - val_nutriscore_loss: 0.6132\n",
      "Epoch 31/50\n",
      "\u001b[1m625/625\u001b[0m \u001b[32m━━━━━━━━━━━━━━━━━━━━\u001b[0m\u001b[37m\u001b[0m \u001b[1m1s\u001b[0m 2ms/step - additives_loss: 7.8874 - loss: 9.0914 - nova_accuracy: 0.7589 - nova_loss: 0.5794 - nutriscore_accuracy: 0.7545 - nutriscore_loss: 0.6246 - val_additives_loss: 8.1403 - val_loss: 9.3541 - val_nova_accuracy: 0.7704 - val_nova_loss: 0.5654 - val_nutriscore_accuracy: 0.7532 - val_nutriscore_loss: 0.6228\n",
      "Epoch 32/50\n",
      "\u001b[1m625/625\u001b[0m \u001b[32m━━━━━━━━━━━━━━━━━━━━\u001b[0m\u001b[37m\u001b[0m \u001b[1m1s\u001b[0m 2ms/step - additives_loss: 7.9119 - loss: 9.1055 - nova_accuracy: 0.7588 - nova_loss: 0.5770 - nutriscore_accuracy: 0.7549 - nutriscore_loss: 0.6166 - val_additives_loss: 8.6716 - val_loss: 9.9203 - val_nova_accuracy: 0.7584 - val_nova_loss: 0.5834 - val_nutriscore_accuracy: 0.7387 - val_nutriscore_loss: 0.6404\n",
      "Epoch 33/50\n",
      "\u001b[1m625/625\u001b[0m \u001b[32m━━━━━━━━━━━━━━━━━━━━\u001b[0m\u001b[37m\u001b[0m \u001b[1m1s\u001b[0m 2ms/step - additives_loss: 7.8863 - loss: 9.1104 - nova_accuracy: 0.7591 - nova_loss: 0.5824 - nutriscore_accuracy: 0.7411 - nutriscore_loss: 0.6417 - val_additives_loss: 7.9086 - val_loss: 9.1121 - val_nova_accuracy: 0.7670 - val_nova_loss: 0.5624 - val_nutriscore_accuracy: 0.7548 - val_nutriscore_loss: 0.6174\n",
      "Epoch 34/50\n",
      "\u001b[1m625/625\u001b[0m \u001b[32m━━━━━━━━━━━━━━━━━━━━\u001b[0m\u001b[37m\u001b[0m \u001b[1m2s\u001b[0m 4ms/step - additives_loss: 7.7045 - loss: 8.8992 - nova_accuracy: 0.7610 - nova_loss: 0.5737 - nutriscore_accuracy: 0.7500 - nutriscore_loss: 0.6210 - val_additives_loss: 7.8843 - val_loss: 9.0737 - val_nova_accuracy: 0.7710 - val_nova_loss: 0.5580 - val_nutriscore_accuracy: 0.7613 - val_nutriscore_loss: 0.6076\n",
      "Epoch 35/50\n",
      "\u001b[1m625/625\u001b[0m \u001b[32m━━━━━━━━━━━━━━━━━━━━\u001b[0m\u001b[37m\u001b[0m \u001b[1m2s\u001b[0m 4ms/step - additives_loss: 7.8109 - loss: 9.0025 - nova_accuracy: 0.7613 - nova_loss: 0.5713 - nutriscore_accuracy: 0.7489 - nutriscore_loss: 0.6204 - val_additives_loss: 7.8361 - val_loss: 9.0224 - val_nova_accuracy: 0.7724 - val_nova_loss: 0.5610 - val_nutriscore_accuracy: 0.7599 - val_nutriscore_loss: 0.6019\n",
      "Epoch 36/50\n",
      "\u001b[1m625/625\u001b[0m \u001b[32m━━━━━━━━━━━━━━━━━━━━\u001b[0m\u001b[37m\u001b[0m \u001b[1m2s\u001b[0m 4ms/step - additives_loss: 7.6974 - loss: 8.8725 - nova_accuracy: 0.7624 - nova_loss: 0.5667 - nutriscore_accuracy: 0.7536 - nutriscore_loss: 0.6084 - val_additives_loss: 7.8232 - val_loss: 9.0003 - val_nova_accuracy: 0.7742 - val_nova_loss: 0.5565 - val_nutriscore_accuracy: 0.7637 - val_nutriscore_loss: 0.5970\n",
      "Epoch 37/50\n",
      "\u001b[1m625/625\u001b[0m \u001b[32m━━━━━━━━━━━━━━━━━━━━\u001b[0m\u001b[37m\u001b[0m \u001b[1m2s\u001b[0m 4ms/step - additives_loss: 7.7738 - loss: 8.9732 - nova_accuracy: 0.7591 - nova_loss: 0.5817 - nutriscore_accuracy: 0.7493 - nutriscore_loss: 0.6177 - val_additives_loss: 7.8457 - val_loss: 9.0309 - val_nova_accuracy: 0.7680 - val_nova_loss: 0.5587 - val_nutriscore_accuracy: 0.7651 - val_nutriscore_loss: 0.6024\n",
      "Epoch 38/50\n",
      "\u001b[1m625/625\u001b[0m \u001b[32m━━━━━━━━━━━━━━━━━━━━\u001b[0m\u001b[37m\u001b[0m \u001b[1m2s\u001b[0m 4ms/step - additives_loss: 7.8130 - loss: 8.9856 - nova_accuracy: 0.7613 - nova_loss: 0.5691 - nutriscore_accuracy: 0.7588 - nutriscore_loss: 0.6034 - val_additives_loss: 7.7755 - val_loss: 8.9442 - val_nova_accuracy: 0.7737 - val_nova_loss: 0.5546 - val_nutriscore_accuracy: 0.7660 - val_nutriscore_loss: 0.5925\n",
      "Epoch 39/50\n",
      "\u001b[1m625/625\u001b[0m \u001b[32m━━━━━━━━━━━━━━━━━━━━\u001b[0m\u001b[37m\u001b[0m \u001b[1m2s\u001b[0m 4ms/step - additives_loss: 7.6276 - loss: 8.8002 - nova_accuracy: 0.7642 - nova_loss: 0.5707 - nutriscore_accuracy: 0.7560 - nutriscore_loss: 0.6019 - val_additives_loss: 7.8579 - val_loss: 9.0343 - val_nova_accuracy: 0.7720 - val_nova_loss: 0.5567 - val_nutriscore_accuracy: 0.7676 - val_nutriscore_loss: 0.5986\n",
      "Epoch 40/50\n",
      "\u001b[1m625/625\u001b[0m \u001b[32m━━━━━━━━━━━━━━━━━━━━\u001b[0m\u001b[37m\u001b[0m \u001b[1m2s\u001b[0m 4ms/step - additives_loss: 7.7394 - loss: 8.9164 - nova_accuracy: 0.7649 - nova_loss: 0.5700 - nutriscore_accuracy: 0.7576 - nutriscore_loss: 0.6071 - val_additives_loss: 7.7914 - val_loss: 8.9713 - val_nova_accuracy: 0.7754 - val_nova_loss: 0.5581 - val_nutriscore_accuracy: 0.7625 - val_nutriscore_loss: 0.5980\n",
      "Epoch 41/50\n",
      "\u001b[1m625/625\u001b[0m \u001b[32m━━━━━━━━━━━━━━━━━━━━\u001b[0m\u001b[37m\u001b[0m \u001b[1m2s\u001b[0m 3ms/step - additives_loss: 7.4773 - loss: 8.6442 - nova_accuracy: 0.7649 - nova_loss: 0.5668 - nutriscore_accuracy: 0.7564 - nutriscore_loss: 0.6001 - val_additives_loss: 7.9103 - val_loss: 9.0946 - val_nova_accuracy: 0.7751 - val_nova_loss: 0.5582 - val_nutriscore_accuracy: 0.7592 - val_nutriscore_loss: 0.6019\n",
      "Epoch 42/50\n",
      "\u001b[1m625/625\u001b[0m \u001b[32m━━━━━━━━━━━━━━━━━━━━\u001b[0m\u001b[37m\u001b[0m \u001b[1m2s\u001b[0m 4ms/step - additives_loss: 7.6416 - loss: 8.8066 - nova_accuracy: 0.7627 - nova_loss: 0.5703 - nutriscore_accuracy: 0.7628 - nutriscore_loss: 0.5946 - val_additives_loss: 7.8450 - val_loss: 9.0038 - val_nova_accuracy: 0.7715 - val_nova_loss: 0.5524 - val_nutriscore_accuracy: 0.7710 - val_nutriscore_loss: 0.5843\n",
      "Epoch 43/50\n",
      "\u001b[1m625/625\u001b[0m \u001b[32m━━━━━━━━━━━━━━━━━━━━\u001b[0m\u001b[37m\u001b[0m \u001b[1m2s\u001b[0m 3ms/step - additives_loss: 7.6430 - loss: 8.8061 - nova_accuracy: 0.7667 - nova_loss: 0.5644 - nutriscore_accuracy: 0.7589 - nutriscore_loss: 0.5987 - val_additives_loss: 7.8375 - val_loss: 9.0120 - val_nova_accuracy: 0.7759 - val_nova_loss: 0.5518 - val_nutriscore_accuracy: 0.7662 - val_nutriscore_loss: 0.6000\n"
     ]
    }
   ],
   "source": [
    "history = model.fit(\n",
    "    X_train, {\"nutriscore\": y1_train, \"nova\": y2_train, \"additives\": y3_train},\n",
    "    validation_data=(X_val, {\"nutriscore\": y1_val, \"nova\": y2_val, \"additives\": y3_val}),\n",
    "    epochs=50,\n",
    "    callbacks=[es],\n",
    "    batch_size=64\n",
    ")"
   ]
  },
  {
   "cell_type": "code",
   "execution_count": 42,
   "id": "aa892830",
   "metadata": {},
   "outputs": [],
   "source": [
    "import matplotlib.pyplot as plt"
   ]
  },
  {
   "cell_type": "code",
   "execution_count": 43,
   "id": "fa0acefa",
   "metadata": {},
   "outputs": [
    {
     "data": {
      "image/png": "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",
      "text/plain": [
       "<Figure size 1000x500 with 1 Axes>"
      ]
     },
     "metadata": {},
     "output_type": "display_data"
    }
   ],
   "source": [
    "# Plot losses\n",
    "plt.figure(figsize=(10, 5))\n",
    "plt.plot(history.history['loss'], label=\"Total Loss\")\n",
    "plt.plot(history.history['val_loss'], label=\"Val Total Loss\")\n",
    "plt.plot(history.history['nutriscore_loss'], label=\"Nutri Loss\")\n",
    "plt.plot(history.history['nova_loss'], label=\"Nova Loss\")\n",
    "plt.plot(history.history['additives_loss'], label=\"Additives Loss\")\n",
    "plt.legend()\n",
    "plt.title(\"Loss Curves\")\n",
    "plt.xlabel(\"Epochs\")\n",
    "plt.ylabel(\"Loss\")\n",
    "plt.grid(True)\n",
    "plt.show()"
   ]
  },
  {
   "cell_type": "code",
   "execution_count": 45,
   "id": "303a1915",
   "metadata": {},
   "outputs": [
    {
     "data": {
      "image/png": "iVBORw0KGgoAAAANSUhEUgAAArwAAAGJCAYAAABo5eDAAAAAOnRFWHRTb2Z0d2FyZQBNYXRwbG90bGliIHZlcnNpb24zLjEwLjMsIGh0dHBzOi8vbWF0cGxvdGxpYi5vcmcvZiW1igAAAAlwSFlzAAAPYQAAD2EBqD+naQAAqq9JREFUeJzsnQV8FGfXxc9a3D2B4O4upVQohXopNeql+tXd3b2l9lZoqbdQ6i2UQqHQ0uKuwQkQ4q6r3+8+k102ycYgsknOv++84zPPTIbkzJ3z3KtzOBwOEEIIIYQQ0krRN3cDCCGEEEIIaUwoeAkhhBBCSKuGgpcQQgghhLRqKHgJIYQQQkirhoKXEEIIIYS0aih4CSGEEEJIq4aClxBCCCGEtGooeAkhhBBCSKuGgpcQQgghhLRqKHgJIV5Pp06dcPXVVzfb+eXc0gZ3CgsLcd111yEuLg46nQ533nkn9u3bp6Y//fTTJm/jSSedpAZCCCFVoeAlhDQbu3fvxo033oguXbrAz88PISEhGDNmDN58802UlJTAm3n++eeVsL3pppvwxRdf4Iorrmj0c27duhVPPvmkEtbeyNy5c5XgT0hIgN1ub+7mEEKIC53D4XAcmSWEkKZhzpw5uPDCC+Hr64srr7wS/fr1g9lsxtKlS/H999+rqOqHH36otpXoqkQvmyNyKlgsFiXgpK1ORo0aBaPRqNrrRH6dlpWVwWQywWAwNHg7vvvuO3XP/vrrryrRXLl3go+PD5qLyy67DP/9958S5AsWLMD48eObrS2EEOKOscIcIYQ0AXv37sWUKVPQsWNHLFq0CPHx8a51t9xyC3bt2qUEsbcgArYy6enp6NOnT4VlEt2USHVz0JxCVygqKsLPP/+MF154AZ988gm++uorrxW80tbAwMDmbgYhpAmhpYEQ0uS8/PLLygP78ccfVxC7Trp164Y77rij2v2zs7Nx7733on///ggKClJWiNNPPx0bNmyosu3bb7+Nvn37IiAgAOHh4Rg2bBi+/vpr1/qCggLlv5UoskRwY2JicOqpp2Lt2rUePbyLFy9WwlZEu4hymZZBoprVeXi3b9+Oiy66CNHR0fD390fPnj3xyCOPuNbv378fN998s1ou6yMjI1Uk1926IMeUZcLJJ5/sOq+0pzoPr4jya6+9FrGxsUqIDxw4EJ999lmFbZxtfvXVV1VEvWvXruo+DB8+HKtWrUJd+fHHH5UNRdooLzM//PADSktLq2wny8SW0aNHD9Um+flPnjxZ2VucSDRdbC3y85Vt5L6ddtppWL16dYU2e4r4y3I5vhOZlmViB7n00kvVM3D88cerdRs3blQ/W6elRvzY11xzDbKysqoc99ChQ+peil1D7k/nzp2VnUUi63v27FHneOONN6rsJxFvWffNN9/U+V4SQhoeRngJIU3Or7/+qkTGcccdd1T7i8D46aeflLgS4ZGWloYPPvgAJ554ohI2IkqE6dOn4/bbb8cFF1ygBLSILRE5K1asUOJH+L//+z9lFbj11ltVxFbEjtgUtm3bhiFDhlQ5d+/evZVn96677kL79u1xzz33qOUiyjIyMqpsL+cbO3asihLfcMMNSjiLuJN78Nxzz6ltRFiKMBKhKMcUQffee+8pASvXI2L9hBNOUNfy1ltv4eGHH1btcLbHEyI+ZX+Jlsu1yX2aPXu2Eni5ublVXijkJUDEv3iqRaDJS4kIUbnXniLclZGIrghxEY1yHQ8++KC6RqdIF2w2G8466ywsXLhQbSNtkHOK/WHz5s1KbAsiLEXMykuMdAy0Wq34559/sHz5cvXCcjRIO7p37668104nn5xXrm/q1Kmq3Vu2bFGiX8ZyLrkPQkpKCkaMGKHum/wMe/XqpQSwPDfFxcXqWRbvudwDeS4q35fg4GCce+65R9VuQkgDIR5eQghpKvLy8kRtOM4999w679OxY0fHVVdd5ZovLS112Gy2Ctvs3bvX4evr63j66addy+Qcffv2rfHYoaGhjltuuaXGbeTc0obKbTrzzDOrtEGu7ZNPPnEtO+GEExzBwcGO/fv3V9jWbre7pouLi6ucc9myZepYn3/+uWvZ7Nmz1bK//vqryvYnnniiGpxMmzZNbfvll1+6lpnNZsfo0aMdQUFBjvz8/AptjoyMdGRnZ7u2/fnnn9XyX3/91VEbaWlpDqPR6Jg+fbpr2XHHHVflZzxjxgx1zNdff73KMZz3Y9GiRWqb22+/vdptPN1nJ7L8iSeecM3LtCy75JJLqmzr6b5/8803avu///7btezKK6906PV6x6pVq6pt0wcffKD227ZtW4X7HRUVVeHZJYQ0D7Q0EEKalPz8fDWWqNfRIp+U9Xq9K2ooUVmxNoglwN2KEBYWhoMHD9b4aV62kYivRPEaGon4/v333+ozeYcOHSqsc0YPBbExuHeQk+sRW4e0zf166psxQaKWl1xyiWuZRGolSix2kiVLllTY/uKLL1af+51IVFqQCGhtzJw5U/08zj//fNcyOe/vv/+OnJwc1zLpjBgVFYXbbrutyjGc90O2keknnnii2m2OBonkV8b9vkv0PzMzU3VGFJz3XewV8jXh7LPP9hhddrZJLCtii5CIrpM//vhDHfPyyy8/6nYTQhoGCl5CSJMifltBPmUfLSJCxC8pn6hF/IqIEkuB2Afy8vJc2z3wwANKCMvnaNlWOsT9+++/FY4ln+7lc3piYqLaTjyfdRF5dcF5HMlAURNiP3j88cdVG9yvRz6hu19PfRBfsFyz88XAidMCIevdqSzIneLXXbBWx5dffqnunQh1sVDIMHjwYOVvFRuFE7FyyEuJZLeoDtlGLCkRERFoSMTS4ckLLrYK8TiL+JV77tzOed/lpUVe0mr7GcrLiYhid3+4iN927dph3LhxDXothJD6Q8FLCGlywSuCRkTm0SI+zLvvvlv5WkVsSSRN/JjSOc09/6uIu6SkJBWBlI5KEj2UsXv0UCJzIkylc5u065VXXlHHkehkUyERT/HzSlu+/fZbzJ8/X12PdF5rqny21aVRqy1z5c6dO1UEXXzPIrCdg7NjmHvEs6GoLtIr0f7qcI/mOpH7LT5vif5KJzu57/PmzVPrjua+S3o9eZbEjy0vdL/88ouKdFd+6SCEND3stEYIaXKk45J0Dlq2bBlGjx5d7/2ls5B0kJIsD+5IRFSio+5I+in5XC+DRBylI5aIy4ceesiVQkwyBUiWBBkks4F0VpNtpNPUsSCdmYTaxL1cz1VXXYXXXnutwid2uZ6j/aQvKd8k4i3CzV1wScYI5/qGQAStWCWkI19l0SwiWDrZJScnqwiydEoT+4jYNqrrCCfbyAuMRF+ri/I6o8+V70/lqHVNSORaOs899dRTKrruLuDdkaivvKTV5QVNMknI9nJPRo4cqTq0NUVBEkJI7fC1kxDS5Nx///1KiEoPfMmw4OmztqSlqg4RVpUjj/LpXHrOu1M5vZTkqpVMDLKviC6JCFa2DEhaMon0SgGJY0XEj0ShZ8yYoUSfO+7t93Q9EnGuHLF05o6tLPQ8ccYZZyA1NRWzZs1yLZNsB3JcsXlIRouGQMSd+H3lhUKyYbgP9913n9rGmZJLPL7iaX3nnXeqHMd5/bKNTIsQrW4bEaDyYiP+aHf+97//1bndTnFe+b5Pmzatwry8LEyaNEllnHCmRfPUJkGsGhLRlSi9ZJmQtGoDBgyoc5sIIY0HI7yEkCZHonjidRSRJLYD90pr8jnYmT6rpgjx008/rdJJSWqzTZs2KeHljKg6mTBhguq4JSmjxKcpqcZEbJ155pmq05wIR0kDJuJMctSKEPzzzz/VJ3r3aOuxIBFO+bwvUWNJaSUeUUk7Jjl8169f77oeiZCGhoYqQS6Rb2mHWBrcGTRokBJqL730khLq4vcVf6iI9MrIuSRVm9zHNWvWqHRoEkkWD7OIumPpNOhEorXOtGeeEP+qXLf8bMRPLT/nzz//XNlRVq5cqYSyFIGQa5XouqTuksi9REXlvkm0VaKmEqWWtGSyznkueVl68cUX1Vg6k4n43bFjR53bLqJZXkbEwy0vP9JWsTRIfmVPFhpZJy8Jcl/lmT18+LB6TiWKLf5dJ3KN0naphic/J0KIl9BM2SEIIcSxY8cOx/XXX+/o1KmTw8fHR6XvGjNmjOPtt99WqcdqSkt2zz33OOLj4x3+/v5qH0njVTk1l6SKkrRgknJLUpZ17drVcd9996nUaEJZWZmaHzhwoDp3YGCgmv7f//7XYGnJhM2bNzvOO+88R1hYmMPPz8/Rs2dPx2OPPeZan5OT45g6dapKYSUpwyZOnOjYvn17lesWJPVXly5dHAaDoUKKssrX7kwX5jyu3N/+/ftXaZuzza+88kqtKb4qc9ttt6ltdu/eXe02Tz75pNpmw4YNrlRgjzzyiKNz584Ok8nkiIuLc1xwwQUVjmG1WlV7evXqpdodHR3tOP300x1r1qxxbSPHufbaa1VaOfnZXXTRRY709PRq05JlZGRUadvBgwddPxc5zoUXXuhISUnxeN2SVk7Sk0lb5FmSn4Gks5NnqDKSCk/SmMnxCSHegU7+r7lFNyGEENJakAwV4j8WjzAhxDugh5cQQghpIMTnK1YVsTYQQrwHRngJIYSQY0SyOIhXWrzf0jFP0pM5s4AQQpofRngJIYSQY0Q6BEonSukAJ1kpKHYJ8S4Y4SWEEEIIIa0aRngJIYQQQkirhoKXEEIIIYS0alh4wgOS5DwlJUUlZq9PKU9CCCGEENI0iCu3oKBAVcd0L6HuCQpeD4jYTUxMbO5mEEIIIYSQWjhw4ICqmlkTFLwecJbclBso5ScbG+nVK2UrpQyqyWRq9PORlgGfC1IdfDaIJ/hckLb2XOTn56sAZV1KpVPwesBpYxCx21SCNyAgQJ2rtT2M5Ojhc0Gqg88G8QSfC9JWnwtdHeyn7LRGCCGEEEJaNRS8hBBCCCGkVUPBSwghhBBCWjUUvIQQQgghpFVDwUsIIYQQQlo1FLyEEEIIIaRVQ8FLCCGEEEJaNRS8hBBCCCGkVUPBSwghhBBCWjUUvIQQQggh5JiwFxWh8N9/kT9/PrwRlhYmhBBCSKsTXzo/P+gMBrTkayjdsQNlSUko3b4dZdu2o2zvXsBmA4xG6GSQ6zMaoDO4TRtNFZY79HrEl5UhJ+UwAvr3h1/fPjCGhx9z+6zZ2SheswYlq9eocem2baptpsREhEyYAG+DgpcQQgghXo/D4YAtNxfW9AxYMzJgzSwfVxky4SguhiE0FMETTkXwaachcORIJRAbEmtWFgr/+ktFNXU6HQyRUTBGOYdIGJzTERHQmUw1Xpf18GElapWw3Z6E0qTtsCQfkJUN0tZgAFmbNiGrfN4YHw+/Pn3g16d3+bgvjDHR6jqqw3LokBK2xeUC17x7d5VtTAkJ8B88CA6zGTofH3gTFLyEEEIIaXJEFFlzc5WIteWUj9V0ToWxNSenXOBmAhZLnY9vy8tD7uzv1GAID0fwqaci5PTTEDB8+FGL37I9e1G4aCEKFi5Cyfr1dRakhrAwGKOjNBFcLowdNhvKROQmJcGen+9xP2N0NHx79YJfr17w7dUTvt27Q+/rq/Z1WK0qoirjI9M2OGwVl1vLyrB50V/o7HDAvG0bzPv3K4FdKMPChUfaGBXlJoD7wBSfgNItm10CV/apjG/3bvAfOhQBQ4chYNhQmOLj4a1Q8BJCCCEtHFt+Pkq2bIGhsBDehL2sDKVbtqJk4waUbtwIc/IBl5iVT/ZHg0RuJRopYrC6wRAZidItW5D/+zwUzJ+vzpf77bdqMEREqMhvyGmnI2D4sBptDw67HSUbNqBw0SIlcs179lRY79e3L4LGnQxDUJAS5NbMLG2clQlbRqb67C/i0ynmsXOX5xMZjfDt0kWJWr+eveDXWwRuLxUdPlYsFgty7HaMPuMMmEwm2AoLUbZtG0q3bkXpVm1ctns3bJmZKPr7HzVU10YRwgHDNHHrP3hwg1gjmgoKXkIIIaQFISJMPicXr1+voowl6ze4Pi939vFBrs2OqMsvg07ftP3S5dO8JTlZCcSSDRvVWKKXNUZl9XolYCUCqobw8PJx+bxERsPDNWuACNnoaOjr+Kk8cNQoNcQ99iiKV67UxO+CBbBlZyN35iw1SFQzpNz2EDB0qBK/9tJSFC1bponcvxYrIejCZELgiBEIOmUcgseNgykuruZ7YrdrUeqMTNiyRBBnqmmxQ8Buh2+PHkrc+nTtWufrOlYMQUEqyi2DE3tJCcp27EDp6qUoXfAlSvenw1JkhG+YBQHRZgTEOeA/eAj0PUcCnU8EEgYB+pblj6bgJYQQQrw9eisC0ilwN26EvaCgynb6sDAgNxeZzz+Poj/+QPwzz8C3S+fGbdfGTSp6q8Ttho1aFLMSEm31HzgQ/gMGwLdHd5eoFSGrDwlpdGEu9oXA445TQ9zjj6FoxUrkz/sdBQv+VGI25+tv1GCIjoJfr94oXr0ajpIS1/76oCAEnXCCErkyNgQH1/3cer2K0qpIraM7UFYAFGVog94ExA8EDM0vxfS+PvAvXgr/1GeBXsVAX19gxPVAYTqwdwlQmAYc/FsbBN9QoNPxQOcTgC4nAtG9gBr8v95A899lQgghpBViKyxC6ebNsOVk13/f/AJNSLpFb93R+fvDv39/+A8aBP9BA5WgtAcF4b/Hn0DcggUoWbMGeydNQtRttyJy6tQG67AlkcDc739A7qxZKNu5s2q7TCb12Vva5DdgAPwHDoKpXUKNnaGaEmlf0PFj1OB44gkULV+uRX7//FNZEIoytM/5xrg4FcEVkRsonl9P0Ve7DTAXAmWFQHFWuZDNBIrS3aYzNNHonLaVVTyGCMcuJwBdTwG6jgPCO6LJSd0M/HIbkLJWm+94PHD2m0BUN21efMoZScDevzXxu+8foDQPSJqjDUJgzBHxK+PwTvA2KHgJIYSQY0R1QNq1u0K0s2zXrgbrZW/q0EETtoMGIWDQIPUpvLKIFa9m3nGjMeLmm5D5zLMoWroUGa+9joLf5yH++edUx6ejRSK32V9/jZwvvlR+2ArtUsJWRPcA5Tttqk/zx4TVDF1pNoJ6RCCo/WlwXDQYhavWwXzgEAI6h8EvxgSdJRU49AGw93VN1JqLAHOBNpZ565EocL3wCQICo4CSXKA0F9j2qzYIkd008dvtFC2C6hOIRsNSAsfil1Cw/B3k6hzIDYpA7rArkNNuCHLT/kXBgXnwMfjA1+ALf6M/fCNj4Rd7JfyOuw6+eQfhl7YVfofWw+/wRviVZsF36w/w2/K92l7/wH7A5AdvgoKXEEJIw/g3DxxQHYWkIwzggDEmFsaYGNXByBQbq3yY3paq6GiRrAFiLXB5VTdtgr24uMp2ptgomKLDAb8Q+b5d5+PLfZIOUc7orTEyss77SmqoxOkfIu+nn5H24ouqU9LeCy5E5PXXIeqmm+olSC2HDyP708+QM3u2SvWljt+uHSKumYqQ009vkE5VDYpkKMjYDhxeD+QdAkqytehrcflYzedowtUNiT8ro4L8iPaXD3VFbwQCIoHAaE3IqnHVwRYQjjK/UFgMRphtZlispbClboY1eSms+5fBlr4FtoJkWDd8AtuGT2EzmGCJ7Q1b3ABtCGsPq8MGu8MOm3Ns18bqP/uR5c5B5i02CzaXbMbalWuRb85HTlkO8gpSkFN4GHk6B6wd3DIr7P9RG+pDfMVnIBIGLPYysStQ8BJCCKm/uD14UBO3mzer7ADSE7+61EruSA95o4hfEcEuQRwDY2yMEmq+Xbs2S7EAuSZHWZkSrZI9wDUuOjIvkU1J0yQ2A0tKSpVj6AMC4Cc2g/Jop78pGca/7paeS4DBF+gwCuhykjaId7MRO/2IhSDsvEnq033qM8+qTAVZ772PgvkLEP/sMwgYPLjG/aXXftZHHyPv118BSXklX9979ULkddch5LSJ9bZIyP1NLkhGgbkAUf5RiPSLhMlQfW7aOmG3A9l7tE/xKeuAQ2uB1I2ApeqLh0fkBcQ/AgiQIVKb9g8HfINgMfkj32hCgUEGPfJ1OhTAjnydAwUOK/LtFhTYy1BgK0WBpQgl1lJY7BYlZMtsabAUHYQ53wyz3ayWySDis1rkdibEeFiRBqQu0IZjZVelefX+pVlNAowBCPMNQ5hfGMJ9w9U4yBSkrqnUWooyW5kay3UWmItRbNamy2ylMNvLYHWY4YD2nOTbw+CNUPASQgipm7gtH0pE3OblefRH+vbsqSKTEqG0pqfDmpamxpaMDNVbX3rIyyBpkTyhDw6G/5DBrryefv36NcgncknFJKK8dPMmlGzarJLoVxC2Er2UClZ1RaeDb7du8BNhqzpkDYRvNzexvuUn4Lt7NLErPs2yPM3/KMPCpwC/sHLPY7kAjujSKJ1+JLNB+7feRP4f85H6zDPKD7z/0ssQfsXliLnzTiXS3Sletw5Z0z9SGQqcBIwYgcjrr0fg8WPq7MUVYbs5czM2ZGzAxoyN2Ji2FnnWimnIwvR+iPIJRrRvuBLBUYFxiA5ur4bIgChE+0cjOiBaiTGLzYzcjG3IO7QSeWkbkJe5HXm5+5BrL0OeXo88vQF5Bj3yIoOQZwxDrtEXVukMJ6JWp4fObew+7bznOlih02XAZk5FYVEhSo7WrlBH9Do9THoTjHojDDqDh7EBBrsdBksxDGVFMJUVwOCwQe/QhJsODhgcElz2g8E3GDrfYBh8Q6H3D1NjneyvM6jz6KBD6oFUDIr0R+SO+QgryUOYzYbwXucg7IQHERaaqGwIQl6JBXsyCrEnowj7soqQn1+KtPwypOWXIr2gDNlF5hquyg7oLAgNbNrsIHWFgpcQQloIlrR0FK9cgaINGxCRlgb5KOvfpQt8OnRQqZ2OBVXtKT1d+U5FFJXt3oOy3btQtnNXreJWSpX69+unBGB1lgVXeqZyEWyRsZrWxpb0NFj27VfZB4qW/K0GdR5fX61z1jAtub3k/jQE1exrlLRSUua0dNNmLSK7aTPMUpK1jn5a6RCmDwxUYvDIOEClc/Lt0VNFbyWSK/Me2T4H+P5aMfYCAy8Fzn0HyNoN7FmsDarTj3g3f9EGIbSD1uFHxK+kfQqKrrZ9VrtVfZrOLctFfpk2zivLQ3ZJNnaU7YBjrwNh/mEI9gnWBlMwgk8+Dp1H/IyMl19F3o8/IufzL1C46C/EP/M0AkaNQtHffyNz+nRVJla7CToEjx+vbBDi0a3xfjvs2JO7BxszN7oE7u7c3XCg4v32sTsQZrch22CAVadDrr0UuaWl2FWaAeTtqFGoaLHDSoSJWK8o2I9g0+7/MVqoJcrpvI8hPiEVpt3n/Yx+SjT66H1U5FpNG3zUvBpXmhZhWy+sZcCBFVrHMelklrYFyEv2vK1kf5CsCbF9gdg+sIZ3Rfqq15GQpP1sHZHdkX7Sy9jq0w//bCnEnswd2J0u4yJkFFTqVOcBH4MeMSG+iA3xQ2yIL2KC/VzTzrE3onPIbzlSgfz8fISGhiIvLw8hISGNfj7paDB37lycUZ4UmhCBzwWRnJ2SP1TSKBWvWAHzvn3VbiuC19SxoxK/augoQ0e1TFJAOSNzIjzlc3xlYWvevQf26ooWSM97yRcq4rafCNy+8OvevcH9uFIVqnR7EkrWrHZVd5JocAX0etX5yiWABw1S+U1F1Cp7xebNWvaA8s/wFS4jIUFFjP3694Nv127QB4mYDVRiVhsHQu/vd2yWiqR5wKzLAbsF6H8R8s54GTnmPPVpW7yU6hO3pQTmjG0wp6yHJW0TLNm7YXbYYNbp1GDR6VAaHIu8sPbIC4xEnsGAXHOeErUicAssVVOS1QWJ9AX5BGH4PiOm/JyLsFwtP25BZACCszQbgN2gx6Gx3XHw7KGwtI9xCTSJRsrgnJbnKSk7SQlcieQWWqo+O+0sVgwoK8NAGax69Ow8HqbEEbAX5yCvOA0ZxWnILMlGpjkPGdYiZNpKkamzI8NgQKbRgEyDAUVuKcv0DgdCoUeowR+hvqEIC4xDaEg7hMineN8wtcw1+IQq0elw/ucmddznnevLZ9R1OQWtiF2DN+ealUwJ6duAtHIBnLYVjrQt0FXyJzuxwYBZvhfg+aIzUWitXnCLYO0SFYTO0YFICPVDTIiboA32Q1iA9vNvaXqNgtcDFLzEG+Bz0faQEqrFq1ahWATuyhUqulpF7PXpA99BA5G8PQmxEpU9cEBFSGtCbAIigh0OO8x79sJRWup5Q4NBbSef5n26dFVj8dT6dOvWLD3v5c+Tee8+FK9ZrSKPIoDFXlEXpKCARJ1F4Pr318b16fhVXyTKeWDTLCTNvw9JRj2SIjsgyc8fqcWpjXZOEWYi7JxiTyK5B1MOIigySAlQGSQSLPYC8WK641fmwCVL7Dh9jSYBSnyABYN1mDNcj5zg+osZf50R/ewGDMjLUCJ3QGkZohw6LdtA/wuBnmcob2ytWErLO5ZpncyKC1ORV5KFoJi+CGw3DPrGzFrgZVhtduQUW5SNIKuoDFmFZuQUm9V8brFFTcv6XDU2I7fIgoIyC9rrMtFLl4yeugPordfGhx0ReM56GZIcHdSxfYx6dI4MRNeYQCVuZdw1OgidowIR7GdqlXqNlgZCCGkmbHl5KF6zVkVvi1auRNn27VU+u0tHocCRIxAwcpTytBpCQtTL0Kq5czG0/GVI/KfmAwdhTt6vKl2Z9yfDrMb7YT18WNkExHvrbkfw6dy5qrDt2NGrsihIFEkKJ8gQfuGFapklLU0VBpA8sxIFlmiu8v1K5LlffxWBFguE5FFtrChUsaUYO3J2qEGinEk5SdiRtQ0ldjMgGRkEex5QrFlBRIjKZ273z9rOaKlzmVrvXGe3wbcwA6G5hxCatQdh5iKE2uwIsdsR5tAjtN1whPQ4A4aepwMRnau+JI+r+pIsnY5E+FYYJhRg96atMOzYj8OjuyE4wIDJkj2gvPOVjJ3TznlnpNpqM6MTjBgoAvfABnQrLT4iKDqMBvpfAPSZpGUtqA/Su9+UAIQkqNmaTAsNhd3uUN5VEY1FZTYYDTqYDHr16d5k1KZd8wYdDHpdjc+Wze5AmdWGMosdZVYZbNrY4jZttaGwzIbswjJkKUFrRnah+Yi4LTKrNtU/JKnDIUSj0C8BuwNOwH8BJoT6GWHOTcf5Q3uje2yIErbtwv3VdbQlKHgJIaQJcFgsKJXSnZLKav0GldJK+Uor4dOtKwJF3IrIHT68TrXqVXaAnj3U4MnPKlFREcDy11OEral9+wYrRHAsEdFDhYeU13NX7i7lAc0uy0ZcQBzaB7dHu6B2akjwj0Gk9IUpkcT+mTAVZyI0KguhY43AkK6w54dBF54AXVw/zbMo3sXylEgSIRZ/68GCgzhQcAAHC8vHBQeRZ85TnXqcg3TukUE+YatxpXWyXLyze/L2IDk/uYo/VfC129HNEIieXSagR2Rv9IrohR7hPVQk9qixWYDkZcCOP4Ad84CsXcDef7Thj4eAqJ5Az9OAHqcBcdVnXpDP+77+vqpzWAU6nVb/Nm39BfjlVu2TupOYvprI7Xd+oxVPUB0obQ4lKC3iCbeVj+0OWG0OWNXY7tpGop3OSKgaF1WMiMq0jI9GWDrFr8moh1Gvh03KPSsha1ftaChEV4f5mxAR6IPIQF81DpchwITwAB9lL5BxeGD5OMAHIf6mCmLW9SJ0XMc2/bXQKwTvu+++i1deeQWpqakYOHAg3n77bYwYMcLjtieddBKWLFlSZbl89p0zR6v4cfXVV+Ozzz6rsH7ixImYN29eI10BIYRUxJKa6hK2Kk/rli0erQQ+nTqpXvCBo0aqseSqbUj0fn6qM5kM3iJsZbw3by9KbdVYKyrhb7cjwWpFO6tN+ULbWa1or+atiLfakK/X44DJiINGIw6aTDgQEIqDPr44CCsKHRU/5TcUkkGgR0QP9NQHoef62ehVUogOHcfBOOVLwNiAnXYkdZdkc5Bh4nNA5i5N+MogQjgzSRv+fRNGvzD0Cj0BsE+QUCkahWX/A/54WDO8Skc7EbkyyMvGUVJQakFKbilS8kqQkluCw+7TeZIloNQlYhuTIF8jAn0NsNkBixLOzqHqec02O8yS1EP9X/WIKPY1GuBr1GuD6ci0v4/BJWKVoA06ImplWsYido0G78x60NJodsE7a9Ys3H333Xj//fcxcuRITJs2TYnTpKQkxMRUzUn3ww8/wGw+khYjKytLieQLyz93OTnttNPwySefuOZ9fb2z1yAhzYF0DpI8m5Is39nZR3ygxvh4VQbUp107lVzeNSQkQO/v39zN9kokpZVkT7CmpaoE/0rkbtjg0VerDwnRMg5IGispvSqf3usQwW0qJIKWVpzmEqc7c3aqqKh0dpJe5c5BPsc7Uyi5Bp3bOr0BaUVptQpb2bZzaGd0LStDt4MbEGWzIdVoxCGjAQdNMjYi3WBAiV6P3T4+2F1nt4UdcBxJKxUjAtkGtDeFoH1gHBIjeiAidgDs4Z1ghwipSsn8y8cS0XWfFzqEdEDP8J6I9I8EklcAX5wHWIq06lgXf9GwYtcTUu416lbguFtVpS7HroUo2zoXxj1/wliai56lvyD9w1RsHvMmjEHRCPAxwM9kUGMRWAEmI/x8tM/z9bJ8SBldEbor3tfmh10LnP4yYKibjEjPL8Xa5BzsSi9ESl7pEWGbW4KCMo85GOqMiEqJsooVwajXKYEoY7lmLQoq4tEZEdWio86xREslShrm76N8rTVFlp0CWMSu1X3e6jgibE3lwtZoUMdra7YBb6bZBe/rr7+O66+/HlOnTlXzInwlUjtjxgw8+OCDVbaPqFTVZebMmQgICKgieEXgxsXFNXLrCfF+pFe+ed9+Lf/o5s1aqqZt2zxGG6V6lHxy94QhMrJcACcoAewUwjqjSVU3ktKqIqQll6nDaoNDKh5ZrUem3Zbrff1gSmyvOkjJ53V9A7+QqhRYWVmqSpQUExBfqhpMpiPT7oMsr/TH3242w5aRoYlZZwotSZ2lxhmu/LIieD3fMAN8e/YoL7s6SKWykmiuzq3XeXOSVZKlhO3O3J1KmCqRm7PrqDMA1IRL2IZ1Rbewbuga2lVNt4cPjD/dqH2eF/pfpBVnEN9ngFSsioLZNwSH7SU4VJSqxLdEi9VQoI2lapR8rm8f1B7tg9sh0TcS7e1A+5JCJOanIyFzD/wydmhZEyDFIrYDWKydL7wT0Hcy0G8yENuvfnlwD64GvjxfE7uSSmzKV41aSjW/1IK95blRJUfq3kxt2JcZhIKyydBjEs7SL8fzpo8Qk7USvX4+EzeZ78QGh+fIvggxf5MmhkX49YgLRp/4EPSOD0bv+BDEhfgd+TdhLgZ+uB7Y/ps2f+rTwHG3V3u/RARuO5yPtftzsCY5V40P5dac1zbU34SEMH+VFUDG8WF+aCfjUH/VFj+TJh6dYlYTt00jKOU++Bhl8I5/u6QFCl6J1K5ZswYPPfSQa5ler8f48eOxbNmyOh3j448/xpQpUxAYWLHn5uLFi1WEODw8HOPGjcOzzz6LyGp66JaVlanBvdef0/ciQ2PjPEdTnIt4L0qkZefAmnoY1tRUlB06hMg1a5GxazcMkipJCTMRaG6ircq8SXkzpeNS6eYtKNuyGWVbt3lMN6WXnKJ9esO3r/Rg7wtjQoIm4g6lwJJyqHycohL0O4qKlICUoTpBfCwYYmJgSkwsH9orEeyc14eGVhGjDrNZWQasKSmwHk6F5bA2tjrHqalqm3rhFMPicXM4POaerQ5dYKBK8O/TvZuK2voNGADfPn2qRMWtUtigPsUNypHooiTCL7YWqw5T+aX5SLYmY2XKSjj04l20VhgsDkvVZXYL0kvSsTtvtxK3IhQ9IZHbDsEdlDDtEtoFHYM7qvsvx5BIZ4XjOiqew319uF+42l/ErXhxK+cd1e37G4af/g8oSofDFAjbGa/C0a9i4EJtJwWoZAhMxPCY4VXWS/Un6eglPtvqkKIF4n3VpW+BLn0rdJK66cBy6HL2AUtfV4PkJrX3mQR7n/OAqKpe6AptSlkHw9fnq/RP9o5jYLvgc+3PaR1+h0u0sMRiQ4nZhiKzNi6WwWJDcVn52GxFXrEF+7NLlMDdm1msOjFV2x4dkBAWiKzwM3FvViIes76NdraDmO37NN70uQHfOU5Rxy212Fyf58UeUFhmVUNmYRl2phdizsbDrmPKp/SecUEYGmnFNQceQlTeZjgMvrCd8y4c0hnNLe1bVmEZ1h3Iw7oDuVibnIvNKfkotWgRcSeiS3vEBKF3QogmakP9EO82BPrWR444tH+jNrsKPJO2qzEs9bimZk1LlpKSgnbt2uG///7D6NGjXcvvv/9+5dNdsWJFjfuvXLlS2SBkO3fPrzPq27lzZ+zevRsPP/wwgoKClIg2eMiv+OSTT+Kpp56qsvzrr79WxyGtEJsNfgcOwJiXB7uvH+x+5YO/H2x+fnBIT/WG7OHtcEBfUqLOZ8rNgzE3F8a8XG06LxdGNc6D/ijEUF2wG40oS0hAaWJ7lLZPVGOLvADWJdpY3nZTTo4ajGqcq03n5mpZBfR6OORYBhkbtGlZJt4ztc7gNq2HvrQUpuxsmLKyYXB72fSEzddXtdUaGgJDYRFMcu8Kao9COkSkhYSon6XOatUGm+3IuA732m4wwBISBEtIMMwhwbAGB5fPh8AaItPB6hx2X19NFDqssMCijUV0Qhu7lsl/jorT8l+Zowxmh1mN1bT85zYv23jqJHUsiE0hTB+GWH0sYg2xiDHEqHGUPkrZExoNhx090n5Br8M/qmpR+X7tsarzrapXeVNisJUhNn8d2uWsQGz+RhjcvL55fok4FD4Kh8JHoti3orUutHgfjtv1EnxsRcgK7IFlXe+FzeCHMhuQUwZklemQXQZkl49zynQotABmu2RKAEQHOsrLudaXEJMD0X5AjL+MHYj2B2L8HIiUxAZu/5SNthIM3v8hEvK0QgP7I0/ExvZXwK73Uf5Us3OwaeN8sw4pxcChYh0OFemQXiKmEB266FLwielldNSnI8cRhBvNdyPZrycSAhyI9Xcgo1SHfQU6ZJZVvZ4AgwMdgx3oHOxApyCgY5ADfs3+TZm0NoqLi3HppZd6fx7eYxW8N954oxKxG2uJOO3Zswddu3bFn3/+iVNOOaVOEd7ExERkZmY2WR7eBQsW4NRTT23TPSgbPZ/n7t0oWb4cxcuXo2TVajiklGh1GAxaEvrgYG0IClJVlfQhwSpBvfp8X1YKR5lZfTK3l5WpsUQVxSqgxpWW1ymyp9PBEB0NY1ysinoeKi5GYrt20IkVQI4pg0XGFu2YFkuVZTIYY2NU5NZXpWrqB58uXbTIpRf+XOy5ubAcOFA+HFQZBdT0wYOw1ZBfVufnpzzH+vhYmKNCURwZgNwwIzJCdDgUZMYBv0KklmWqqKhKoyQi0+4W+ZSon8UKncUGkw1qMFq1sfz5zg0ECiRA6yUJ1gWJYkqZVX+DP6xmK0ICQ1zlSavz07ovD/MJ02wFod2UxcDf2MS+7KIMGH6+Cfq9mqXAPuBS2E57ETA1c2ChrAC6Hb9Dv+UH6PYuhs5+JHppjx+sIpoFXc9CVmYGEn+bAh9zLg4E9sOrMS9gb74OB3NLkF1U/+iZv0mPAB+j8tYGOj22atqIIF8DEiMC0DkyAJ0iA9FRikPUohgr/C0xGqFf9jb0i5+FzmGHPX4QbOd/CoS2r/12WO04vOkvdFhwA3wteUgzxOEG24PYUFq1X42T7jGBGJwYhkGJYRicGIouUYHQ07/qFbRmjZGfn4+oqCjvz8MrjZSIa1paWoXlMl+b/7aoqEhFcp9++ulaz9OlSxd1rl27dnkUvOL39dSpTR6Mpnw4mvp8rR3J11m0bBmKly1D0X/LlD/VHak+JT3XJYeprbAQ9vx8NVaf6mw2NS9DQ2IID4cxPg6muHiY4uK06fgEmNSyOBhjYlzCVH5JrZ87F8MbofCECE3pSFRoLlSeTRnLJ3P5JC3rnGP5lK4G+c/heXBWLZJtZKyG8v+cHX3Uds7l5e/YTpuCRBp1/jroeuig6ykduMKhwwC1Xl9mhW96LnxTc2HIzkO2vw0pgRbsDyhGsi4bacXpKLAcqHhx8uW3UnGuapEPPgYdKrsLnRFOg1uVprpGWCWXqq/RF34GrdSos+So+7RaZ9SWiegMMAUg0BiIQJM2yLwIW/f5QIMf/EryoCs4DGt+KhZuzcS4sy9rOb8z9v0LfHcNUJgKiNA+63XoB10Kb3BF2g3hyOx+Pg5FnYGM3qnw3TUH7Q/9js4Fa6E/vA44vA5hC5+Ar8MHPjoz1tu74vKsO1GYVfFLQ7CvEe0jAtA+3L980KajgnyUsBUx6xyLf7axBKHrb8mJ9wDth6j7rj+8HvqPxwEXzAC6nlzz/kk/oPsf/wfYyoB2QxF7ySz8FBiFtPwy5c3dejhf+Yjl2oZ0DFciVzy4xLsxtUKNUZ/raVbB6+Pjg6FDh2LhwoWYNGmSWma329X8rbfeWuO+s2fPVlHZyy+/vNbzHDx4UGVziI+Pb7C2E+/DVlCgqlSJuBWhKxFdd3S+vggYNgyBx41G4OjRKqF/5Q5EStiUlsKWXwB7YYFK2G8rKIS9IF8bFxYoUSyiVDpa6Xx8ofPzrTpdPrhPS8EASRHVWEjZUWcyfOmQpCotuQlamZdk8zIuMhepiGeLIqx8LM2u9B4iojE2IBYxATGuQeZlkByoktRfRGyFsVsE1H0sHtaaeq87xa9T7Gv/0/6T/WvyklaLtQwoOAzkp5QPO8rHh44sK0wDHDbXL+6J8vsy50ugz9lA77OBiC5oMLJ2a3lfd/4BpG4G4vprabG6nAjEDwLqU27Vbgf+fQNY9KyyM6i8sRd9BsT0Purmyc/gYE4JdqQVqF7/4omV9yjtZyMvWPKSAte0TDiXSWYr2aqw1Ko6UkmWAEmJJT3vjyBt640o5OE0w0qcbViG4bok+OvM2Gnohk86voaLomJcwrZdubj1StEn4vbGJcCsK4DD64EvJwPjHgOOv6vq1wu5Qf+9BSx4XJvvdRYweTrgE6C+esSF+qnh5F7VR3oJ8Vaa3VEjKcmuuuoqDBs2TPlwJS2ZRG+dWRuuvPJKZXt44YUXqnRWE5FcuSNaYWGh8uOef/75KkosHl6xSHTr1k2lOyMtH/mjJr3jpexq2a6dKNu1C2VJO1RKqAq2ASnD2q+fErcy+A8eVGs2ABE6On9/rbNRrHf+UpcUSpI8X6o7SZUnVe0pJwmpRfUvYSriTCKIUjNeIorSaVQJPugqJON3H+QeOUWhHkeWyX9qWv4rn3duI38tXevKl9ckHN0jqs5p2U9SQVUWtTKW9jdVbXf3az1qROCKoNwwEzi4Un3qrxPS8Ss4Hg6fQOgytkN/aBUggwgUyTIgwleGmD71s2JIe/b/C+xcoLUru+LLIvb8pQ0L5ZNYKNDpeE38dj4RiO5Z/bmKsoAfbwB2/anND5gCnPla3UrMunWISkorQFJqgRK421MLsDOtUHW2akgk2BobomUIkOwAaixiNuwUhIUFoNiQg6C01eje/VS86XsMhSSag7AOwDV/AHPvAdZ9CSx8CkhZC5z7P8Cv/DOwZFKZ9wCw6iNtfuT/AROfr9/LDSFeTLML3osvvhgZGRl4/PHHVeGJQYMGqQIRsbGxan1ycrL6I+yO5OhdunQp5s+fX+V4YpEQT68UnsjNzUVCQgImTJiAZ555hrl4W6KwzciAWQStDErg7lL5Y6uzGkjaJ4ngBojIHTEChtDQaqOhq1NXI6UoRX1Wll7e8pnZOXZ+bnZ+flbLyz9H19YjvCEpdZRiXfo67C7Y7RK3kkJK7AeekN7wUtkpLjBOiUCJbgb5BKnSpiJs1bwpSFvmE6xEblMJxTaPRM8OrQE2fANs/h4oqZQlweinlVMNLi+rqoZ25eN4bTowWgkQq8WCRT9/hfHty2DYMVdL65W2WRsWv6BFe0X49jpbfZL22Dkx/zCwc7427FkMmN0yeehNQMfjgB4Ttf1T1gN7lwD7lgJleUDSHG0QgmLLCyOIAD7hSJWt5OWahUGi1HJtZ7wCDL7CoziW7AFSCetwXolL1O4oF7mZhZ6zE0jeUymR2iM2WHlb5bB69TJS/lKi0+wyImTVtNsyGQeYDG6i1l9FLqV8bPUEA9Ed0GKRlGnnvAO0GwbMvQ/Y9iuQkQRc/KXm65WflRSzkDsoQnf0zc3dYkIalGbttObNJujQ0NA6maAbAlfZv0bwarYk5FEsWvovChb+6RK31aaGMhjg07Gjq4KUb/duKpm/5IX1hNSRX5++HssPL8fylOXYmr3V5S89GkQoinAM9Al0iUkRkc5oqUyr9eXzMhaUzaDcalB5XGQpUvYDNTZrY2m3J0SEdw/vrsStDD0jeh57CVPSOOQeADbO0qK5WTuPLA+OBwZcDPQ+B4joDPiH1zkqW+V3RnG2JlZExOxaqHkv3c8jn6ZFAEvnMLEpSBQ3tVJnXxGu3U8Fuk/U8so6I3/uSBTw8AZAOp3t/VsTtdZK+ZzDO6Esuj98ds6FzmFDQWAnLOj3MvYaOrnKuarSrkXOEq8WZUmoDrklHSIC0DM2GD3jgpXA7RUXjE5RgbUI1LZHnf+WSA5hsTgUpAA+QVoEOH2r9mIy+UOgz7lN2WzSyLRmjZFfD73W7BFeQiSrQN6cucieMQNlO90EgaDXwycxUeU31cRtdyVufTp3hl5Sh1WDiFmJiIrAXZayDGvT11YRj9JLXSomSc99WacGa/nYVqY6dZltZpXnU+alI5cTlQ/VWowqvZ0aAflsL4JW2qpKmYb3VHlSpZoVOUYkoX7ufiB7L5Czt3y8DyjJBkITtUip+xAcVzdRWlYIbPtFi+aqogrlcQXprNXnHGDgFC0i2lA/w4AIYNCl2iDn3rVAE78ibMUbvGq6NlRAB7QbogncHhOAuIG1p6mTqlrth2rD2HsAS6myZDj2LEFx0iL4p2+APmcffOUeAvjZdhwezroWRUvEfrCr5kPrdapzlwhaEbdSCEGEbbeYINXRizQg7YcBN/4NfDcV2PePJnYDIoFLZgKJR1J8EtKa4G8R0qydzHK//RbZn3+hCh4I+oAAhE6apPy2InAlnVZdq3AdLDioRXAPL8eKwyuQW5ZbYX2UfxRGxY9Sw8j4keqzf32QVFYifFUBAEux1vnLUnQkSutp3lzkmhZcdgI3i0Flq4EzIuyn98Pyxcsx+czJre6tvMmQD1hFmZqIdQnaclEr05IxoDrEflAZiZCGdwYiKwlhGYLiNPEgkVwRuxa3tHedxgIDL9HEbmP7P8Uf2/c8bRBBKlYEac/2uVp52G7jNJHbbTwQFH3Up5GCCUt35WHR9jAs3DYa6QVDEIRiDNcnYZh+Bw77dcO68JMwONBXlW4Ndy/pGugs7XqkvKtkOKC9pgmRn/0VPwFLXgJS1gGnvwREdm3uVhHSaFDwkiZHyr2KyBWx6yzLKlWqwq+4AuEXX1St79YTGcUZ+GnXT/h598/Yn7+/iu1gRNwIJW5F5Er+0WP5g+rMZarsCf5N8xnKT9d4WR1aPRLd/P0BTeDWhF+oJmKlzKxYC2RaIqZiRZDOW9l7tCE3WROx6Vu0oTLi63a3yUR01UTuwIu1T8bN5dsUH64M55a/ABzDvwHx2C7clo5F29Px765Mla/ViaTaGtO9M07pPQon94xBdDD7THg9ErEf90hzt4KQJoGClzQZpdu3I2vGDOTP/d1VltKnW1dETr0GIWefVaNFobJdQWwKs3fMxuIDi11WA0k3NSB6AEYljMLo+NHoG9VXpYkibQzpjCW9zbf+XL5Ap3X4UmK2U0VhK9MibuuC1QzkiQjeo6XtcgphJYb3A1KsQMRzv/M1odt+uFcVrVDUsz3SmUw6kC3aloaF29OxJaViZ1Hp7HVK7xic0jsWo7pEwNdImw0hxDuh4CWN3xHtv/+Q/fEMNXYSMGIEIq+9BoFjx1bJhVtTNPfHXT/ih50/4FDhIdfywTGDcUGPC3BKh1NcncNIG0Q+16/6GFj4NGAuAHQGYPQtwIn3N4yNwOijffKVQTp3Ve7MJV7ZoBjA2PiRzYJSqyoLe6x9jmX/jMIyHMguRnJ2MfZnaWPnvBQaqKyXpZqWCFwRuuK1pQ2BENISoOAljYL8IS2YNw+ZH3yIsu3btYV6PUJOm4iIqdfAv3+/Y4rmiuf1nK7n4Pzu56tsBaSNc3gj8OsdWm5RQVIvnf0mEFe356xBPg2HJTbKocusNmxNyce65FysO5CLdck5quiC/Pp+cPWfCPKVMrRGlZorsHw6yM+oPLHOaef6YrOtgqCVodRSc7YS2e/4blFK5J7UMxpRQbQqEEJaHhS8pMFxWCxIfeZZ5dEVpJBD2AUXIOKqK+HTvvY67nWJ5k7oOEHlxSVtHMlIIHlnl7+nVSGTogjjnwCGTq0944AX4qwg5hS2InJF7FasAnYEm92BvBKLGo4WyVMbH+qvUn+pITIAieXTHSMCVIczRnEJIS0dCl7SoFhzcnDojjtRvHKl+v4ZecMNiJx6NQxhzrqwNSNFFj7b8hmjuaR2JOuAJNDPP6jN950MnPaCljqshVBstmLDgTysO6CJWxkyC6vmXo4I9FFWgsEdZAhH79gA/LlgAY47cRxKbTpVdUxK5aqxmraocYHbcrFB+Br1Ssg6Ba0MUnzBx9jyXg4IIaQ+UPCSBkMKRRy46WZYDhxQ6cUSXn0VweNOrtO+27O34621b+GfQ5KzVIPRXOKRvEPA7/cD23/T5sM6Ame+DnQfD29HOoGt3Z+DZXuysGx3FjYczIXFVtGHa9Tr0DchRAlbJXATw5EY4V8hyioZPHwNWilcpqwjhJDaoeAlDULhkiU4dPc9Ks2YqV07tH/vf/Dr0aPW/ZLzk/HOunfw+77f1bxBZ8CkbpNwWe/LGM0lVTulrfwQWPSsVgZXbwSOux044T7AJwDeiPhvJWor4lZE7vrk3Cr2hPhQPwxxitsOYeibEAo/E7MdEEJIQ0LBS47Zc5j9yadIf+UVleMzYNgwtHvrTRgjak71lFaUhvc3vo8fd/7osi6c3ul03DL4FnQM6dhErSdej2QhyNyhFXRY+7lW1lZIHAmcNQ2I7QNvwmy1Y+PBIwJ3zf6cCrlqhdgQX4zuEonRXSMxuktUlegtIYSQhoeClxw1drMZqU8+hbwfflDzoRecj/jHH4euhny6uaW5+Hjzx/hm+zeuUr9j243F7UNuR6+IXk3WdtIASCGG/94BDCYgtq82RPXUih0ci8DNSNIE7v5/gX1LgaKMI+slz+2pTwODr2yyTml2uwP5pRbkFMtgRm6xGTlF2rQ2WNSyzEIzNh3MQ4nlSAlqQbIaaOI2UuWq7RwVSIFLCCFNDAUvOSqsWVk4ePsdKFmzRgmP2AcfUJXSqvtDLqV4P9/6ueqQ5iyzOyRmiBK6Q2OHNnHryTGTvAKYdVlFMSpI7tvIbkcEsHMITfRc9EAJ3O2asJVBRG7lY4p/O3GEVp536NVartsGxmKzIym1ABsP5mHToVzsTCtEthK2ZpUBwV6PdLfSwUyErTOK2zU6iAKXEEKaGQpeUm9Kk5JwUDqnpaRAHxyMdq+/jqCxx3vc1mwz49ukbzF903Rkl2arZT3DeyqhK5FdCoEWyPqvtZy3NjMQ2x/oNAZI2wKkbQZKcoDMJG3YokX+Fb4hmvCN6aONxY+7X0Tuv0BxpgeBOxLodLw2tBvaoMUcJJXXrvRCZT3YdCgPGw7mYdvhfGVHqIlAHwPCAnwQHmhCeICPNh1gco1lWa/4YPSICYZecn0RQgjxGih4Sb0oWLgQh+67H47iYpg6dkDie+/Bt0uXKttZ7Bb8tvs3vLfhPRwuOqyWdQjugFsH34qJnSZCr2MapBaHiNQ/nwT+e0ub73UWcN4HgG/QkWitVBtL26qJXyWCt2ge3LJ8IHmZNlTG6H8kgqsE7pAGE7hiR9iXVaQJ2wNa9HbzofwqtgMh1N+EAe1D0b9dKPokhCgrQni5mA0NMLFsLiGEtGAoeEmdO6dlTf8IGW+8oXVOGzUK7ae9USW/rsVmwa97fsX0jdNxsFDLjxrjH4P/G/R/KvuCSc8USi2S0nzgh+uBHfO0ecmMcNLDFX20Eq0PSdAG9xRhVjOQtfOIAJZBOip2PE4TuQkicKv3fdeXErMNS3dlYv6WVCzano6sIrPHaG2/dqFK4A5oH6bGkpOWXxwIIaR1QsFLasWWl4fU555D/i+/qvnwSy9B7EMPQeeW/1OsCz/t+gkfb/oYKUUpalmEXwSm9p2KKb2mMI9uSyZ7L/DNJUDGNs1ucO67QP8L6r6/iFmnl7exmlhkxsJtaViwNQ1/78yoUC5Xii1IxHZg+zAVvR2YGIrOUUEw0HZACCFtBgpe4hFLWhoK/vwThQsXomjlKsBqBQwGxD7yMCIuvdS1nWRakNRiknkhtShVLYv0i8TUflNxYY8LEWDyzvyopI5IR7JZVwAl2UBQHHDJ15qn1gtIzirG/K2pmL81Dav3ZVfoWNYuzB+n9onFhD6xGN45AiYDLTSEENKWoeAlLsr27EHBgj+V0C3dtKnCOt8ePRD78EMIHDVKzZdaS/H9zu8xY9MMpJeku6wL1/S/RpUAZkS3FbDmM2DO3YDdCsQPAi75RrMrNKOtRvy3InIlkrs9taDC+j7xIZrI7RurpmlPIIQQ4oSCtw3jsNuVsC34c6ESuea9e4+s1OngP2gQgsePR/Ap4+DTqZNaXGItweyk2fhkyyfILNF618cGxOLa/tdicvfJ8DU0XG960kzYrMD8R4EV72nzfSdrNoZmqmYmqcG+WL4fM1cmIyWv1LVcLAkjOkUogTu+dywSI/g1gRBCiGcoeNsYDosFRStXltsVFsGarkVnFSYTAkePQvAp4xE87mQYo6Mr5NGdlTQLn2751JVeLD4wHtf1v051RvMxNFynI9KMlOQC310D7F6ozZ/8iNZBrRmipQeyi/Hx0r2YteqAK6tCgI8BJ/aIVpHccb1iVEowQgghpDYoeNsQxWvXIuX+B2A5qGVPEPSBgQg68QQEnXIKgk48EYag8hRT5dgddny34zu8s+4d5JTlqGXtgtrh+v7X45yu58AkVbZI6yBrN/D1xVpGBUkVdt77QN9JTd4MqVb2wd+7MXfTYZcvVywKN57YBRP7xsHPxPRghBBC6gcFbxvAYbUi83/vIfP99yUxKQzh4ZpV4dTxKr2YvppSwHvy9uCp/57C2vS1aj4xOBE3DLgBZ3Y5k+nFWhu7/wJmXw2U5gIh7TS/bvzAJvXn/r0zEx8s2Y3/dme5lo/tHoUbT+iKMd0i6cklhBBy1FDwtnLMyck4dN99KN2wUc2HnnsOYh97rEokt3Iu3Y82f6Ry6UoBCX+jP24ffLtKL2bU85FpdcUklrwMLHlJZCfQbhgw5SsgOK72Xe0OrDuQq6bbh/sjOsi33hXGpKTvrxtS8OHfe1yd0MSbe/aAeFx/Qhf0TQg9ygsjhBBCjkD10kqRiFnejz8h7dlnYS8uViWA4558AqFnnlnjfuvT1+PJ/57E7rzdal7K/z466lEkBDVf73zSSBSmA99fB+xdos0PvgI441XAVHuGjfSCUtw7eyP+3pHhWuZj0CM+zE+lBFNDuD8SwvzRvnw6PtQfPkYtPVhhmVV1QhOP7uHyjmjiz50yvAOuOb4T2oezAxohhJBWJnjfffddvPLKK0hNTcXAgQPx9ttvY8SIER63Pemkk7BkSfkfaDfOOOMMzJkzxyX2nnjiCUyfPh25ubkYM2YM3nvvPXTv3h1tAVtuLg4/+RQK5mlVsQKGDUPCyy/BlFC9aC00F2La2mn4NulbOOBQRSMeGP4ATu98Oj8lt0b2/gN8fy1QmAZIruSz3gAGTqnTrlLg4b7vNqpiDyJgJbJ7OK8EZpsd+7OK1eAJeYxign2VGN6ZXoiCUqtaLiV8p47phMtHdlQlfAkhhJBWJ3hnzZqFu+++G++//z5GjhyJadOmYeLEiUhKSkJMTEyV7X/44QeYzUdKhWZlZSmRfOGFF7qWvfzyy3jrrbfw2WefoXPnznjsscfUMbdu3Qo/v9adH7Zo+QqkPPggrKmpgNGI6NtuQ+R110JnqL6jz1/Jf+HZFc8ivVjL2HBu13Nx77B7EeZXsWwwaQXY7cA/rwGLn5e8dEB0L+DCz4CYXnUq2fv83G0qRZjQKy4Yb10yGD1ig2G12ZGaX4pDOSU4lFuixil5JTjoNl9mtSMtv0wNQpfoQNwwtgsmDW7HjmiEEEJat+B9/fXXcf3112Pq1KlqXoSvRGpnzJiBBx98sMr2ERERFeZnzpyJgIAAl+CV6K6I5kcffRTnnnuuWvb5558jNjYWP/30E6ZMqVsUq6XhMJuR8fbbyProY7kJ8OnYEQmvvgL//v2r3SejOAMvrHwBC/YvcHVKe3z04xgVrxWXIM1MaR4iCncAlpMAUwN4WYsygR+uB3Yv0uYHXgqc+SrgE1jrrltT8nH7zHXYlV6o5q89vjPuP60nfI2aUDUa9MqGUJ0VQf5dZhWZXYI4xM+E47pG1tvzSwghhLQ4wSuR2jVr1uChhx5yLdPr9Rg/fjyWLVtWp2N8/PHHSsQGBmp/tPfu3ausEXIMJ6GhoSp6LMf0JHjLysrU4CQ/P1+NLRaLGhob5zmO9lzmPXuR9uCDKNu2Tc2HnD8ZUfffD31AgMdjSqqxn3b/hGnrpqHQUgiDzoArel+BG/rdoCqkNcU1kxrI3gP9qukwbvgKYy3FcEybBnuvc2DvfyEcHccAuvqXydUlL4Phx+uhK0yFw+gP22kvwSGCV6jh5y0d0z5bnoxX5u+AxeZAdJAPXjq/H8Z2i1IRYovFXuc2hPrqERoXiD5x2r9Vm80Km5ZelzTx7wzSOuFzQdrac2GpxzU1q+DNzMyEzWZT0Vd3ZH779u217r9y5Ups3rxZiV4nInadx6h8TOe6yrzwwgt46qmnqiyfP3++ih43NvriYmU5WPDHH6L4676jw4HQFSsR/dtv0FsssAUEIO38ydjRrx+weHGVzUsdpUizpWFByQLss+1Ty9oZ2mGS/yTEp8RjUUp55I80PQ4Hogq3oUv6H4jLXw+dZEwAYNX7wWguhG7j19Bv/BrFpggcjDgOB8PHoMC/XR2Oa0f3tDnodfh76GBHgW88VnW+DQWHwoBDc2vcNc8MfL1Lj+152jPZL9yOS7oWo2DHSszd0TCXTY6NBQu0rzOEuMPngrSV56K42HOfEa+0NBwLInT79+9fbQe3uiIRZvERu0d4ExMTMWHCBISEhKCx2T/5fFh27tRmTCbo/fyg8/eH3tcXOjXtpy3z9VPzen9tWgpIlJRHwv1HjULss8+gS3QEDhUewv78/dhfsN81Ts5PRmapVgpY8DP44eaBN2NKD6Yaa1aspdBt+RGGlR9Al77ZtdjedTzMQ6/DHztKMbF3KHy2/QDdtp8RUJaNHmm/qcERNwD2/hfB3mcyEFTV747ibBh+uRn6w39qx+x3AfxOfxVjfapPSedk4bZ0vPHTFuQUW+Bn0uOh03rikuHt2YHRi6Ia8sfr1FNPhcnEjn5Eg88FaWvPRX75F/m60KxKJyoqCgaDAWlpaRWWy3xcXM15QIuKipR/9+mnn66w3LmfHCM+Pr7CMQcNGuTxWL6+vmqojDwYTfJwuNkp5POyXUL0BQWoy9deu9GAbRcNxeLRAdi36v9wsOAgbI7q94z0i8SQ2CG4Z9g9qmIaacaUYKtnAKs+AorKU3tJtoSBlwCjboI+qjsM8hzsnAtDl7HQ9xyn+W13zAM2zgJ2zocudSMMMvz5BNB1nJZloecZgE8AkLwC+G4qkH8IMPgCZ7wC/ZAroa9FsErHtGfnbMVXK5JdFc7eumQQusUEN8VdIfWkyX5HkRYFnwvSVp4LUz2up1kFr4+PD4YOHYqFCxdi0iSthKndblfzt956a437zp49W/luL7/88grLJSuDiF45hlPgyhvAihUrcNNNN8Eb6fDrL5j3yy+YIKV9rVbYS8vgKC2BvbQU9pISOMrKtLGaL4WjrBQ7U7dgwZ55WNYLOBCzFkg5cjwpFNExpKMaOoV0QqfQTmos88E+FC7NSuomYPn7wKZvAVt5tpHgBGDkDcCQq4CAip0yKyD5caXUrwxFWcCWH4ANM4FDq4FdC7RBfr6dTwB2/gHYrUBEV+Ciz4C46jsvOtl8KE91TNuTUaTmrx/bGfdOPNIxjRBCCGmpNPu3bLESXHXVVRg2bJiyJkiGBYneOrM2XHnllWjXrp3y2Va2M4hIjoyMrLBcPrneeeedePbZZ1XeXWdasoSEBJeo9jZ0ej0cPj6q5G9d31Ze/ech/NbegO7h3XF53EhN0IZqAjcmIAb6o+jYRBoJS6mKyGLlh8C+f44sbzcUGHUz0OdcwFDPt+7ASGDE9dqQuUuL+sqQux9I0vJRo9/5wNlvAr5VX3Ikjdj+7GKVdUGGpNQC/L75sOqYJrlyX79oEI7vHnWsV04IIYR4Bc0ueC+++GJkZGTg8ccfV53KJCo7b948V6ez5ORklbnBHcnRu3TpUtWpzBP333+/Es033HCDKjxx/PHHq2O2lhy8kuJp5eGVavr+4fczjZg3Yi0Ddi0EtvwIJP0OmLWyudAZgD7naEI38di85y6iugHjHgFOfhhIXg5s/VmL6A66FGU2O/alFmBnegF2pmniVoa9mUWqUERlTu0Ti5fOH4CIQJ+GaRshhBDiBTS74BXEvlCdhWGxh2wDPXv2VKKvOiTKK97eyv7e1sLe/L1IL0mHj94Hg6I9+5JJM2A1A3v+0kTu9jlAmZuZPqQd0P8CYPj1QFhinUr3vvT7Nvy23oCH1y6En9EAX6MevqbysRoM8DUdmZaqZ77GQPgYL0fqplLsWrhERXFtds//VqQzWreYIHSPCVbjAe1DcXy3KHZMI4QQ0urwCsFL6oczujsoZpDKm0uaWeTuXVIucn9TxSJciDdXeW7PA9oNq1PKuTKrDTOW7sM7i3aiyCydD3UoK7OhqOzoE9YG+xrRLVaEbVAFgSslfln4gRBCSFuAgrcFsuLwCjUeGT+yuZvSNrFZjojcbSJyc4+sC4rTPLn9JgPtR9Q5r7J8sfhjS5oq3ZucreUVHNA+BCeGZOPciSfBDj3KLHYliKVErxqrebdlbuvFkiDCtntskPLkMmpLCCGkLUPB28Kw2W1YmapFeCl4m4GNs4F5DwDFWUeWBcZoIlciuR1GAfr6ZTXYnpqPp3/div92a8eMDfHFA6f1wpl9YzBv3u/oGBHQ6lLJEEIIIU0JBW8LIyknCfnmfASaAtE3sm9zN6dtWRf+eBhYNV2bD4g6InI7HldvkStkF5nx+oIkfL0iGWKzFQ/uDWO74KaTuiLQ19gqy0ASQgghzQEFbwu1MwyLHcYKaU1F3kHg26u0fLfCCfcDJz4AGI7u/ltsdnyxbD+m/bkD+aVWteyM/nF46PTeSIxo/FLWhBBCSFuDiqmFsSJVE7wj4hoopRWpmd1/Ad9fq1kY/MKAyR8CPSYe9eH+SkrHs79txe7y4g6940PwxNl9MKpLxXzShBBCCGk4KHhbEBabBWvT1qpp+ncbGbsdWPoasOg56VIGxA0ALv4CCO90VIfbnVGohO5fSVoZ4chAH9wzoScuHp4IAzMlEEIIIY0KBW8LYmPmRpRYSxDhF6EqrJFGoiQH+PEmYMfv2vzgK4AzXtVK+9YTyb7w5fL9eGbONpitdhj1Okwd0wm3ndIdIX7siEYIIYQ0BRS8LTD/7vC44Swd3Fgc3gh8ewWQsw8w+AJnvgoMufKoDpVTZMb932/Egq1pan5s9yg8eU5fdI0OauBGE0IIIaQmKHhbEMsPL1dj2hkaiXVfAnPuAaylQFgH4KIvgISjq2S3fE8W7py5Hqn5pfAx6PHg6b1UZJf5cAkhhJCmh4K3hVBsKVaWBmFkHAVvg2IpBX6/H1j7mTbffQJw3gdAQES9D2W12fHWwp14+69dkOrXXaIC8dYlg9GvXWjDt5sQQgghdYKCt4WwLn0drHYr4gPjkRic2NzNaT3k7Ae+vRI4vF6V8cXJjwBj76lzhTR3DuYU446Z67Fmf46av2hYezxxdl+VU5cQQgghzQf/Erew/LuSjoyfxRuIXQuB767RSgP7RwDnfwR0O+WoDjVn42E8+MNGFJRaEexrxHOT++OcgQkN3mRCCCGE1B8K3haWf5f+3QYieTnwzSWArQxIGAJc9DkQVv/IeYnZhqd/24JvVh5Q84M7hOGtKYNZQIIQQgjxIih4WwB5ZXnYlrVNTVPwNgBZu4Fvpmhit+cZwIWfAkbfeh9m2+F83PbNOuxKL4QE3W8+qSvuHN8DJgMzaBBCCCHeBAVvC2B16mo44EDn0M6ICYhp7ua0bIoygS/P13LtSmT3/I/rLXYlt+7ny/bjublabt2YYF9Mu3gQjusW1WjNJoQQQsjRQ8HbktKRMTvDsWEp0SK7OXuBsI7ApbMAn/pZD/KKLbhn9nr8uS1dzZ/SKwavXDgQEYE+jdRoQgghhBwrFLwtAPp3G6hU8A83AAdXAX6hwGXfAUH1i5bnFptx+ccrsPlQvsqt+/AZvXDVccytSwghhHg7FLxeTnpxOvbm7YUOOlVhjRwlCx4Dtv0CGHyAKV8D0T3qXTXtso9WYOvhfEQG+uCza0Ywty4hhBDSQqDgbSHpyHpH9kaoLwXWUbFyOrDsHW363P8BnY6v1+7Z5WJXOqlFBfng6+tHoUdscOO0lRBCCCENDgWvl7MydaUa0797lCT9rlVRE8Y9Bgy4sN5i99Lpy7E9tQBRQb745vqR6E6xSwghhLQoKHi9GMkG4Izw0r97FBxaqxWWcNiBIVdqFdTqQVZhmYrsitiNDhaxOwrdYoIarbmEEEIIaRwoeL2YAwUHcLjoMIx6IwbHDG7u5rS8ksFfXwxYioGupwBnvg6VLLeOZIrYnb4CSWkFKu3YNzeMQtdoil1CCCGkJULB2wKyMwyIGoAAEyt31RnJsfvVhUBROhDbTyssYTDVefeMgjJlY9iZXojYEC2y24VilxBCCGmxUPB6MU47w6j4Uc3dlJaD1QzMugLITAKCE4BLvwX8Quq8e3pBKS6dvkJVT4sL8VOR3c5RgY3aZEIIIYQ0Ls1eA/Xdd99Fp06d4Ofnh5EjR2LlSq2TVnXk5ubilltuQXx8PHx9fdGjRw/MnTvXtf7JJ59UeVHdh169eqGlYXfYsSp1lZoeET+iuZvTMnA4gF9uA/b9A/gEA5d9C4S2q/Pu6fmluOTD5Ursxof6YSbFLiGEENIqaNYI76xZs3D33Xfj/fffV2J32rRpmDhxIpKSkhATU7UogNlsxqmnnqrWfffdd2jXrh3279+PsLCwCtv17dsXf/75p2veaGx5geydOTuRXZoNf6O/sjSQOvDX88DGmYDOAFz0KRDXv15id8r05diTUeQSux0jKXYJIYSQ1kCzKsHXX38d119/PaZOnarmRfjOmTMHM2bMwIMPPlhle1menZ2N//77DyaT5smU6HBlRODGxcWhNdgZhsQMgake/tM2y9ovgL9f1qbPngZ0G1/nXdPKI7t7MouQEKrZGCh2CSGEkNZDswleidauWbMGDz30kGuZXq/H+PHjsWzZMo/7/PLLLxg9erSyNPz888+Ijo7GpZdeigceeAAGg8G13c6dO5GQkKBsErL9Cy+8gA4dOlTblrKyMjU4yc/PV2OLxaKGxsZ5DvdzLU9ZrsbDYoY1SRtaLHYb9CvehX7x85AcDLYxd8Pe/xK5mXXaPTW/FFfMWI19WcVK7H5xzTAkhPh4xT339FwQIvDZIJ7gc0Ha2nNhqcc1NZvgzczMhM1mQ2xsbIXlMr99+3aP++zZsweLFi3CZZddpny7u3btws0336wu+IknnlDbiDXi008/Rc+ePXH48GE89dRTGDt2LDZv3ozgYM8FA0QQy3aVmT9/PgICmi47woIFC9TY5rBhZZ7mZbbssmDuviMeZXKEwNJUDEn+EBFFu9R8csTxWFc0EHDzdNdEbhnw9lYDMkt1iPB14Louhdi8fDE2w7twPheEVIbPBvEEnwvSVp6L4uLiOm+rc0h1g2YgJSVFeXDFniBRWCf3338/lixZghUrtE/67kgHtdLSUuzdu9cV0RVbxCuvvKLEbXWd3Dp27Ki2u/baa+sc4U1MTFSiPCSk7j38jxYR7PIgij9ZrBobMzfi6vlXI8QnBAsnL4RBfyR6TaRzmh361R9Dv+hp6KwlcPgEwTbheTgGXFKnXLtmqx3frDqAdxfvQU6xBe3DJLI7HO3D/eFNVH4uCHHCZ4N4gs8FaWvPRX5+PqKiopCXl1erXmu2CK80UERrWlpaheUyX53/VjIzyA/L3b7Qu3dvpKamKouEj49PlX2kQ5sIZYkGV4dke5ChMnKupnw4nOdbk7FGzY+IGwE/X78mO3+LKSjx8y1aJgah84nQnfsujGGJte4q73a/bTyMV/5IQnK29lbYIzYIM64Wseu9eY6b+jkkLQc+G8QTfC5IW3kuTPW4nmZLSybidOjQoVi4cKFrmd1uV/PuEV93xowZo4SrbOdkx44dSgh7ErtCYWEhdu/erbZpaR3WmI7MDfkQseYz4L3jNLErhTjOeBW44iegDmJ32e4sTHr3X9z2zToldqVU8HPn9cPc28d6tdglhBBCSAvP0iApya666ioMGzYMI0aMUGnJioqKXFkbrrzySmV7EI+tcNNNN+Gdd97BHXfcgdtuu011Tnv++edx++23u45577334uyzz1Y2BrFNiLdXIsKXXHIJWgKl1lKsT1+vpkfGj2zu5ngH+SnAL7cDu8r9Rx1GA+e+C0R2rXXXpNQCvPj7NvyVlKHmA30MuOGErrhubGcE+ra8dHWEEEIIqT/N+hf/4osvRkZGBh5//HFlSxg0aBDmzZvn6siWnJysMjc4EV/tH3/8gbvuugsDBgxQYljEr2RpcHLw4EElbrOyslQWh+OPPx7Lly9X0y2B9RnrYbabEe0fjc4hnYG2HtXd+C3w+31AaR5g8AVOeQwYdTNQi6/5cF4JXp+/A9+vPQi7AzDqdbhkRAfcfkp3Fd0lhBBCSNuh2UNct956qxo8sXjx4irLxO4gArY6Zs6ciZbMysMrXdFdqRLXZinMAH67E9j+mzafMAQ4730gumeNu+WXWvDe4t2YsXQvyqya9eX0fnG4b2JPdIkOaoqWE0IIIcTLaHbBSzz7d9u0nWHLT8Ccu4HiLEBvAk56ABhzF2Co/nEts9rw5fJkvLNop8q8IAzvFI4HT++NoR3Dm7DxhBBCCPE2KHi9iAJzATZnaVlgR8a1UcE7/zHgv7e06dh+wKT3gPiaSyvvzSzC1Z+sxP4sLfNC1+hAJXTH945p21FyQgghhCgoeL2ItelrYXfY0SG4A+KDWk5WiQZD/LpOsTv2HuDEBwGj5+wbTrKLzJhaLnbFm3v3qT1w4dD2MBqaLQEJIYQQQrwMCl4vYmXayrabjixtK/DrHdr02Hu1zmm1UGqx4YbPtbLA7cL88dMtY9ghjRBCCCFVYBjMi1iVtqpt+ndL84FvrwAsxUCXk4CTH651F7vdgfu+24jV+3MQ7GfEp1OHU+wSQgghxCOM8HoJhfZC7Mrf5aqw1qZSj/18M5C1CwhpB5z/ca0px4TXFiTh1w0pKt3Y+5cPRffY4CZpLiGEEEJaHozwegl7rHvUuEd4D0T4RaDNsOwdYNuvWjaGiz4HAqNq3eXbVQfw7l+71fQLk/tjTLfa9yGEEEJI24WC18sEb5uyM+z7F1jwhDZ92gtA+2G17rJ0ZyYe/nGTmr5tXDdcOKz2ssKEEEIIadtQ8HoJu62721Y6soJU4LupgMMG9L8IGH5drbvsSCvATV+ugdXuwLmDElRGBkIIIYSQ2qDg9QJSClOQY8+BQWfA0NihaPXYLMDsq4HCNCCmD3D2NKCWfLnpBaWY+skqFJRZMaJTBF6+YABz7BJCCCGkTlDwelE6sr6RfRHk0wbK3/75JJC8DPAJBi76AvAJrHHzYrMV1322GodyS9A5KhAfXDEUvsbaO7YRQgghhAgUvF7AqlQtHdnw2OFoE2WDpaOaMOl/QFS3Gje32R24Y+Z6bDyYh4hAH3xy9XCEB9ZcjIIQQgghxB0K3mbG4XC48u+2+nRkmTuBn2/Rpo+7HehzTq27PDdnGxZsTYOPUY8PrxiKTlE1R4MJIYQQQo5Z8Hbq1AlPP/00kpOT67sr8YADDjw9+mmc4HsCBkQNQKulrBCYdTlgLgQ6jgFOKc/OUAOf/bcPM/7dq6Zfu3AghnVqQ+naCCGEENJ8gvfOO+/EDz/8gC5duuDUU0/FzJkzUVZW1nAtamPodXqMih+FCf4T4Gvwbb3FJaRscMZ2ICgOuOATwFBzzZOF29Lw1K9b1PR9E3vi7IEJTdRYQgghhLQ2jkrwrl+/HitXrkTv3r1x2223IT4+HrfeeivWrl3bOK0kLZuV04HN3wE6A3Dhp0BwbI2bbz6Uh1u/Xge7A7h4WCJuPqlrkzWVEEIIIa2Po/bwDhkyBG+99RZSUlLwxBNP4KOPPsLw4cMxaNAgzJgxQ3lTCcGBlcAfD2vTE54BOo6ucfOU3BJc8+kqlFhsGNs9Cs+e14/pxwghhBByTNT8XbkGLBYLfvzxR3zyySdYsGABRo0ahWuvvRYHDx7Eww8/jD///BNff/31sbWOtGwKM4BvrwLsFqDPJGDUzTVunp5fiss/XoH0gjL0jA3Gu5cNgcnAfpWEEEIIaWLBK7YFEbnffPMN9Ho9rrzySrzxxhvo1auXa5vzzjtPRXtJG8ZuB76/FihIASK7A+e+U2NxCRG7U6Yvx56MIrQL88eMqcMR4mdq0iYTQgghpHVSb8ErQlY6q7333nuYNGkSTKaqoqRz586YMmVKQ7WRtEQOrAD2LgFMAcDFXwK+wXUWu99cP0qNCSGEEEKaRfDu2bMHHTt2rHGbwMBAFQUmbZgd87Rxr7OAmCPR/7qI3Q6RAU3XTkIIIYS0euptkExPT8eKFSuqLJdlq1evbqh2kdYieHtMrFnsfnhE7M68gWKXEEIIIV4geG+55RYcOHCgyvJDhw6pdYQge6+Wc1fSkHU7pWaxm3lE7CZGUOwSQgghxAsE79atW1VKssoMHjxYrSMEO+dr4w6jAf/wKqvTKHYJIYQQ4s2C19fXF2lpaVWWHz58GEbjUWc5I62JpN+1cc/TPIrdSyh2CSGEEOLNgnfChAl46KGHkJeX51qWm5urcu9K9gbSxikrAPYt1aZ7VBS8FLuEEEIIaRGC99VXX1UeXsnUcPLJJ6tB0pClpqbitddeq3cD3n33XXTq1Al+fn4YOXKkKllcEyKuxSss5Ywl2tyjRw/MnTv3mI5JGpDdf2mFJiK6AJHdXIspdgkhhBDSYgRvu3btsHHjRrz88svo06cPhg4dijfffBObNm1CYmJivY41a9Ys3H333ao0sRS0GDhwICZOnKgyQXjCbDarKPK+ffvw3XffISkpCdOnT1dtOtpjkgZmxx9HorvlhSbo2SWEEEJIc3JUplvJs3vDDTcc88lff/11XH/99Zg6daqaf//99zFnzhzMmDEDDz74YJXtZXl2djb+++8/V8ELieQeyzFJA1dX2+kmeN3E7l6KXUIIIYQ0E0fdy0wyMiQnJ6uoqzvnnHNOnfaX/dasWaP8wE6kVPH48eOxbNkyj/v88ssvGD16tLI0/Pzzz4iOjsall16KBx54AAaD4aiOKZSVlanBSX5+vhpbLBY1NDbOczTFuRoT3aE1MBZlwOEbDGvCMKRlFeDyGauxL6sY7cL88OU1wxAXbGrx19lUtJbngjQ8fDaIJ/hckLb2XFjqcU1HVWntvPPOUxYGnU4Hh8Ohlsu0YLPZ6nSczMxMtW1sbGyF5TK/ffv2as+9aNEiXHbZZcq3u2vXLtx8883qgsXCcDTHFF544QU89dRTVZbPnz8fAQFNF41csGABWjK9Ur5DTwAp/r3x5ayF+HaPHlllOkT4OnBt50JsXPYXNjZ3I1sgLf25II0Hnw3iCT4XpK08F8XFxY0neO+44w7VSW3hwoVqLB3CsrKycM8996gObY2J3W5HTEwMPvzwQxXRFf+wFLx45ZVXlOA9WiQiLL5f9wiv+JElI0VISAgaGxHs8iCKP9lp1WiJGKe/rMZzDCfhvW0GNd0+zA9fXDMc7cP9m7l1LY/W8lyQhofPBvEEnwvS1p6L/PIv8o0ieMUaIFHWqKgoZReQ4fjjj1dR0ttvvx3r1q2r03FkfxGtlXP6ynxcXJzHfSQzg/ywZD8nvXv3VhkixM5wNMcUJNuDDJWRczXlw9HU52tI8lP3ISR9M+wOHd471AVGvQ5XHdcJt4/rjtCAlnlN3kJLfi5I48Jng3iCzwVpK8+FqR7XU+8sDWIZCA4OVtMiMFNSUtS0pCmTrAl1xcfHR0VoJVLsHsGVefHpemLMmDHKxiDbOdmxY4cSwnK8ozkmOTasNju+WLYPb3/wjppf6+iOIb26Yf5dJ+Cxs/pQ7BJCCCGk2al3hLdfv37YsGGDsjNIjltJTyZCU2wGXbp0qdexxEZw1VVXYdiwYRgxYgSmTZuGoqIiV4aFK6+8UqUck+ixcNNNN+Gdd95RtorbbrsNO3fuxPPPP68iy3U9Jmk4/tmZgWd+24odaYX42LQaMACRg8/Gx+cNb+6mEUIIIYQcveB99NFHlYAUnn76aZx11lkYO3YsIiMjVQ7c+nDxxRcjIyMDjz/+uLIlDBo0CPPmzXN1OpMsEGKZcCK+2j/++AN33XUXBgwYoMSwiF/J0lDXY5JjZ09GIZ6bsw0Lt2u5jeP97ThRtxWwA52Pu6C5m0cIIYQQcmyCV4o4OOnWrZvKfiC5ccPDw12ZGurDrbfeqgZPLF68uMoysSYsX778qI9Jjp68EgveWrgTn/23D1a7Q/l0rxzdCfd03A3jD2VAaAcgpndzN5MQQggh5OgFr/T08/f3x/r165W1wUlERER9DkNaGDa7A1+vTMbr85OQU6zlvBvXKwYPn9Eb3WKCgF8/0DbsMdFVXY0QQgghpEUKXukN16FDhzrn2iWto1PaHTPXY86mw2peBK50RjuxR7S2geRhdi8nTAghhBDiZdQ7S8MjjzyChx9+WNkYSOvGbnfg/u83KrFrMujw5Nl9MO+OsUfErnB4A1BwGDAFAp2Ob87mEkIIIYQ0jIdXsiRIarCEhASViiwwMLDC+rVr19b3kMQLkQp6j/+yGT+sPQSDXod3Lh2CiX095DJ2Rne7ngyY/Jq8nYQQQgghDS54J02aVN9diDchFgS7DTAYaxS7L/y+HV8uT1aW3NcvGuhZ7Ao75h3x7xJCCCGEtAbBeywlfEkzk3sA+GYKYDMDU+cBgZEeN5v25058+PceNf3i5P44d1A7z8crSAVSyiP63Sl4CSGEENJKPLykhZKzH/j0DCBtM5C5A1jwuMfNPliyG28u3Kmmnzi7Dy4e3qH6Y+6cr40ThgDBzHNMCCGEkFYieKUQhMFgqHYgXkj2HuDTM4HcZCCkPQAdsP5LYO8/FTaTEsFiZRDum9gTU8d0rvm4zM5ACCGEkNZoafjxxx+r5OZdt24dPvvsMzz11FMN2TbSEGTtBj49CyhIASK7AVf9Cvz9CrB6BvDbXcBN/wJGX3y35iAe+3mL2uXWk7vhlpO71XxcSymw+y9tmv5dQgghhLQmwXvuuedWWXbBBRegb9++qrTwtdde21BtI8dKxg7gs7OBwlQgqqcmdsV6cMoTwLbfgKydwNJp+C3iCtz/3Qa1y9QxnXDPhB61H3vfUsBSBATHA/EDG/9aCCGEEEKa28M7atQoLFy4sKEOR46V9G2ajUHEbkwf4Oo5R3y2/mHA6S+qSfvfr2DazN9hdwCXjEjE42f1qVuJaPfsDKyuRgghhJDWLnhLSkrw1ltvoV27anrzk6YlbYtmYyhKB2L7A1f9BgS5FYsQ+k5GdvwJ0NsteNrwESYNjMezk/rXTeyyuhohhBBCWrOlITw8vIIokpytBQUFCAgIwJdfftnQ7SP15fBG4PNzgZJszWpwxU9AQESVzVbtz8FDBy/Er/rlOM6wFSN7bodBP6Tu0eO8ZMDoB3Q+seGvgRBCCCGkOQXvG2+8UUHwStaG6OhojBw5Uolh0oykrAM+nwSU5mqpwq74AfCv+jPZeDAX13yyCgWWSPwSdwUuzv0YhgWPAD0nVpubtwI7ftfGInZ9AhrhQgghhBBCmlHwXn311Q14etJgHFwDfHEeUJYHtB8BXP4d4BdaZbPtqfm4csZKFJRZMbJzBM658nngk2VA+lYtN++kd2s/l8vOwOwMhBBCCGmFHt5PPvkEs2fPrrJclklqMtIMHFgJfDFJE7sdRmuRXQ9i12534LrPViO32ILBHcLw8dXD4e/vB5z9praBh9y8VSjK0s4nUPASQgghpDUK3hdeeAFRUVFVlsfExOD5559vqHaRurL/v/LIbj7QaSxw2XeAb7DHTZPSCnAwpwQBPgZ8evUIBPmWB/gTRwDDrtGmJTevtayW6moOrTNcqBSxIIQQQghpZYI3OTkZnTtXrcDVsWNHtY40IRKN/fJ8wFyo+Wkv/RbwDap285V7s9V4aMdwhAaYKq6U3LyBMa7cvLWmI+vJ7AyEEEIIaaWCVyK5GzdurLJ8w4YNiIysQ4cn0jCkbwe+uhCwFANdxwGXzqq1A9nKfZrgHdGpatYG99y8+OdVIHNX1W2sZmD3Im2a6cgIIYQQ0loF7yWXXILbb78df/31F2w2mxoWLVqEO+64A1OmTGmcVpKqbP8VsJYAiSOBKd8AJv8aN5f0cavKI7zDO3sQvELfyUC38YDNDPx2p5Zv153kZZp1IjBaywJBCCGEENIaBe8zzzyjUpCdcsop8Pf3V8OECRMwbtw4enibkqw92rjbqYDJr9bN92cVI72gDD4GPQYlhnneSNLNnfkaYPQH9v0DbJjp2c7QfaLkozvmSyCEEEIIaQrqrVp8fHwwa9YsJCUl4auvvsIPP/yA3bt3Y8aMGWodaSKyd2vjyC512txpZxjQPhR+JkP1G4Z3Ak56QJv+42EtK4Mg0d6k8vy7zM5ACCGEkNach9dJ9+7d1UCaiaxywRvRtU6bOzusjajOzuDO6FuBjd9WzM2btQvI2QvoTUDXk4+p6YQQQgghXh3hPf/88/HSSy9VWf7yyy/jwgsvbKh2kZoozQOKM7XpyLoJ3lX7avHvumMwVc3N67QzdDq+2rRnhBBCCCGtQvD+/fffOOOMM6osP/3009U60gRkl/t3JY1YHcRnWn6p8vCKRVdSktWJyrl5t/2qTfc8/aibTQghhBDSIgRvYWGhR6+uyWRCfn7+UTXi3XffRadOneDn56c6xK1cWV7JywOffvopdDpdhUH2q1z+uPI2p512WuuzM0TWz87QJz4EIX6V8u/WhHtu3gMrtGXdJ9S/vYQQQgghLUnw9u/fX3Vaq8zMmTPRp0+fejdAjnX33XfjiSeewNq1azFw4EBMnDgR6enp1e4TEhKCw4cPu4b9+/dX2UYErvs233zzDVpdhDeinnYGT/l3a8I9N68Q3QuIqFp0hBBCCCGkVXVae+yxxzB58mSVmUFSkQkLFy7E119/je+++67eDXj99ddx/fXXY+rUqWr+/fffx5w5c1TWhwcffNDjPhKxjYuLq/G4vr6+tW7T8jusda5XhHdkXfy7nnLzrv8a2PUn0Ous+u9PCCGEENLSBO/ZZ5+Nn376SeXcFYEreXglKivFJyIi6ieozGYz1qxZg4ceesi1TK/XY/z48Vi2bFmNtgopZWy32zFkyBDVlr59+1bYZvHixaoqXHh4uBLmzz77bLWV4MrKytTgxGnNsFgsamhsnOeo67kMWbtUaN4a1gmOWvbJLbYgKa1ATQ9qH3x01zNpOnTbf4WjzyRpZP33J03yXJC2A58N4gk+F6StPReWelyTziEluI4BEYdiF/j444+VeJXKa3UlJSUF7dq1w3///YfRo0e7lt9///1YsmQJVqwo9426IUJ4586dGDBgAPLy8vDqq6+qznJbtmxB+/btXfaKgIAAdO7cWUWiH374YQQFBal9DYaqOWiffPJJPPXUU1WWS9RajuNtnLbxZvjaCvFXz2eQH9Cxxm03Z+swPcmAGD8HHhlc958NIYQQQog3U1xcjEsvvVTpQbG7NorgFZEpIvf7779HQkKCsjlIyrLhw4c3quD1pO579+6tSh5LFThP7NmzB127dsWff/6pKsTVJcKbmJiIzMzMWm9gQyDXsGDBApx66qmq81+NlOTC9Ho3bb/79gE+QTVu/tIfO/DR0n24aGg7PDepYhSceDf1ei5Im4LPBvEEnwvS1p6L/Px8REVF1Unw1svSkJqaqrIkiNCVk1x00UVKKIrF4Wg6rEkjJeKalpZWYbnM19V/Kz+8wYMHY9euXdVu06VLF3Uu2caT4BW/rwyejt2UD0edzpeWrI2D4mAKrD3F2JrkXDUe2SWq1T3obYWmfg5Jy4HPBvEEnwvSVp4LUz2uR18f727Pnj2xceNGTJs2TUVn3377bRwLkt5s6NChqtObE/Hlyrx7xLcmxEKxadMmxMfHV7vNwYMHkZWVVeM2La+kcO0ZGorNVmw6mFf3CmuEEEIIIa2QOkd4f//9d9x+++246aabGrSksKQku+qqqzBs2DCMGDFCiemioiJX1oYrr7xS2R5eeOEFNf/0009j1KhR6NatG3Jzc/HKK6+otGTXXXedq0Ob+HHFXiFRYvHwikVCtpd0Z60nJVmXWjddn5wLq92B+FA/tA/3b/y2EUIIIYS0ZMG7dOlSZWWQiKx4Zq+44gpMmTLlmBtw8cUXIyMjA48//riyTAwaNAjz5s1DbGysWp+cnKwyNzjJyclRacxkW8nAIO0RD7DTUiEWCYlCf/bZZ0oQi794woQJyt/rybbQmotOrChPRybRXUnlRgghhBDSFqmz4JWoqgwSgZViEZInV6KzYkEQM7R08goOrr3MrSduvfVWNXhC0ou588Ybb6ihOiRN2h9//IFWi9PSUIcI71EXnCCEEEIIacuV1gIDA3HNNdeoiK94Z++55x68+OKLKuftOeec0zitJB6KTtQc4TVb7VibnKOm6d8lhBBCSFum3oLXHenE9vLLL6tOYa2qdK+3UpwNlObWKcK7OSUPpRY7wgNM6BZdc+oyQgghhJDWzDEJXifim500aRJ++eWXhjgcqS26G5wA+NRcEGNVuX93WKcI6PX07xJCCCGk7dIggpd4X0qyleWCdyTtDIQQQghp41Dwtkj/bs12BrvdwQ5rhBBCCCHlUPC2xBy8tUR4k9IKkF9qRYCPAX0TGr80MiGEEEKIN0PB2yJTktUseJ3R3aEdw2E08EdMCCGEkLYN1VBLweEAsuoW4XX6d2lnIIQQQgih4G05FGcBZXnadHinajdzOBwuwcv8u4QQQgghFLwtr8NaSHvA5F/tZsnZxUgvKIPJoMOgxLCmax8hhBBCiJdCwdviUpLVnKFhRXl0d2D7MPiZDE3RMkIIIYQQr4aCt5WVFHYWnBhOOwMhhBBCiIKCt5UVnXBmaBjBDmuEEEIIIQoK3paWg7eGCG96fin2ZRVDpwOGdgpvurYRQgghhHgxFLytKCXZyvLobu+4EIT4mZqqdYQQQgghXg0Fb0ugKAMwFwDQ1ZiSjOnICCGEEEKqQsHbkjqshSYCRt9qN6PgJYQQQgipCgVvK0lJlldsQVKaRIFZYY0QQgghxB0K3laSkmz1/mxl9e0SFYjo4OqjwIQQQgghbQ0K3laSkszZYY3RXUIIIYSQilDwtgScGRpqiPDSv0sIIYQQ4hkKXm9HfArOHLzVRHhLzDZsOpinpil4CSGEEEIqQsHr7RSmAZYiQKcHwjp63GRdcg6sdgfiQ/3QPty/yZtICCGEEOLNUPC2lA5rYR0Ao0+t/l2dlFkjhBBCCCEuKHhbSoe1iOpTkq1yCl7aGQghhBBCqkDB28JTkllsdqzdn6umR1LwEkIIIYR4p+B999130alTJ/j5+WHkyJFYuXJltdt++umn6rO9+yD7ueNwOPD4448jPj4e/v7+GD9+PHbu3InWmJJs86E8lFhsCAswoVt0UNO2jRBCCCGkBWBs7gbMmjULd999N95//30ldqdNm4aJEyciKSkJMTExHvcJCQlR651U9q2+/PLLeOutt/DZZ5+hc+fOeOyxx9Qxt27dWkUct/SUZM50ZOLf1evp3yWEEFIRm80Gi8XS3M0gzYT87I1GI0pLS9Wz0JIwmUwwGAytQ/C+/vrruP766zF16lQ1L8J3zpw5mDFjBh588EGP+4jAjYuL87hOorsimh999FGce+65atnnn3+O2NhY/PTTT5gyZUqVfcrKytTgJD8/3/WQNMUvCec5qpzLYYcxew9ExlpCO8gGVfZdsSdLjYd2COUvtFZGtc8FafPw2SB1eS7k72F6errrbxppm8hzEBcXh+Tk5BbZsV2CnBIA9dT2+vwObFbBazabsWbNGjz00EOuZXq9XlkQli1bVu1+hYWF6NixI+x2O4YMGYLnn38effv2Vev27t2L1NRUdQwnoaGhKnosx/QkeF944QU89dRTVZbPnz8fAQEBaCoWLFhQYd7PnI2J1hLYocfvy7bAoTsS1RbsDmD5Lnnz0cF8aCvmzt3aZG0laLbnghAnfDZITc9FcHAwwsPDERUVBR8fnxYpdkjbFupmsxkZGRnYsWMHCgoKqmxTXFzcMgRvZmamCq9L9NUdmd++fbvHfXr27KmivwMGDEBeXh5effVVHHfccdiyZQvat2+vxK7zGJWP6VxXGRHcYqtwIm/DiYmJmDBhgnqzaGzkDUV+QZ166qkqfO9Et38psAXQhXfE6WeeU2W/pNQCFC9fhgAfA64/fzyMBq+wZJNGfi4I4bNBansuJHi0Z88eREdHIzIysrmbRppZOBYUFKgXoJb40iNWVF9fX6X1Ktsb6vP1otktDfVl9OjRanAiN6B379744IMP8MwzzxzVMeVGylAZ+UPSlH9Mqpwvb78a6SK7eWzHuoPaD3pIh3D4+1VtP2kdNPVzSFoOfDaIJ+SZkGCSiJugoCAlfknbRb6GC/I8tMRnQZ5hCZAKlX/f1ef3X7NeuXxmEbWelpZWYbnMV+fRrYxc7ODBg7Fr1y4179zvWI7pfSnJPOfgXVHeYY3lhAkhhHiiJUb0CGmMZ7hZBa94ioYOHYqFCxdWeBORefcobk3IW+ymTZtUCjJBsjKIsHU/poS8V6xYUedjeg3Ze6pNSSafKFwFJzpR8BJCCCGEVEezx7bFOzt9+nSVQmzbtm246aabUFRU5MracOWVV1bo1Pb000+rzmTiTVq7di0uv/xy7N+/H9ddd53rTeDOO+/Es88+i19++UWJYTlGQkICJk2ahNZSdCI5uxhp+WUwGXQY3CGs6dtGCCGEtCIkz39YGP+etlaaXfBefPHFquOZFIoYNGgQ1q9fj3nz5rk6nUkajcOHD7u2z8nJUWnMxLd7xhlnqOjtf//9hz59+ri2uf/++3HbbbfhhhtuwPDhw1VWBzlmi8rBK56bnL3adGRVS8OqfTlqPKB9GPxMDZOjjhBCCGlurr76ahW8evHFFyssl9Si9f28Lceqa7BL9IhkA6gLN954o7Jkzp49u17tIc2HV3Rau/XWW9XgicWLF1eYf+ONN9RQE/IPQiLBMrRY8g8B1lJAbwQkB28ltqTkqfHA9nwbJYQQ0rqQANVLL72khKWkVmuKDBdSmVWG2pBUWDNnzlTBNckadeGFF6I5kdRdYhElXh7hJbWUFA7vBBiqvpdsO6xlaOgdH9zULSOEEEIaFcmlL/1xJE9+dTz55JPqy7A7UniqU6dOrvVil/z5559VIEwGCaLt27dPTUul1xNPPFGJ66+++qrOlgaJ6spXZSmO9ffff+PAgQMV1kshqwceeEClN5UMUN26dcPHH3/sWi9pVM866yyV9lRShY0dOxa7d2t/80866SRly3RHItQSqXYi1ydZqcSuKceQr9mCnLNHjx6qfkCXLl1UldnKhRl+/fVX9eVbrlkSB5x33nlquQQI+/XrV+Va5f7KcVoDFLze3mEtwnOHta0pTsHb+HmCCSGEtHzkb0ex2dosg5y7PohdQIpKvf322zh48OBRXe+9996Liy66CKeddpqyRsogqUydiGC94447VP+hiRMn1vm4Il6l/5AUtTr99NOVUHZHhOg333yDt956Sx1b0qZKai3h0KFDOOGEE5QQXrRokSq+dc0118Bqtdbr2sQKOnDgQKxbt84lSEU8S1u2bt2KN998U/WPcv8iPmfOHCVwxQ4q+0nn/hEjRqh10gZp66pVq1zbyzYbN2509alq6XiFpYHU0GHNQ4aGlLxS5JdaYdTr0D1W+0dECCGE1ESJxYY+j//RLOfe+vREBPjUT3KIOJMI4xNPPFEhQlpXRGSKRUEirp7SkkokdfLkyfU65s6dO7F8+XL88MMPal6Er3S+f/TRR1XUWDzA3377rSoA4qz4KtFWJ++++64SymKJcOaQlahsfRk3bhzuueeeCsukDe5RYBH8ch4ZCxItl2qz7pVlRTQLUrhLRP8nn3yiIsCCTEsE3L39LRlGeL0+wlv1QdtWHt3tFhMEXyM7rBFCCGmdiI/XmcWpoRk2bFi99xHPrghDsQMIEi2Vqq8SrRWk471Ep0UoekLWi4XhWAvGeGq7WDTGjBmjxL2IfRHA0vHf/dynnHJKtceUhAASmS4tLVW+4K+//lpFflsLjPC2wKITR/y7tDMQQgipG/4mg4q0Nte5jwb5/C8CU9KTuvtYBakaVtkqUdmzWhOBgYH1aovk/RfxnZqaCqPRWGG5CGERk7V1eqttfV2vqXLbly1bhssuu0xFb+V+OaPIr732Wp3PffbZZyurxY8//qg6wcl5L7jgArQWKHi9EbvNLSVZVUvDtlR2WCOEEFI/5JN7fW0F3oCkJxNrQ8+ePSssj46OVuJTBKIzXZlEMd0R4SaCtCGYO3cuCgoKlLdVorhONm/erHyuubm56N+/vyqgtWTJEpelwZ0BAwYo0Sxi0lOUV67JPRWrtF2Of/LJJ9fYNknP2rFjRzzyyCOuZVKjoPK5Fy5cWK0nV0T8VVddpawMct/E/lCXrBUtBVoavJG8g4DNDBh8gNDEKqu3HS5QY0Z4CSGEtHZEREr0UjqBuSMZDTIyMvDyyy+rLAfij/39998rbCNeVul4lZSUhMzMzHpFgCsjPuIzzzxT+V4lo4FzkI5xkt1BMj3I+UQ0ihVA8gbv3btXZYYQX68gKVilfoCIydWrVytP8BdffKHa5/TmSucyGbZv366KcYmQro3u3bsr+4JEdeVeyL2SSK07jz32mLIsiCdaLCJSmEssI+5IES+xZ0jtgtZkZxAoeL09JZm+4mcg6e26L6tITVPwEkIIaQtI2iyJnLojBaj+97//KaErInTlypWuDlruvlSJDIvnVaKn//7771GdPy0tTYnQ888/36MNQTrYOTvWvffee8oKcPPNN6NXr16qDVJBVoiMjFSCUgpiic936NChKpuCM9orIlMEs2R6cHYYqy26K5xzzjm46667lKCWaLhEfCunEzvppJNUSjWpQivbiLiWe1ZZOEsmC2n3yJEj0ZrQOeqbK6QNIG9f4n8RI7rkuGts5I1TPpWI+V099CunA3PvBXqcDlw6s8K2a5NzMPl//yE62BerHqn6uYS0Hqo8F4SUw2eD1PZcyKdwiS527ty5ZVUZJQ2OvCjk5+crPSPivCZEEoroFbEu2Se8AelEV92zXB+91vLMPG0pQ4Mn/y47rBFCCCGkgcnIyFCWCPFFt5bcu+5Q8LawlGRHCk6wwxohhBBCGoaYmBiVbu3DDz9sknLOTQ0FbwtNSdaHEV5CCCGENBCOVu5wZac1b8NmBXL2ebQ02O0ObE/VMjRQ8BJCCCGE1A0KXm8j7wBgtwAGXyCkfYVVydnFKDbb4GPUo3NU/RJmE0IIIYS0VSh4vTUlWURnyXXi0c7QMzYYRgN/dIQQQgghdYGqydvIcnZYqylDAzusEUIIIYTUFQpeb43wRnrI0MAKa4QQQggh9YaC12szNDAHLyGEEEJIQ0DB20KKTuSVWHAot0RN946j4CWEEEKqQ8ro3nnnnfA29u3bB51Oh/Xr1zd3U9ocFLzehN0K5O73GOF1RnfbhfkjNIClRAkhhLQ+zj77bJx22mke1/3zzz9KLG7cuPGYz/Ppp5+qY1U+V25urlq+ePHieh0rLCysTtsmJibi8OHD6NevX63bfvPNNzAYDLjlllvq3BZSPRS83kRusiZ6jX5AcHyFVeywRgghpLVz7bXXYsGCBTh48GCVdZ988gmGDRuGAQMGNMi5jEYj/vzzT/z1119oCsxmsxKwcXFx6ty18fHHH+P+++9Xwre0tBTNidlsRkuHgteL0LmXFK4mJRn9u4QQQo4KqaRlLmqeoY5VvM466yxER0erqKk7hYWFmD17thLEWVlZuOSSS9CuXTsEBASgf//+ShTWl8DAQFxzzTV48MEHq91GIr0S8ZXIrxOxI8gysSfI+qlTpyIvL08tk+HJJ59U23Xq1AnPPPMMrrzySoSEhOCGG26os6Vh7969+O+//1TbevTogR9++KHKNjNmzEDfvn3h6+uL+Ph43Hrrra510t4bb7wRsbGx6h6NHj0av/32m1on7Rs0aFCFY02bNk2118nVV1+NSZMm4bnnnkNCQgJ69uypln/xxRfqpSM4OFgJ90svvRTp6ekVjrVlyxb1c5Rrlu3Gjh2L3bt34++//4bJZEJqamqF7cV6Its0Niwt7EXoctwEbyW2lWdoYIU1QgghR4WlGHg+oXnO/XAK4FN7wSSJfIpAFMH7yCOPKHEoiNi12WxK6Ir4HTp0KB544AElqubMmYMrrrgCXbt2xYgRI+rVLBF/3bp1w3fffYcLLrig3pd13HHHKbH4+OOPIykpSS0LCgpyrX/11VfVuieeeKJex5Vo9plnnonQ0FBcfvnlKtor4tLJe++9h7vvvhsvvvgiTj/9dCW4//33X7XObrerZQUFBfjyyy/RuXNnrF69WkWX68PChQvV/ZWIuxOLxaJEvAhgEbrSBhHHc+fOVesPHTqEE044QXmoFy1apPaXdlmtVrW8S5cuSjTfd999ruN99dVXePnll9HYUPC2gA5rVpsdSWlMSUYIIaT1I1HXV155BUuWLFHCySkAzz//fCUAZbj33ntd29922234448/8O2339Zb8Er08o477lDiWiKa9cXHx0e1R4S5RDwrM27cONxzzz2ueYnw1oYIVhH8b7/9tpqfMmWKOoZEfUW8Cs8++6xaJm13Mnz4cDUWm8bKlSuxbds2FR2W40VFRSnxWd8I+EcffaSu0f1n40TE61tvvaXOKy8hIvTfffdddT9mzpypormCtMGJROjlZ+kUvL/++quya1x00UVobCh4vdLSUFHw7s0sgtlqR6CPAR0iApqncYQQQlo2pgAt0tpc564jvXr1UpFT+WQvgnfXrl2qw9rTTz+t1kuk9/nnn1cCVyKK4i8tKytTn+6PBokUf/DBB+p8DS285PN/fZGIalFREc444ww1L2L11FNPVe2T6KpEVlNSUnDKKad43F/sEu3bt68gNI8GsYq4i11hzZo1Kiq+YcMG5OTkKDEtJCcno0+fPurcYk9wit3KSDT40UcfxfLlyzFq1Cgl7OWei7huEx5eeSMQ74ifnx9Gjhyp3kzqgrxByFtV5bcyuaFOL41zqK7Xp1cK3koR3q3OksJxwdDrtc87hBBCSL0Qe4DYCppjKLcm1BWJBH7//ffqs7xEBMWucOKJJ6p1Ev198803lVCVDmcisiZOnHjUHaskw8JDDz2Ep556CsXFxRXW6cv70zjcPMjyGb6uHI2QE/tCdnY2/P39lcVDBrEMfPbZZ0pgyvKaqG29Xq+vcD3VXVPltosIl/sskWKxIaxatQo//vijWue897WdOyYmRmXikJ9pWloafv/99wpR41YteGfNmqU8IOJvWbt2LQYOHKhuaGUTdGXks4B80qjO6CwCV1J/OIejMbQ3JTrJzpCXXE1KMtoZCCGEtB0k6ifC7Ouvv8bnn3+uRJHTzyue0HPPPVd5W0UzyKf1HTt2HNP5xBYh5xMh7Y50oBNERzip3OFMoqASdW4IpEPezz//rAJ6ch7nsG7dOhVRnT9/vuoIJkFC8dh6QrJYSJaL6u5JdHS06jjmLnrrkhd4+/btqn3iGxbtJZH4ylpNzi3R+JpeCq677jql/T788EP1IjNmzBi0CcH7+uuv4/rrr1e9HCUc/v7776vPEhK6rw55sC677DL1NiYPuiek16L4aZxDeHg4vJkAcwZ0Drv22Se4og+IGRoIIYS0JcQPevHFF6vIq4hN+XLrpHv37uqzv2QxEJ+qZCOQaOGxIF+YRVOIJ9Ud6dAmuXPlM/7OnTtVB7nXXnutwjYiPsXDKgI0MzOzSpS4PkiHrsjISCX4JVevcxBhLxYHif4K0h5ph7RX2iUBQ6fnVyLh0kFMPM9yn8T7u2DBAsybN0+tF5tIRkaG6igm2RPkK7tEWmujQ4cOStzLefbs2YNffvlFWSzckUwR+fn5yncsHeWkbXJNzg59gjNKLD5k0X5NRbN6eCUELn4QeaCdyBvW+PHjsWzZsmr3Ex+PhMXlk4e8SXhCUoXINiJ0xTQuN1YeIk+I90cGJ/LDEuQNpT6fLo4WOUdQmfaP1RHeWfVm9CR4e0QHNEl7iHfg/FnzZ04qw2eD1PZcSGBIInjyCdzps2xpiBgSgScZByRw5byOhx9+WAk1EU4SIJOgmUR8JVOB+7U6r98TzuXu6yXTg4jIrVu3uu6bZDaQz/dS/EGil9JBSzSIiHHnNuJFFdEtyyQC6p6VoXIb3M/rqW0S7BObpuxX2XZw3nnn4aqrrlJRVWmrCGuJSMvXbvH5isB1HlOyWkjHMMlqIVaEzp07q8isrJcMC++8846aF8E6efJk1QFu+vTprv2d53dvo2goaZ94cEVoDxkyRIlmaa/zekRzSac5yR8swlvun6RAk7Ro7seS63jhhRdUlL6251PWS1vkua6caaI+vwN1jsp3tAkR07Xk0ZO3NLkZTuRGSe/MFStWVNln6dKl6s1Bwu/yA5a3Psk399NPP7m2kU8B8o9AfsDyj0L+ccjboohoT2k55E1J3uwqI59SjtYEX1+6pM9D/0NfIyVsOFZ1vs21vMACPLraCB0ceGmEDb71yypCCCGkDSK+TxGJEp2s3PGIkOZGLCQSDa+L3VSCowcOHFA2jMoBQRH9kq5NXnZqy0LRorI0iHld3mrkLUTEbnWIIHbvZShvZeITkaivp16NEmEWH7F7hFd+SUyYMKHeaTyOBnlDSZvxmZqO7XMczjhZ65kpLN2VBaxegw4RgTjv7OMbvS3Ee5DnQj5DSe/c6nq8krYJnw1S23MhEV4RCRLskc/1pO0icc2CggLl/XX6oJsLEaabNm1SeY8lUFkXjSVpy6QznNg0Kj/Lzi/ydaFZBa+IVom4VvbeyLynfHYSrZXOatLDz4kzFC5vs+IREWFbGfH5yrkktYknwSt+XxkqI39ImuqPSWC5pcEQ1R0Gt3PuzChS4z4JIfzD1kZpyueQtCz4bBBPyDMh9kARNzJ2ZhogbROnTtKVPw/NidgyJBPX//3f/ylLSl1wPsueft/V5/dfswpe+cwi1VLE6O1MLSY/GJl3L5HnRHoEypuBO+IlkTcX8bFIVNYT0ltRfDVSes9bCSxL9ZiSjBXWCCGEENIaWLx4cbOdu9ktDWIlEPOyJGeWCilSok8M1s6ee1JiUHy+Ym6WULb0VqycP09wLpeekuLHFfO2RIklKiyeYOlpWde3iSbHWoYAc1Y1KcmYoYEQQgghpEULXunVKOkxpFejGJKlN5+kzoiNjXVV76hPCF4sEhs3blQJmqUzm5QNFC+u9ET0ZFvwCnKTVac0h08gdEExrsVlVht2pReq6d4JFLyEEEIIIS1S8ApiX/BkYahL+FvK0rkjxmapqd2S0GXv1ibCu1SoRiNi12p3IMTPiIRQdjoghBBCCDka6GT3AnQ5WklhR0SXaiusNXfPSkIIIYSQlgoFrzeQXS54JcLrBv27hBBCCCHHDgWvF6DL9hzh3ZqiCV5maCCEEEIIOXooeL1I8MJN8Eqi6G2pjPASQgghhBwrFLxegG3yx1jT8UY4onu7lqXmlyK32AKDXofusUHN2j5CCCGkqbj66qtVv5UXX3yxwnKpzOVN/Vkkx7/UE6icLpV4JxS8XoCj3VAcjBgD+IVU8e92iQqEn8nQjK0jhBBCmhbJu//SSy8hJycH3opkibroootUedsVK1Y0a1uklLSzohrxDAWvl+KqsMb8u4QQQhoAscoVW4qbZZBz14fx48er4lFSdKomvv/+e/Tt21fl2e/UqRNee+0117qHH34YI0eOrLLPwIED8fTTT6vpVatW4dRTT0VUVBRCQ0Nx4oknYu3atXW6l5988gmuuOIKXHrppfj444+rbPPvv//ipJNOQkBAAMLDw1XxK6eAF3H68ssvq6JY0vYOHTrgueeec6VjlUi21BJwsn79erVs3759LrEthbd++eUX9OnTRx1D6hbU5Xpyc3Nx4403qnoHzoJev/32myr6FRISgu+++65KZD0wMFBVtW3JeEUeXlKVrczQQAghpAEpsZZg5NdVBWBTsOLSFQgwBdSriNTzzz+vxOTtt9+O9u3bV9lmzZo1KsL65JNPqiJW//33H26++WZERkYqW8Rll12mBLNUXO3aVatiumXLFlWcSoSyICJOqr2+/fbbSsSKYD7jjDOwc+dOBAcHV9u+v/76C8XFxUqYSzXY4447Dm+88YYShk6Besopp+Caa67Bm2++CaPRqPaRSKzw0EMPYfr06Wqf448/HocPH8b27dvrdU/l/BIF/+ijj9Q1x8TEYM+ePVWu56yzzlJCWMSsCO3TTz9dXfeXX36p7svWrVvV/Za2T5kyRQn5Cy64wHUe53xN96MlQMHrpTAlGSGEkLbMeeedp6qvPvHEEx4jqK+//roSlY899pia79GjhxJvr7zyihK8EvmVaO7XX3/t2uarr75SUV+JrArjxo2rcMwPP/xQRU6XLFmihGJ1SHtEHIpQlAhply5dMHv2bHVeQaK3w4YNw//+9z/XPtIeQcSmiOB33nlHiVNBhKcI3/pgsVjU8eUanVR3Pf/++696Ofjzzz+xcuVKbNu2Td0vQdru5LrrrlPiXQR4fHw80tPTMXfuXLVfS4eC1wspMduwL7NITfeOb9lvVIQQQrwDf6O/irQ217mPBolgioi79957q6wT0XbuuedWWDZmzBhMmzZNRVJFjEqUd8aMGUrwSsTzm2++wd133+3aPi0tDY8++qiyEYi4k/0kcir2gOoQS8APP/yApUuXupZdfvnlSgQ7Ba9EeC+88EKP+0u7y8rKlFg/FqTD3IABAyosq+56Dh486GqXRMudYrcyI0aMUML8s88+w4MPPqiiwB07dsQJJ5yAlg4FrxeSlFYAuwOICvJBTDBLChNCCDl2xANaH1uBNyBCS7yvYgFwisn6cMkll+CBBx5QPtaSkhIcOHBA2R+cSIQ1KytLRVxF2IkXdvTo0TCbzdUeUyLGpaWlFfzBIqbFLrBjxw4lJv39qxf4Na0T9Hqte5W771miuZ6OUzlrRXXXYynfv7ZzO6O87777rhK8YmeYOnWqV2XHOFrYac0LcRacoJ2BEEJIW0fSk/36669YtmxZheW9e/dWn+rdkXkRnBLdFSSaKR23xMogg3ToEq+r+/biERbfrrPzW2ZmZo3tkUjuPffco6KlzmHDhg0YO3asiiYLEnlduHChx/27d++uhGd166Ojo9VYbAVO5Bx1obbrGTBggIr2ijCvDolW79+/H2+99ZayiDhtFy0dCl4vhP5dQgghRKN///7KmiACzB0RnSIan3nmGSXg5DO8+GIr2x9k35kzZyqPrUxXFp9ffPGFshlIajFZX1MUVISnRIslCireXfdBosnSBqvVqiLS0lFMOtFJJznpkPbee+8p8SmZESTqfP/99+Pzzz9XneqWL1/u8imLvzgxMVF1xpPOc3PmzKmQfaImarueE088UUXNzz//fCxYsAB79+7F77//jnnz5rm2kYwSkydPxn333YcJEyZ47DDYEqHg9WrBS/8uIYQQImnEKueZHTJkCL799lslZkVwPv7442q7ytYHyTAgn/nFyzpp0qQK60RkSqowOZakGJPoqHsEuDKyvaQB69Wrl8dOds5OXhJlnj9/vor8ii9WbAU///yzytYgiKdYBLu0WSLVYrOQfQWTyaS8xiKSJSIrPuZnn322TvepLtfz/fffY/jw4Uqgy7WI8HZmj3By7bXXKluHZJloLegc9U2O1waQJNKSvy4vL0+l8WhsxFsj/0DkE4TBYMSAp+ajsMyKeXeORa84RnnbKu7PhfwCJMQJnw1S23MhAkaid507d1YRRdJ2kReF/Px8pWec/uDakCjxXXfdhZSUFNU5rjkRv3R1z3J99Bo7rXkZB3NKlNj1MejRNZolhQkhhBDSNBQXFyvvsPimpThFc4vdhoSWBi8tONE9NggmA388hBBCCGkaXn75ZWXXkCp34kNuTVBReRnssEYIIYSQ5uDJJ59U1hjpDBgU1Lq+MlPwehkUvIQQQgghDQsFr5exLZUZGgghhBBCGhIKXi+ioNSCA9klaroPI7yEEEIIIQ0CBa8XsT21UI3jQ/0QFtB6ekYSQgghhDQnFLxexPbUAjWmf5cQQgghpOGg4PVKwUv/LiGEEEJIQ0HB60UwwksIIYQcOyeddBLuvPPO5m4G8SK8QvC+++676NSpkyoZN3LkSKxcubJO+0n9bJ1OV6U2tlRLlvrU8fHx8Pf3x/jx47Fz5054M3YHsCNd8/CywxohhJC2yNlnn43TTjvN47p//vlH/c3fuHHjMZ/n008/VceqfK7c3Fy1fPHixfAWpBCEr68vUlNTm7spLZpmF7yzZs3C3XffjSeeeAJr167FwIEDMXHiRKSnp9e43759+3Dvvfdi7NixHiuFvPXWW3j//fexYsUKBAYGqmNKPWZvJaMUKLXY4W8yoGNkYHM3hxBCCGlyrr32WixYsAAHDx6ssu6TTz7BsGHDMGDAgAY5l9FoxJ9//om//voL3srSpUtRUlKCCy64AJ999llzNwdSlKKl0uyC9/XXX8f111+PqVOnok+fPkqkBgQEYMaMGdXuY7PZcNlll+Gpp55Cly5dqkR3p02bhkcffRTnnnuu+ofx+eefIyUlBT/99BO8lUNFOjXuGRcMg16bJoQQQhoK+ftoLy5ulkHOXRfOOussREdHqwisO4WFhZg9e7YSxFlZWbjkkkvQrl07pRf69++Pb775pt73Q4Jh11xzDR588MEat9u0aRPGjRunvhhHRkbihhtuUO0R5s+fr75OS2TYnTvuuEPtIxxLez/++GNceumluOKKKzzqInkxkGNHRESo65EXAgn0Ofn111/Vl/O4uDjExMTgvPPOc62TSHZlXRQWFua69xJYlG0kMHniiSeq6/zqq6/qdD12u10FH7t166ai0x06dMBzzz2n1sl9ufXWWytsn5GRAR8fH1XhrbEwohkxm81Ys2ZNhXrNer1eWRCWLVtW7X5PP/20+sHJgy+fONzZu3evCvvLMZyEhoaqH7gcc8qUKVWOV1ZWpgYn+fn5rjeZpnibkXMcKi4XvLFBLfoNijQczueAzwOpDJ8NUttzIYEhJXDtdjUIIjx3DhveLG3rvnoV9AEBtW4nGkDEnYgu0QYiuAQRXXJNF198sRKbQ4YMwX333YeQkBDMnTtX7dO5c2eMGDHCdSzn9XvCuVzsjz169MC3336roqiue1V+34qKitQX4lGjRikhKV+fRfDecsstKuJ88sknK5HoFOOCtFPa+8wzz6hjFBcX16m9lSkoKFDHFe0itoa8vDwsWbLE9WVb7oMIURGeIlxF1MqXcqvVqs47Z84cJXDlPr7zzjswmUyYN29ehXvi/nxUXuZcLi8Er7zyihLcInrrcj2yz0cffYTXXnsNxx9/PA4fPozt27erY8pLxu23366OKWJY+OKLL9R1iPfaU3vkZynPtcFgqLCuPr8Dm1XwZmZmqgcjNja2wnKZlxtTXXhf3njWr1/vcb3T4+LpmNX5X1544QUVLa6MvLnJ20tTkFKkBdttWfsxd+6+JjknaRnI5z1CPMFng1T3XMjnehFAIookuCTYS7TCRs1BfkEB9FZrnba98MIL8eqrr+L3339XYkmQv/vi7xUBHBwcrL4MO7nyyiuVuJPoowhDQUSfXLczgFUZsTiKiAoKCsKNN96IRx55REUeReAKIupkX7ERiKXg7bffVhFUiVS++OKLKsIp+zijpl9++aVqt7Bo0SIV8Z0wYYI6Rl3a6wk5t3zFTkxMVO2S83zwwQfK+inIS4FERsWWER4erpY5PclyXhHckydPxj333OM65s0331zhnsi1uc/LPZF7I8ucUWy5P+5BRKGm6xGhLrZSifA6I8oStZcv7nJcOZacR/phOdeLmJaApOxbGfk5Sjv//vtv9XN1R35OLULw1he5EfIWMX36dERFRTXYceXtR3zETuQHIg+YPKzy9tLYyBvK46sXqekLThmFoR21B5e0beS5kD9cp556qnozJ8QJnw1S23MhwaQDBw4oQSdROcERHIyQ1auapW06f39XtLY25LP8cccdp6KkZ5xxBnbt2qWinM8++6z6myzXJoEqiX4eOnRICSL5SivrnH+zRfDLJ/Lq/obLPZH2yPrHHntMicvvvvsOF110kVovwS5ZJ5/1Bw0apDrBO5H7K1FHsUrKJ/urr75atVcEYkJCgoq2SrtFRwh1aa8nRBCKmHRuI9ZPiSi/9957SkQnJSVh8ODB6Nixo8f9N2/erMSqbFtQUKDGlX8GYtNwb4Osl3sjy+TZEcaMGVNhm9quRwKWMn/mmWd6vD5ZJlpOru+qq65SUelt27Yp+4Wn7UWASztPOOEE17PspLoXGq8TvCJaJTydlpZWYbnMy5tpZXbv3q0ePnnLc+IMfcvDLT98535yDPcHVOblofWEhNSdYXV35A9JU/wxyS4yI8+iPYT9EiNgMrWo9xDSyDTVc0haHnw2iCfkmRBrgIgXGcvgolzEeDtiD7jtttvwv//9T4nRrl27KrEn1+TsmC79dcQ/KpFXSUEmgt/9Wp3X7wnnchmL/1UCXxIRPeecc1zLnffQffvK+8oglklpn9gibrrpJiV4Jfrq3K6u7XVn69atWL58ucpa5e4xFrEp55EIq/MLdHXHEJHofg26SvdD5isvc7bJ/bkRoey+TW3XI/Pu98cT0n7RZPLSID9fia6LJaK6n5W009Pvu/r8/mvWTmvy9jV06NAKJmURsDI/evToKttLqFzM42JncA7ycMo/ApmWtym5YSJ63Y8pbwDivfF0TG/Kv5sY7o8gX4pdQgghbRuJtIrQ+frrr1XHc/F9OoXbv//+qzqlX3755erzvnz237FjxzGdT8S1nO/NN9+ssLx3797YsGGDy+rgPL9s27NnT9cy6Ugvn/QlSinrJLrpvn192ysWDoloyrndNY98jZZ1glgEZFl2drbHY8j6mjqBRUdHK2+tE0nfWheLQG3X0717dyW2azq3CGWJ5MsXe/kZy8+31WdpkB+eXLAofAlpy9uRPFgSuhcknO/s1Cah7H79+lUYxCwubx8yLQJa/kHIm4Z8+vjll1+UQJZjyGeGyvl6vU3w9opjhTVCCCFEPqdLBzX5+y+iTGwD7oJKrBv//fef0g3y2b7yl+L6IvpC+vJI5NIdEbKyTj69i0VAUpiJOJZP8u59hWQ7+TQvmQik85v7V+P6tlcipdKJS3zClTXPddddpwJ4W7ZsUeslwCfaRkTonj178P3337s6/Uu6V8me8OSTT6ov4KKHXnrpJdd5JKoqndnWrVuH1atX4//+7//qFDGt7Xrkfj3wwAO4//771cuKfJ2XaLVTqDuRaxE/tPh53bNHtFrBKw+0mNOlp6SEt+VtRXoROh+k5OTkCm8gdUFusjyQ0pNy+PDhylcjx6zs/fC6CmsUvIQQQojL1pCTk6OyJEjQyomkHZUsAbJcevU7Rd+xIqK2cqpTsQ388ccfKooqekLE7CmnnKKEojvi5ZUMBVIUQ8SvO/VtrwTrJPWXJxEoEWcZRDxKkE8610vHOfEMS9RUBKQzk4GcS3y2EnU+4YQTVGcx98JekkFBvoxL1gdJfSa1DerSUb8u1yO+aOksJ9pO2itar3J9BRHsYkeVcVPoM52jrsnx2hBigZBUZpICpCk6rZ027W8let+7dBBOH9Cu0c9HWgbyli/pXuQXGX2axB0+G6S250K8npKmU2x+3hrsIU2DWEXz8/OVnqnOU9scSJ8s8T6vWrVKCejqkE5r1T3L9dFrNIw2M/K+0Ts+GLl5+bQ0EEIIIaTVv5hlZWWpSLHkN65J7DYk3iP12yiqx+nkfnhokA3tw/2buzmEEEIIIY2G+I0li5ZEdqW6blPBCC8hhBBCCGkSxPfbHG5aRngJIYQQQkirhoKXEEIIaaWwXzpp6Tga6Bmm4CWEEEJaGc7sHXUpJECIN+N8ho81Iw09vIQQQkgrQ3KxSmEmZ+5Tya/qrFRG2l5aMrPZrNJ7eVNasrpEdkXsyjMsz7Izv/DRQsFLCCGEtEKkIIBQOeE/aVuIcCwpKVHlflviS4+IXeezfCxQ8BJCCCGtEBE3kv5JKnFJ7lPSNpGf/d9//62qrbW0QjXS3mON7Dqh4CWEEEJaMSIYGko0kJaH/OytVquqUtbSBG9D0nLMHIQQQgghhBwFFLyEEEIIIaRVQ8FLCCGEEEJaNfTw1pDkOD8/v8kM5ZJ6Q87Xlv01pCJ8Lkh18NkgnuBzQdrac5FfrtPqUpyCgtcDBQUFapyYmNjcTSGEEEIIIbXottDQ0Jo2gc7BuoMekzSnpKQgODi4SXLWyRuKiOsDBw4gJCSk0c9HWgZ8Lkh18NkgnuBzQdrac+FwOJTYTUhIqLWoBiO8HpCb1r59+yY/rzyIre1hJMcOnwtSHXw2iCf4XJC29FyE1hLZdcJOa4QQQgghpFVDwUsIIYQQQlo1FLxegK+vL5544gk1JsQJnwtSHXw2iCf4XBBP8LnQYKc1QgghhBDSqmGElxBCCCGEtGooeAkhhBBCSKuGgpcQQgghhLRqKHgJIYQQQkirhoLXC3j33XfRqVMn+Pn5YeTIkVi5cmVzN4k0IX///TfOPvtsVSlGKvv99NNPFdZLv9LHH38c8fHx8Pf3x/jx47Fz585may9pGl544QUMHz5cVXyMiYnBpEmTkJSUVGGb0tJS3HLLLYiMjERQUBDOP/98pKWlNVubSePz3nvvYcCAAa4iAqNHj8bvv//uWs9ngggvvvii+nty5513upaVtvFng4K3mZk1axbuvvtulTJk7dq1GDhwICZOnIj09PTmbhppIoqKitTPXV58PPHyyy/jrbfewvvvv48VK1YgMDBQPSPyy4u0XpYsWaL+OC1fvhwLFiyAxWLBhAkT1PPi5K677sKvv/6K2bNnq+2lJPrkyZObtd2kcZEqoCJm1qxZg9WrV2PcuHE499xzsWXLFrWezwRZtWoVPvjgA/Vi5M5dbf3ZkLRkpPkYMWKE45ZbbnHN22w2R0JCguOFF15o1naR5kH+Sf7444+uebvd7oiLi3O88sorrmW5ubkOX19fxzfffNNMrSTNQXp6uno+lixZ4noOTCaTY/bs2a5ttm3bprZZtmxZM7aUNDXh4eGOjz76iM8EcRQUFDi6d+/uWLBggePEE0903HHHHWp5Lp8NByO8zYjZbFZv6fKJ2oler1fzy5Yta9a2Ee9g7969SE1NrfCMSN1wsb7wGWlb5OXlqXFERIQay+8Oifq6Pxu9evVChw4d+Gy0EWw2G2bOnKmi/mJt4DNB5KvQmWeeWeEZENbw2YCxuRvQlsnMzFS/sGJjYyssl/nt27c3W7uI9yBiV/D0jDjXkdaP3W5XXrwxY8agX79+apn8/H18fBAWFlZhWz4brZ9NmzYpgSu2JvFi/vjjj+jTpw/Wr1/PZ6INIy8/Yo0US0NlUvn7goKXEEJaQtRm8+bNWLp0aXM3hXgBPXv2VOJWov7fffcdrrrqKuXJJG2XAwcO4I477lB+f+kAT6pCS0MzEhX1/+3cf2hNfxzH8fe4d5gfhc2dlF9tCUVto/n1B7cwRRYttbTNSsyWf5Qm14/sTzEpitg/fhXlRwvDzD9qUcIKK3/4UQghm9g/zrf3u+5pZ/Rtmuvce+7zUcfOuee454NP57587vvzyZbBgwf/MktSj3Nzc31rF5JHvB/QR9JXbW2tNDc3S1tbm01YitN/fy2L+vLli+d6+kbw6UhdXl6eFBYW2moeOun10KFD9Ik0piULOtm9oKBAQqGQbfqfIJ3wrPuRSCTt+waB1+eHlj6wWltbPV9d6rF+XQVMmTLFHka9+8jXr19ttQb6SLDpHEYNu/p19e3bt60v9KbPjnA47OkbumzZq1ev6BtpRj83enp66BNpLBqNWqmLjvzHt6KiIikvL3f3w2neNyhp8JkuSaZfR2lnnDt3rjQ2NtoEhKqqKr+bhn+ku7tbnj9/7pmopg8onZykEwq0drOhoUHy8/Mt9MRiMVuzV9dlRbDLGM6cOSOXL1+2tXjjdXY6aVHXY9af1dXV9gzRvqJrstbV1dmHV3Fxsd/NR4LU19dLSUmJPRu6urqsj9y5c0daWlroE2lMnxHx+v44XcJS19yNv16d7n3D72Ui4DiHDx92Jk6c6GRmZtoyZe3t7X43Cf9QW1ubLQ3Td6uoqHCXJovFYk4kErHlyKLRqNPZ2el3s5Fgv+sTujU1NbnXfP/+3ampqbFlqbKyspzS0lLn7du3vrYbibVhwwZn0qRJ9nmRk5Njz4MbN2645+kTiOu9LJlK976Rob/4HboBAACARKGGFwAAAIFG4AUAAECgEXgBAAAQaAReAAAABBqBFwAAAIFG4AUAAECgEXgBAAAQaAReAAAABBqBFwDgkZGRIZcuXfK7GQDw1xB4ASCJVFZWWuDsuy1fvtzvpgFAygr53QAAgJeG26amJs9rQ4YM8a09AJDqGOEFgCSj4TY3N9ezjR492s7paO/Ro0elpKREhg0bJlOnTpULFy54fn9HR4csWbLEzo8dO1Y2btwo3d3dnmtOnjwpM2fOtHuNHz9eamtrPec/fvwopaWlkpWVJfn5+XLlyhX33OfPn6W8vFxycnLsHnq+b0AHgGRC4AWAFBOLxWTNmjXy6NEjC57r1q2Tp0+f2rlv377JsmXLLCDfv39fzp8/L7du3fIEWg3MW7ZssSCs4VjDbF5enucee/fulbKyMnn8+LGsWLHC7vPp0yf3/k+ePJFr167ZffX9srOz//HfAgD0X4bjOM4fXA8ASHAN76lTp2To0KGe13fs2GGbjvBu2rTJQmZccXGxFBQUyJEjR+T48eOyfft2ef36tQwfPtzOX716VVauXClv3ryRSCQiEyZMkKqqKmloaPhtG/QeO3fulH379rkhesSIERZwtdxi1apVFnB1lBgAUgE1vACQZBYvXuwJtGrMmDHu/rx58zzn9Pjhw4e2ryOus2fPdsOuWrBggfz8+VM6OzstzGrwjUaj/9uGWbNmufv6XqNGjZL379/b8ebNm22E+cGDB7J06VJZvXq1zJ8/f4B/agBIHAIvACQZDZh9Swz+Fq257Y9wOOw51qCsoVlp/fDLly9t5PjmzZsWnrVEYv/+/QlpMwAMFDW8AJBi2tvbfzmePn267etPre3VMoS4u3fvyqBBg2TatGkycuRImTx5srS2tg6oDTphraKiwsovGhsb5dixYwN6PwBIJEZ4ASDJ9PT0yLt37zyvhUIhd2KYTkQrKiqShQsXyunTp+XevXty4sQJO6eTy3bv3m1hdM+ePfLhwwepq6uT9evXW/2u0te1DnjcuHE2WtvV1WWhWK/rj127dklhYaGt8qBtbW5udgM3ACQjAi8AJJnr16/bUmG96ejss2fP3BUUzp07JzU1NXbd2bNnZcaMGXZOlxFraWmRrVu3ypw5c+xY620PHDjgvpeG4R8/fsjBgwdl27ZtFqTXrl3b7/ZlZmZKfX29vHjxwkokFi1aZO0BgGTFKg0AkEK0lvbixYs2UQwA0D/U8AIAACDQCLwAAAAINGp4ASCFUIUGAH+OEV4AAAAEGoEXAAAAgUbgBQAAQKAReAEAABBoBF4AAAAEGoEXAAAAgUbgBQAAQKAReAEAACBB9h8XJeAnWiaPNwAAAABJRU5ErkJggg==",
      "text/plain": [
       "<Figure size 800x400 with 1 Axes>"
      ]
     },
     "metadata": {},
     "output_type": "display_data"
    }
   ],
   "source": [
    "# Plot accuracy\n",
    "plt.figure(figsize=(8, 4))\n",
    "plt.plot(history.history['nutriscore_accuracy'], label=\"Nutri Accuracy\")\n",
    "plt.plot(history.history['val_nutriscore_accuracy'], label=\"Val Nutri Accuracy\")\n",
    "plt.plot(history.history['nova_accuracy'], label=\"Nova Accuracy\")\n",
    "plt.plot(history.history['val_nova_accuracy'], label=\"Val Nova Accuracy\")\n",
    "plt.legend()\n",
    "plt.title(\"Classification Accuracy\")\n",
    "plt.xlabel(\"Epochs\")\n",
    "plt.ylabel(\"Accuracy\")\n",
    "plt.grid(True)\n",
    "plt.show()"
   ]
  },
  {
   "cell_type": "markdown",
   "id": "a77a52dc",
   "metadata": {},
   "source": [
    "#####  additives_n = regression target we don’t compute accuracy — because accuracy is only defined for classification."
   ]
  },
  {
   "cell_type": "code",
   "execution_count": null,
   "id": "8044fa24",
   "metadata": {},
   "outputs": [],
   "source": []
  },
  {
   "cell_type": "markdown",
   "id": "497eadf8",
   "metadata": {},
   "source": [
    "### Save and load the model"
   ]
  },
  {
   "cell_type": "code",
   "execution_count": 48,
   "id": "89d380f5",
   "metadata": {},
   "outputs": [],
   "source": [
    "from tensorflow.keras.losses import SparseCategoricalCrossentropy, MeanSquaredError\n",
    "\n",
    "model.compile(\n",
    "    optimizer='adam',\n",
    "    loss={\n",
    "        \"nutriscore\": SparseCategoricalCrossentropy(),\n",
    "        \"nova\": SparseCategoricalCrossentropy(),\n",
    "        \"additives\": MeanSquaredError()\n",
    "    },\n",
    "    metrics={\n",
    "        \"nutriscore\": \"accuracy\",\n",
    "        \"nova\": \"accuracy\",\n",
    "        \"additives\": tf.keras.metrics.RootMeanSquaredError()\n",
    "    }\n",
    ")"
   ]
  },
  {
   "cell_type": "code",
<<<<<<< HEAD
   "execution_count": null,
=======
   "execution_count": 51,
>>>>>>> bc7a0d1 (Add model prediction)
   "id": "da45ef9a",
   "metadata": {},
   "outputs": [],
   "source": [
<<<<<<< HEAD
    "# model.save(\"multi_model.keras\")"
=======
    "model.save(\"multi_model.keras\")"
>>>>>>> bc7a0d1 (Add model prediction)
   ]
  },
  {
   "cell_type": "code",
<<<<<<< HEAD
   "execution_count": 79,
   "id": "ea130dbb",
   "metadata": {},
   "outputs": [
    {
     "name": "stderr",
     "output_type": "stream",
     "text": [
      "WARNING:absl:You are saving your model as an HDF5 file via `model.save()` or `keras.saving.save_model(model)`. This file format is considered legacy. We recommend using instead the native Keras format, e.g. `model.save('my_model.keras')` or `keras.saving.save_model(model, 'my_model.keras')`. \n"
     ]
    }
   ],
   "source": [
    "model.save(\"multi_model.h5\")"
   ]
  },
  {
   "cell_type": "code",
   "execution_count": null,
=======
   "execution_count": 52,
>>>>>>> bc7a0d1 (Add model prediction)
   "id": "9e98fb69",
   "metadata": {},
   "outputs": [
    {
     "name": "stderr",
     "output_type": "stream",
     "text": [
      "c:\\Users\\yasser.sakhraoui\\Desktop\\food_project\\sogood-nutritional-analysis\\.venv\\Lib\\site-packages\\keras\\src\\saving\\saving_lib.py:802: UserWarning: Skipping variable loading for optimizer 'rmsprop', because it has 12 variables whereas the saved optimizer has 2 variables. \n",
      "  saveable.load_own_variables(weights_store.get(inner_path))\n"
     ]
    }
   ],
   "source": [
<<<<<<< HEAD
    "# from tensorflow.keras.models import load_model\n",
    "\n",
    "# model = load_model(\"model/multi_model.keras\")"
   ]
  },
  {
   "cell_type": "code",
   "execution_count": 80,
   "id": "5bc4b528",
   "metadata": {},
   "outputs": [
    {
     "name": "stderr",
     "output_type": "stream",
     "text": [
      "WARNING:absl:Compiled the loaded model, but the compiled metrics have yet to be built. `model.compile_metrics` will be empty until you train or evaluate the model.\n"
     ]
    }
   ],
   "source": [
    "from tensorflow.keras.models import load_model\n",
    "\n",
    "model = load_model(\"multi_model.h5\")"
=======
    "from tensorflow.keras.models import load_model\n",
    "\n",
    "model = load_model(\"multi_model.keras\")"
>>>>>>> bc7a0d1 (Add model prediction)
   ]
  },
  {
   "cell_type": "code",
   "execution_count": null,
   "id": "0ebbb687",
   "metadata": {},
   "outputs": [],
   "source": []
  },
  {
   "cell_type": "markdown",
   "id": "6b24ff92",
   "metadata": {},
   "source": [
    "#### TEST"
   ]
  },
  {
   "cell_type": "code",
<<<<<<< HEAD
   "execution_count": 81,
=======
   "execution_count": 59,
>>>>>>> bc7a0d1 (Add model prediction)
   "id": "ffecc61c",
   "metadata": {},
   "outputs": [],
   "source": [
    "features = ['fat_100g', 'sugars_100g', 'salt_100g', 'fiber_100g', 'proteins_100g']"
   ]
  },
  {
   "cell_type": "code",
<<<<<<< HEAD
   "execution_count": 82,
=======
   "execution_count": 60,
>>>>>>> bc7a0d1 (Add model prediction)
   "id": "a33fec9c",
   "metadata": {},
   "outputs": [],
   "source": [
    "df_features = df.select(features)"
   ]
  },
  {
   "cell_type": "code",
<<<<<<< HEAD
   "execution_count": 83,
   "id": "dba1b106",
   "metadata": {},
   "outputs": [
    {
     "ename": "Py4JJavaError",
     "evalue": "An error occurred while calling o4766.collectToPython.\n: org.apache.spark.SparkException: [FAILED_READ_FILE.FILE_NOT_EXIST] Encountered error while reading file file:///C:/Users/yasser.sakhraoui/Desktop/food_project/sogood-nutritional-analysis/backend/pyspark/food.csv. File does not exist. It is possible the underlying files have been updated.\nYou can explicitly invalidate the cache in Spark by running 'REFRESH TABLE tableName' command in SQL or by recreating the Dataset/DataFrame involved. SQLSTATE: KD001\r\n\tat org.apache.spark.sql.errors.QueryExecutionErrors$.fileNotExistError(QueryExecutionErrors.scala:831)\r\n\tat org.apache.spark.sql.execution.datasources.v2.FileDataSourceV2$.attachFilePath(FileDataSourceV2.scala:140)\r\n\tat org.apache.spark.sql.execution.datasources.FileScanRDD$$anon$1.hasNext(FileScanRDD.scala:142)\r\n\tat scala.collection.Iterator$$anon$9.hasNext(Iterator.scala:583)\r\n\tat org.apache.spark.sql.catalyst.expressions.GeneratedClass$GeneratedIteratorForCodegenStage1.processNext(Unknown Source)\r\n\tat org.apache.spark.sql.execution.BufferedRowIterator.hasNext(BufferedRowIterator.java:43)\r\n\tat org.apache.spark.sql.execution.WholeStageCodegenEvaluatorFactory$WholeStageCodegenPartitionEvaluator$$anon$1.hasNext(WholeStageCodegenEvaluatorFactory.scala:50)\r\n\tat org.apache.spark.sql.execution.SparkPlan.$anonfun$getByteArrayRdd$1(SparkPlan.scala:402)\r\n\tat org.apache.spark.rdd.RDD.$anonfun$mapPartitionsInternal$2(RDD.scala:901)\r\n\tat org.apache.spark.rdd.RDD.$anonfun$mapPartitionsInternal$2$adapted(RDD.scala:901)\r\n\tat org.apache.spark.rdd.MapPartitionsRDD.compute(MapPartitionsRDD.scala:52)\r\n\tat org.apache.spark.rdd.RDD.computeOrReadCheckpoint(RDD.scala:374)\r\n\tat org.apache.spark.rdd.RDD.iterator(RDD.scala:338)\r\n\tat org.apache.spark.scheduler.ResultTask.runTask(ResultTask.scala:93)\r\n\tat org.apache.spark.TaskContext.runTaskWithListeners(TaskContext.scala:171)\r\n\tat org.apache.spark.scheduler.Task.run(Task.scala:147)\r\n\tat org.apache.spark.executor.Executor$TaskRunner.$anonfun$run$5(Executor.scala:647)\r\n\tat org.apache.spark.util.SparkErrorUtils.tryWithSafeFinally(SparkErrorUtils.scala:80)\r\n\tat org.apache.spark.util.SparkErrorUtils.tryWithSafeFinally$(SparkErrorUtils.scala:77)\r\n\tat org.apache.spark.util.Utils$.tryWithSafeFinally(Utils.scala:99)\r\n\tat org.apache.spark.executor.Executor$TaskRunner.run(Executor.scala:650)\r\n\tat java.base/java.util.concurrent.ThreadPoolExecutor.runWorker(ThreadPoolExecutor.java:1144)\r\n\tat java.base/java.util.concurrent.ThreadPoolExecutor$Worker.run(ThreadPoolExecutor.java:642)\r\n\tat java.base/java.lang.Thread.run(Thread.java:1583)\r\n\tat org.apache.spark.scheduler.DAGScheduler.runJob(DAGScheduler.scala:1009)\r\n\tat org.apache.spark.SparkContext.runJob(SparkContext.scala:2484)\r\n\tat org.apache.spark.SparkContext.runJob(SparkContext.scala:2505)\r\n\tat org.apache.spark.SparkContext.runJob(SparkContext.scala:2524)\r\n\tat org.apache.spark.SparkContext.runJob(SparkContext.scala:2549)\r\n\tat org.apache.spark.rdd.RDD.$anonfun$collect$1(RDD.scala:1057)\r\n\tat org.apache.spark.rdd.RDDOperationScope$.withScope(RDDOperationScope.scala:151)\r\n\tat org.apache.spark.rdd.RDDOperationScope$.withScope(RDDOperationScope.scala:112)\r\n\tat org.apache.spark.rdd.RDD.withScope(RDD.scala:417)\r\n\tat org.apache.spark.rdd.RDD.collect(RDD.scala:1056)\r\n\tat org.apache.spark.sql.execution.SparkPlan.executeCollect(SparkPlan.scala:462)\r\n\tat org.apache.spark.sql.classic.Dataset.$anonfun$collectToPython$1(Dataset.scala:2057)\r\n\tat org.apache.spark.sql.classic.Dataset.$anonfun$withAction$2(Dataset.scala:2234)\r\n\tat org.apache.spark.sql.execution.QueryExecution$.withInternalError(QueryExecution.scala:654)\r\n\tat org.apache.spark.sql.classic.Dataset.$anonfun$withAction$1(Dataset.scala:2232)\r\n\tat org.apache.spark.sql.execution.SQLExecution$.$anonfun$withNewExecutionId0$8(SQLExecution.scala:162)\r\n\tat org.apache.spark.sql.execution.SQLExecution$.withSessionTagsApplied(SQLExecution.scala:268)\r\n\tat org.apache.spark.sql.execution.SQLExecution$.$anonfun$withNewExecutionId0$7(SQLExecution.scala:124)\r\n\tat org.apache.spark.JobArtifactSet$.withActiveJobArtifactState(JobArtifactSet.scala:94)\r\n\tat org.apache.spark.sql.artifact.ArtifactManager.$anonfun$withResources$1(ArtifactManager.scala:112)\r\n\tat org.apache.spark.sql.artifact.ArtifactManager.withClassLoaderIfNeeded(ArtifactManager.scala:106)\r\n\tat org.apache.spark.sql.artifact.ArtifactManager.withResources(ArtifactManager.scala:111)\r\n\tat org.apache.spark.sql.execution.SQLExecution$.$anonfun$withNewExecutionId0$6(SQLExecution.scala:124)\r\n\tat org.apache.spark.sql.execution.SQLExecution$.withSQLConfPropagated(SQLExecution.scala:291)\r\n\tat org.apache.spark.sql.execution.SQLExecution$.$anonfun$withNewExecutionId0$1(SQLExecution.scala:123)\r\n\tat org.apache.spark.sql.SparkSession.withActive(SparkSession.scala:804)\r\n\tat org.apache.spark.sql.execution.SQLExecution$.withNewExecutionId0(SQLExecution.scala:77)\r\n\tat org.apache.spark.sql.execution.SQLExecution$.withNewExecutionId(SQLExecution.scala:233)\r\n\tat org.apache.spark.sql.classic.Dataset.withAction(Dataset.scala:2232)\r\n\tat org.apache.spark.sql.classic.Dataset.collectToPython(Dataset.scala:2054)\r\n\tat java.base/jdk.internal.reflect.NativeMethodAccessorImpl.invoke0(Native Method)\r\n\tat java.base/jdk.internal.reflect.NativeMethodAccessorImpl.invoke(NativeMethodAccessorImpl.java:75)\r\n\tat java.base/jdk.internal.reflect.DelegatingMethodAccessorImpl.invoke(DelegatingMethodAccessorImpl.java:52)\r\n\tat java.base/java.lang.reflect.Method.invoke(Method.java:580)\r\n\tat py4j.reflection.MethodInvoker.invoke(MethodInvoker.java:244)\r\n\tat py4j.reflection.ReflectionEngine.invoke(ReflectionEngine.java:374)\r\n\tat py4j.Gateway.invoke(Gateway.java:282)\r\n\tat py4j.commands.AbstractCommand.invokeMethod(AbstractCommand.java:132)\r\n\tat py4j.commands.CallCommand.execute(CallCommand.java:79)\r\n\tat py4j.ClientServerConnection.waitForCommands(ClientServerConnection.java:184)\r\n\tat py4j.ClientServerConnection.run(ClientServerConnection.java:108)\r\n\tat java.base/java.lang.Thread.run(Thread.java:1583)\r\nCaused by: java.io.FileNotFoundException: File file:/C:/Users/yasser.sakhraoui/Desktop/food_project/sogood-nutritional-analysis/backend/pyspark/food.csv does not exist\r\n\tat org.apache.hadoop.fs.RawLocalFileSystem.deprecatedGetFileStatus(RawLocalFileSystem.java:917)\r\n\tat org.apache.hadoop.fs.RawLocalFileSystem.getFileLinkStatusInternal(RawLocalFileSystem.java:1238)\r\n\tat org.apache.hadoop.fs.RawLocalFileSystem.getFileStatus(RawLocalFileSystem.java:907)\r\n\tat org.apache.hadoop.fs.FilterFileSystem.getFileStatus(FilterFileSystem.java:462)\r\n\tat org.apache.hadoop.fs.ChecksumFileSystem$ChecksumFSInputChecker.<init>(ChecksumFileSystem.java:189)\r\n\tat org.apache.hadoop.fs.ChecksumFileSystem.open(ChecksumFileSystem.java:572)\r\n\tat org.apache.hadoop.fs.ChecksumFileSystem.lambda$openFileWithOptions$0(ChecksumFileSystem.java:1100)\r\n\tat org.apache.hadoop.util.LambdaUtils.eval(LambdaUtils.java:52)\r\n\tat org.apache.hadoop.fs.ChecksumFileSystem.openFileWithOptions(ChecksumFileSystem.java:1098)\r\n\tat org.apache.hadoop.fs.FileSystem$FSDataInputStreamBuilder.build(FileSystem.java:4952)\r\n\tat org.apache.hadoop.mapreduce.lib.input.LineRecordReader.initialize(LineRecordReader.java:100)\r\n\tat org.apache.spark.sql.execution.datasources.HadoopFileLinesReader.$anonfun$_iterator$2(HadoopFileLinesReader.scala:66)\r\n\tat org.apache.spark.util.SparkErrorUtils.tryInitializeResource(SparkErrorUtils.scala:59)\r\n\tat org.apache.spark.util.SparkErrorUtils.tryInitializeResource$(SparkErrorUtils.scala:56)\r\n\tat org.apache.spark.util.Utils$.tryInitializeResource(Utils.scala:99)\r\n\tat org.apache.spark.sql.execution.datasources.HadoopFileLinesReader.<init>(HadoopFileLinesReader.scala:65)\r\n\tat org.apache.spark.sql.execution.datasources.csv.TextInputCSVDataSource$.$anonfun$readFile$1(CSVDataSource.scala:105)\r\n\tat org.apache.spark.TaskContextImpl.createResourceUninterruptibly(TaskContextImpl.scala:332)\r\n\tat org.apache.spark.util.Utils$.$anonfun$createResourceUninterruptiblyIfInTaskThread$1(Utils.scala:3097)\r\n\tat scala.Option.map(Option.scala:242)\r\n\tat org.apache.spark.util.Utils$.createResourceUninterruptiblyIfInTaskThread(Utils.scala:3096)\r\n\tat org.apache.spark.sql.execution.datasources.csv.TextInputCSVDataSource$.readFile(CSVDataSource.scala:105)\r\n\tat org.apache.spark.sql.execution.datasources.csv.CSVFileFormat.$anonfun$buildReader$2(CSVFileFormat.scala:147)\r\n\tat org.apache.spark.sql.execution.datasources.FileFormat$$anon$1.apply(FileFormat.scala:155)\r\n\tat org.apache.spark.sql.execution.datasources.FileFormat$$anon$1.apply(FileFormat.scala:140)\r\n\tat org.apache.spark.sql.execution.datasources.FileScanRDD$$anon$1.org$apache$spark$sql$execution$datasources$FileScanRDD$$anon$$readCurrentFile(FileScanRDD.scala:230)\r\n\tat org.apache.spark.sql.execution.datasources.FileScanRDD$$anon$1.nextIterator(FileScanRDD.scala:289)\r\n\tat org.apache.spark.sql.execution.datasources.FileScanRDD$$anon$1.hasNext0(FileScanRDD.scala:131)\r\n\tat org.apache.spark.sql.execution.datasources.FileScanRDD$$anon$1.hasNext(FileScanRDD.scala:140)\r\n\tat scala.collection.Iterator$$anon$9.hasNext(Iterator.scala:583)\r\n\tat org.apache.spark.sql.catalyst.expressions.GeneratedClass$GeneratedIteratorForCodegenStage1.processNext(Unknown Source)\r\n\tat org.apache.spark.sql.execution.BufferedRowIterator.hasNext(BufferedRowIterator.java:43)\r\n\tat org.apache.spark.sql.execution.WholeStageCodegenEvaluatorFactory$WholeStageCodegenPartitionEvaluator$$anon$1.hasNext(WholeStageCodegenEvaluatorFactory.scala:50)\r\n\tat org.apache.spark.sql.execution.SparkPlan.$anonfun$getByteArrayRdd$1(SparkPlan.scala:402)\r\n\tat org.apache.spark.rdd.RDD.$anonfun$mapPartitionsInternal$2(RDD.scala:901)\r\n\tat org.apache.spark.rdd.RDD.$anonfun$mapPartitionsInternal$2$adapted(RDD.scala:901)\r\n\tat org.apache.spark.rdd.MapPartitionsRDD.compute(MapPartitionsRDD.scala:52)\r\n\tat org.apache.spark.rdd.RDD.computeOrReadCheckpoint(RDD.scala:374)\r\n\tat org.apache.spark.rdd.RDD.iterator(RDD.scala:338)\r\n\tat org.apache.spark.scheduler.ResultTask.runTask(ResultTask.scala:93)\r\n\tat org.apache.spark.TaskContext.runTaskWithListeners(TaskContext.scala:171)\r\n\tat org.apache.spark.scheduler.Task.run(Task.scala:147)\r\n\tat org.apache.spark.executor.Executor$TaskRunner.$anonfun$run$5(Executor.scala:647)\r\n\tat org.apache.spark.util.SparkErrorUtils.tryWithSafeFinally(SparkErrorUtils.scala:80)\r\n\tat org.apache.spark.util.SparkErrorUtils.tryWithSafeFinally$(SparkErrorUtils.scala:77)\r\n\tat org.apache.spark.util.Utils$.tryWithSafeFinally(Utils.scala:99)\r\n\tat org.apache.spark.executor.Executor$TaskRunner.run(Executor.scala:650)\r\n\tat java.base/java.util.concurrent.ThreadPoolExecutor.runWorker(ThreadPoolExecutor.java:1144)\r\n\tat java.base/java.util.concurrent.ThreadPoolExecutor$Worker.run(ThreadPoolExecutor.java:642)\r\n\t... 1 more\r\n",
     "output_type": "error",
     "traceback": [
      "\u001b[31m---------------------------------------------------------------------------\u001b[39m",
      "\u001b[31mPy4JJavaError\u001b[39m                             Traceback (most recent call last)",
      "\u001b[36mCell\u001b[39m\u001b[36m \u001b[39m\u001b[32mIn[83]\u001b[39m\u001b[32m, line 2\u001b[39m\n\u001b[32m      1\u001b[39m df_features = df.select(features).dropna()\n\u001b[32m----> \u001b[39m\u001b[32m2\u001b[39m df_pd = \u001b[43mdf_features\u001b[49m\u001b[43m.\u001b[49m\u001b[43mtoPandas\u001b[49m\u001b[43m(\u001b[49m\u001b[43m)\u001b[49m\n\u001b[32m      3\u001b[39m X_test = df_pd.astype(\u001b[33m'\u001b[39m\u001b[33mfloat32\u001b[39m\u001b[33m'\u001b[39m).values\n",
      "\u001b[36mFile \u001b[39m\u001b[32mc:\\Users\\yasser.sakhraoui\\Desktop\\food_project\\sogood-nutritional-analysis\\.venv\\Lib\\site-packages\\pyspark\\sql\\classic\\dataframe.py:1792\u001b[39m, in \u001b[36mDataFrame.toPandas\u001b[39m\u001b[34m(self)\u001b[39m\n\u001b[32m   1791\u001b[39m \u001b[38;5;28;01mdef\u001b[39;00m\u001b[38;5;250m \u001b[39m\u001b[34mtoPandas\u001b[39m(\u001b[38;5;28mself\u001b[39m) -> \u001b[33m\"\u001b[39m\u001b[33mPandasDataFrameLike\u001b[39m\u001b[33m\"\u001b[39m:\n\u001b[32m-> \u001b[39m\u001b[32m1792\u001b[39m     \u001b[38;5;28;01mreturn\u001b[39;00m \u001b[43mPandasConversionMixin\u001b[49m\u001b[43m.\u001b[49m\u001b[43mtoPandas\u001b[49m\u001b[43m(\u001b[49m\u001b[38;5;28;43mself\u001b[39;49m\u001b[43m)\u001b[49m\n",
      "\u001b[36mFile \u001b[39m\u001b[32mc:\\Users\\yasser.sakhraoui\\Desktop\\food_project\\sogood-nutritional-analysis\\.venv\\Lib\\site-packages\\pyspark\\sql\\pandas\\conversion.py:197\u001b[39m, in \u001b[36mPandasConversionMixin.toPandas\u001b[39m\u001b[34m(self)\u001b[39m\n\u001b[32m    194\u001b[39m             \u001b[38;5;28;01mraise\u001b[39;00m\n\u001b[32m    196\u001b[39m \u001b[38;5;66;03m# Below is toPandas without Arrow optimization.\u001b[39;00m\n\u001b[32m--> \u001b[39m\u001b[32m197\u001b[39m rows = \u001b[38;5;28;43mself\u001b[39;49m\u001b[43m.\u001b[49m\u001b[43mcollect\u001b[49m\u001b[43m(\u001b[49m\u001b[43m)\u001b[49m\n\u001b[32m    198\u001b[39m \u001b[38;5;28;01mif\u001b[39;00m \u001b[38;5;28mlen\u001b[39m(rows) > \u001b[32m0\u001b[39m:\n\u001b[32m    199\u001b[39m     pdf = pd.DataFrame.from_records(\n\u001b[32m    200\u001b[39m         rows, index=\u001b[38;5;28mrange\u001b[39m(\u001b[38;5;28mlen\u001b[39m(rows)), columns=\u001b[38;5;28mself\u001b[39m.columns  \u001b[38;5;66;03m# type: ignore[arg-type]\u001b[39;00m\n\u001b[32m    201\u001b[39m     )\n",
      "\u001b[36mFile \u001b[39m\u001b[32mc:\\Users\\yasser.sakhraoui\\Desktop\\food_project\\sogood-nutritional-analysis\\.venv\\Lib\\site-packages\\pyspark\\sql\\classic\\dataframe.py:443\u001b[39m, in \u001b[36mDataFrame.collect\u001b[39m\u001b[34m(self)\u001b[39m\n\u001b[32m    441\u001b[39m \u001b[38;5;28;01mdef\u001b[39;00m\u001b[38;5;250m \u001b[39m\u001b[34mcollect\u001b[39m(\u001b[38;5;28mself\u001b[39m) -> List[Row]:\n\u001b[32m    442\u001b[39m     \u001b[38;5;28;01mwith\u001b[39;00m SCCallSiteSync(\u001b[38;5;28mself\u001b[39m._sc):\n\u001b[32m--> \u001b[39m\u001b[32m443\u001b[39m         sock_info = \u001b[38;5;28;43mself\u001b[39;49m\u001b[43m.\u001b[49m\u001b[43m_jdf\u001b[49m\u001b[43m.\u001b[49m\u001b[43mcollectToPython\u001b[49m\u001b[43m(\u001b[49m\u001b[43m)\u001b[49m\n\u001b[32m    444\u001b[39m     \u001b[38;5;28;01mreturn\u001b[39;00m \u001b[38;5;28mlist\u001b[39m(_load_from_socket(sock_info, BatchedSerializer(CPickleSerializer())))\n",
      "\u001b[36mFile \u001b[39m\u001b[32mc:\\Users\\yasser.sakhraoui\\Desktop\\food_project\\sogood-nutritional-analysis\\.venv\\Lib\\site-packages\\py4j\\java_gateway.py:1362\u001b[39m, in \u001b[36mJavaMember.__call__\u001b[39m\u001b[34m(self, *args)\u001b[39m\n\u001b[32m   1356\u001b[39m command = proto.CALL_COMMAND_NAME +\\\n\u001b[32m   1357\u001b[39m     \u001b[38;5;28mself\u001b[39m.command_header +\\\n\u001b[32m   1358\u001b[39m     args_command +\\\n\u001b[32m   1359\u001b[39m     proto.END_COMMAND_PART\n\u001b[32m   1361\u001b[39m answer = \u001b[38;5;28mself\u001b[39m.gateway_client.send_command(command)\n\u001b[32m-> \u001b[39m\u001b[32m1362\u001b[39m return_value = \u001b[43mget_return_value\u001b[49m\u001b[43m(\u001b[49m\n\u001b[32m   1363\u001b[39m \u001b[43m    \u001b[49m\u001b[43manswer\u001b[49m\u001b[43m,\u001b[49m\u001b[43m \u001b[49m\u001b[38;5;28;43mself\u001b[39;49m\u001b[43m.\u001b[49m\u001b[43mgateway_client\u001b[49m\u001b[43m,\u001b[49m\u001b[43m \u001b[49m\u001b[38;5;28;43mself\u001b[39;49m\u001b[43m.\u001b[49m\u001b[43mtarget_id\u001b[49m\u001b[43m,\u001b[49m\u001b[43m \u001b[49m\u001b[38;5;28;43mself\u001b[39;49m\u001b[43m.\u001b[49m\u001b[43mname\u001b[49m\u001b[43m)\u001b[49m\n\u001b[32m   1365\u001b[39m \u001b[38;5;28;01mfor\u001b[39;00m temp_arg \u001b[38;5;129;01min\u001b[39;00m temp_args:\n\u001b[32m   1366\u001b[39m     \u001b[38;5;28;01mif\u001b[39;00m \u001b[38;5;28mhasattr\u001b[39m(temp_arg, \u001b[33m\"\u001b[39m\u001b[33m_detach\u001b[39m\u001b[33m\"\u001b[39m):\n",
      "\u001b[36mFile \u001b[39m\u001b[32mc:\\Users\\yasser.sakhraoui\\Desktop\\food_project\\sogood-nutritional-analysis\\.venv\\Lib\\site-packages\\pyspark\\errors\\exceptions\\captured.py:282\u001b[39m, in \u001b[36mcapture_sql_exception.<locals>.deco\u001b[39m\u001b[34m(*a, **kw)\u001b[39m\n\u001b[32m    279\u001b[39m \u001b[38;5;28;01mfrom\u001b[39;00m\u001b[38;5;250m \u001b[39m\u001b[34;01mpy4j\u001b[39;00m\u001b[34;01m.\u001b[39;00m\u001b[34;01mprotocol\u001b[39;00m\u001b[38;5;250m \u001b[39m\u001b[38;5;28;01mimport\u001b[39;00m Py4JJavaError\n\u001b[32m    281\u001b[39m \u001b[38;5;28;01mtry\u001b[39;00m:\n\u001b[32m--> \u001b[39m\u001b[32m282\u001b[39m     \u001b[38;5;28;01mreturn\u001b[39;00m \u001b[43mf\u001b[49m\u001b[43m(\u001b[49m\u001b[43m*\u001b[49m\u001b[43ma\u001b[49m\u001b[43m,\u001b[49m\u001b[43m \u001b[49m\u001b[43m*\u001b[49m\u001b[43m*\u001b[49m\u001b[43mkw\u001b[49m\u001b[43m)\u001b[49m\n\u001b[32m    283\u001b[39m \u001b[38;5;28;01mexcept\u001b[39;00m Py4JJavaError \u001b[38;5;28;01mas\u001b[39;00m e:\n\u001b[32m    284\u001b[39m     converted = convert_exception(e.java_exception)\n",
      "\u001b[36mFile \u001b[39m\u001b[32mc:\\Users\\yasser.sakhraoui\\Desktop\\food_project\\sogood-nutritional-analysis\\.venv\\Lib\\site-packages\\py4j\\protocol.py:327\u001b[39m, in \u001b[36mget_return_value\u001b[39m\u001b[34m(answer, gateway_client, target_id, name)\u001b[39m\n\u001b[32m    325\u001b[39m value = OUTPUT_CONVERTER[\u001b[38;5;28mtype\u001b[39m](answer[\u001b[32m2\u001b[39m:], gateway_client)\n\u001b[32m    326\u001b[39m \u001b[38;5;28;01mif\u001b[39;00m answer[\u001b[32m1\u001b[39m] == REFERENCE_TYPE:\n\u001b[32m--> \u001b[39m\u001b[32m327\u001b[39m     \u001b[38;5;28;01mraise\u001b[39;00m Py4JJavaError(\n\u001b[32m    328\u001b[39m         \u001b[33m\"\u001b[39m\u001b[33mAn error occurred while calling \u001b[39m\u001b[38;5;132;01m{0}\u001b[39;00m\u001b[38;5;132;01m{1}\u001b[39;00m\u001b[38;5;132;01m{2}\u001b[39;00m\u001b[33m.\u001b[39m\u001b[38;5;130;01m\\n\u001b[39;00m\u001b[33m\"\u001b[39m.\n\u001b[32m    329\u001b[39m         \u001b[38;5;28mformat\u001b[39m(target_id, \u001b[33m\"\u001b[39m\u001b[33m.\u001b[39m\u001b[33m\"\u001b[39m, name), value)\n\u001b[32m    330\u001b[39m \u001b[38;5;28;01melse\u001b[39;00m:\n\u001b[32m    331\u001b[39m     \u001b[38;5;28;01mraise\u001b[39;00m Py4JError(\n\u001b[32m    332\u001b[39m         \u001b[33m\"\u001b[39m\u001b[33mAn error occurred while calling \u001b[39m\u001b[38;5;132;01m{0}\u001b[39;00m\u001b[38;5;132;01m{1}\u001b[39;00m\u001b[38;5;132;01m{2}\u001b[39;00m\u001b[33m. Trace:\u001b[39m\u001b[38;5;130;01m\\n\u001b[39;00m\u001b[38;5;132;01m{3}\u001b[39;00m\u001b[38;5;130;01m\\n\u001b[39;00m\u001b[33m\"\u001b[39m.\n\u001b[32m    333\u001b[39m         \u001b[38;5;28mformat\u001b[39m(target_id, \u001b[33m\"\u001b[39m\u001b[33m.\u001b[39m\u001b[33m\"\u001b[39m, name, value))\n",
      "\u001b[31mPy4JJavaError\u001b[39m: An error occurred while calling o4766.collectToPython.\n: org.apache.spark.SparkException: [FAILED_READ_FILE.FILE_NOT_EXIST] Encountered error while reading file file:///C:/Users/yasser.sakhraoui/Desktop/food_project/sogood-nutritional-analysis/backend/pyspark/food.csv. File does not exist. It is possible the underlying files have been updated.\nYou can explicitly invalidate the cache in Spark by running 'REFRESH TABLE tableName' command in SQL or by recreating the Dataset/DataFrame involved. SQLSTATE: KD001\r\n\tat org.apache.spark.sql.errors.QueryExecutionErrors$.fileNotExistError(QueryExecutionErrors.scala:831)\r\n\tat org.apache.spark.sql.execution.datasources.v2.FileDataSourceV2$.attachFilePath(FileDataSourceV2.scala:140)\r\n\tat org.apache.spark.sql.execution.datasources.FileScanRDD$$anon$1.hasNext(FileScanRDD.scala:142)\r\n\tat scala.collection.Iterator$$anon$9.hasNext(Iterator.scala:583)\r\n\tat org.apache.spark.sql.catalyst.expressions.GeneratedClass$GeneratedIteratorForCodegenStage1.processNext(Unknown Source)\r\n\tat org.apache.spark.sql.execution.BufferedRowIterator.hasNext(BufferedRowIterator.java:43)\r\n\tat org.apache.spark.sql.execution.WholeStageCodegenEvaluatorFactory$WholeStageCodegenPartitionEvaluator$$anon$1.hasNext(WholeStageCodegenEvaluatorFactory.scala:50)\r\n\tat org.apache.spark.sql.execution.SparkPlan.$anonfun$getByteArrayRdd$1(SparkPlan.scala:402)\r\n\tat org.apache.spark.rdd.RDD.$anonfun$mapPartitionsInternal$2(RDD.scala:901)\r\n\tat org.apache.spark.rdd.RDD.$anonfun$mapPartitionsInternal$2$adapted(RDD.scala:901)\r\n\tat org.apache.spark.rdd.MapPartitionsRDD.compute(MapPartitionsRDD.scala:52)\r\n\tat org.apache.spark.rdd.RDD.computeOrReadCheckpoint(RDD.scala:374)\r\n\tat org.apache.spark.rdd.RDD.iterator(RDD.scala:338)\r\n\tat org.apache.spark.scheduler.ResultTask.runTask(ResultTask.scala:93)\r\n\tat org.apache.spark.TaskContext.runTaskWithListeners(TaskContext.scala:171)\r\n\tat org.apache.spark.scheduler.Task.run(Task.scala:147)\r\n\tat org.apache.spark.executor.Executor$TaskRunner.$anonfun$run$5(Executor.scala:647)\r\n\tat org.apache.spark.util.SparkErrorUtils.tryWithSafeFinally(SparkErrorUtils.scala:80)\r\n\tat org.apache.spark.util.SparkErrorUtils.tryWithSafeFinally$(SparkErrorUtils.scala:77)\r\n\tat org.apache.spark.util.Utils$.tryWithSafeFinally(Utils.scala:99)\r\n\tat org.apache.spark.executor.Executor$TaskRunner.run(Executor.scala:650)\r\n\tat java.base/java.util.concurrent.ThreadPoolExecutor.runWorker(ThreadPoolExecutor.java:1144)\r\n\tat java.base/java.util.concurrent.ThreadPoolExecutor$Worker.run(ThreadPoolExecutor.java:642)\r\n\tat java.base/java.lang.Thread.run(Thread.java:1583)\r\n\tat org.apache.spark.scheduler.DAGScheduler.runJob(DAGScheduler.scala:1009)\r\n\tat org.apache.spark.SparkContext.runJob(SparkContext.scala:2484)\r\n\tat org.apache.spark.SparkContext.runJob(SparkContext.scala:2505)\r\n\tat org.apache.spark.SparkContext.runJob(SparkContext.scala:2524)\r\n\tat org.apache.spark.SparkContext.runJob(SparkContext.scala:2549)\r\n\tat org.apache.spark.rdd.RDD.$anonfun$collect$1(RDD.scala:1057)\r\n\tat org.apache.spark.rdd.RDDOperationScope$.withScope(RDDOperationScope.scala:151)\r\n\tat org.apache.spark.rdd.RDDOperationScope$.withScope(RDDOperationScope.scala:112)\r\n\tat org.apache.spark.rdd.RDD.withScope(RDD.scala:417)\r\n\tat org.apache.spark.rdd.RDD.collect(RDD.scala:1056)\r\n\tat org.apache.spark.sql.execution.SparkPlan.executeCollect(SparkPlan.scala:462)\r\n\tat org.apache.spark.sql.classic.Dataset.$anonfun$collectToPython$1(Dataset.scala:2057)\r\n\tat org.apache.spark.sql.classic.Dataset.$anonfun$withAction$2(Dataset.scala:2234)\r\n\tat org.apache.spark.sql.execution.QueryExecution$.withInternalError(QueryExecution.scala:654)\r\n\tat org.apache.spark.sql.classic.Dataset.$anonfun$withAction$1(Dataset.scala:2232)\r\n\tat org.apache.spark.sql.execution.SQLExecution$.$anonfun$withNewExecutionId0$8(SQLExecution.scala:162)\r\n\tat org.apache.spark.sql.execution.SQLExecution$.withSessionTagsApplied(SQLExecution.scala:268)\r\n\tat org.apache.spark.sql.execution.SQLExecution$.$anonfun$withNewExecutionId0$7(SQLExecution.scala:124)\r\n\tat org.apache.spark.JobArtifactSet$.withActiveJobArtifactState(JobArtifactSet.scala:94)\r\n\tat org.apache.spark.sql.artifact.ArtifactManager.$anonfun$withResources$1(ArtifactManager.scala:112)\r\n\tat org.apache.spark.sql.artifact.ArtifactManager.withClassLoaderIfNeeded(ArtifactManager.scala:106)\r\n\tat org.apache.spark.sql.artifact.ArtifactManager.withResources(ArtifactManager.scala:111)\r\n\tat org.apache.spark.sql.execution.SQLExecution$.$anonfun$withNewExecutionId0$6(SQLExecution.scala:124)\r\n\tat org.apache.spark.sql.execution.SQLExecution$.withSQLConfPropagated(SQLExecution.scala:291)\r\n\tat org.apache.spark.sql.execution.SQLExecution$.$anonfun$withNewExecutionId0$1(SQLExecution.scala:123)\r\n\tat org.apache.spark.sql.SparkSession.withActive(SparkSession.scala:804)\r\n\tat org.apache.spark.sql.execution.SQLExecution$.withNewExecutionId0(SQLExecution.scala:77)\r\n\tat org.apache.spark.sql.execution.SQLExecution$.withNewExecutionId(SQLExecution.scala:233)\r\n\tat org.apache.spark.sql.classic.Dataset.withAction(Dataset.scala:2232)\r\n\tat org.apache.spark.sql.classic.Dataset.collectToPython(Dataset.scala:2054)\r\n\tat java.base/jdk.internal.reflect.NativeMethodAccessorImpl.invoke0(Native Method)\r\n\tat java.base/jdk.internal.reflect.NativeMethodAccessorImpl.invoke(NativeMethodAccessorImpl.java:75)\r\n\tat java.base/jdk.internal.reflect.DelegatingMethodAccessorImpl.invoke(DelegatingMethodAccessorImpl.java:52)\r\n\tat java.base/java.lang.reflect.Method.invoke(Method.java:580)\r\n\tat py4j.reflection.MethodInvoker.invoke(MethodInvoker.java:244)\r\n\tat py4j.reflection.ReflectionEngine.invoke(ReflectionEngine.java:374)\r\n\tat py4j.Gateway.invoke(Gateway.java:282)\r\n\tat py4j.commands.AbstractCommand.invokeMethod(AbstractCommand.java:132)\r\n\tat py4j.commands.CallCommand.execute(CallCommand.java:79)\r\n\tat py4j.ClientServerConnection.waitForCommands(ClientServerConnection.java:184)\r\n\tat py4j.ClientServerConnection.run(ClientServerConnection.java:108)\r\n\tat java.base/java.lang.Thread.run(Thread.java:1583)\r\nCaused by: java.io.FileNotFoundException: File file:/C:/Users/yasser.sakhraoui/Desktop/food_project/sogood-nutritional-analysis/backend/pyspark/food.csv does not exist\r\n\tat org.apache.hadoop.fs.RawLocalFileSystem.deprecatedGetFileStatus(RawLocalFileSystem.java:917)\r\n\tat org.apache.hadoop.fs.RawLocalFileSystem.getFileLinkStatusInternal(RawLocalFileSystem.java:1238)\r\n\tat org.apache.hadoop.fs.RawLocalFileSystem.getFileStatus(RawLocalFileSystem.java:907)\r\n\tat org.apache.hadoop.fs.FilterFileSystem.getFileStatus(FilterFileSystem.java:462)\r\n\tat org.apache.hadoop.fs.ChecksumFileSystem$ChecksumFSInputChecker.<init>(ChecksumFileSystem.java:189)\r\n\tat org.apache.hadoop.fs.ChecksumFileSystem.open(ChecksumFileSystem.java:572)\r\n\tat org.apache.hadoop.fs.ChecksumFileSystem.lambda$openFileWithOptions$0(ChecksumFileSystem.java:1100)\r\n\tat org.apache.hadoop.util.LambdaUtils.eval(LambdaUtils.java:52)\r\n\tat org.apache.hadoop.fs.ChecksumFileSystem.openFileWithOptions(ChecksumFileSystem.java:1098)\r\n\tat org.apache.hadoop.fs.FileSystem$FSDataInputStreamBuilder.build(FileSystem.java:4952)\r\n\tat org.apache.hadoop.mapreduce.lib.input.LineRecordReader.initialize(LineRecordReader.java:100)\r\n\tat org.apache.spark.sql.execution.datasources.HadoopFileLinesReader.$anonfun$_iterator$2(HadoopFileLinesReader.scala:66)\r\n\tat org.apache.spark.util.SparkErrorUtils.tryInitializeResource(SparkErrorUtils.scala:59)\r\n\tat org.apache.spark.util.SparkErrorUtils.tryInitializeResource$(SparkErrorUtils.scala:56)\r\n\tat org.apache.spark.util.Utils$.tryInitializeResource(Utils.scala:99)\r\n\tat org.apache.spark.sql.execution.datasources.HadoopFileLinesReader.<init>(HadoopFileLinesReader.scala:65)\r\n\tat org.apache.spark.sql.execution.datasources.csv.TextInputCSVDataSource$.$anonfun$readFile$1(CSVDataSource.scala:105)\r\n\tat org.apache.spark.TaskContextImpl.createResourceUninterruptibly(TaskContextImpl.scala:332)\r\n\tat org.apache.spark.util.Utils$.$anonfun$createResourceUninterruptiblyIfInTaskThread$1(Utils.scala:3097)\r\n\tat scala.Option.map(Option.scala:242)\r\n\tat org.apache.spark.util.Utils$.createResourceUninterruptiblyIfInTaskThread(Utils.scala:3096)\r\n\tat org.apache.spark.sql.execution.datasources.csv.TextInputCSVDataSource$.readFile(CSVDataSource.scala:105)\r\n\tat org.apache.spark.sql.execution.datasources.csv.CSVFileFormat.$anonfun$buildReader$2(CSVFileFormat.scala:147)\r\n\tat org.apache.spark.sql.execution.datasources.FileFormat$$anon$1.apply(FileFormat.scala:155)\r\n\tat org.apache.spark.sql.execution.datasources.FileFormat$$anon$1.apply(FileFormat.scala:140)\r\n\tat org.apache.spark.sql.execution.datasources.FileScanRDD$$anon$1.org$apache$spark$sql$execution$datasources$FileScanRDD$$anon$$readCurrentFile(FileScanRDD.scala:230)\r\n\tat org.apache.spark.sql.execution.datasources.FileScanRDD$$anon$1.nextIterator(FileScanRDD.scala:289)\r\n\tat org.apache.spark.sql.execution.datasources.FileScanRDD$$anon$1.hasNext0(FileScanRDD.scala:131)\r\n\tat org.apache.spark.sql.execution.datasources.FileScanRDD$$anon$1.hasNext(FileScanRDD.scala:140)\r\n\tat scala.collection.Iterator$$anon$9.hasNext(Iterator.scala:583)\r\n\tat org.apache.spark.sql.catalyst.expressions.GeneratedClass$GeneratedIteratorForCodegenStage1.processNext(Unknown Source)\r\n\tat org.apache.spark.sql.execution.BufferedRowIterator.hasNext(BufferedRowIterator.java:43)\r\n\tat org.apache.spark.sql.execution.WholeStageCodegenEvaluatorFactory$WholeStageCodegenPartitionEvaluator$$anon$1.hasNext(WholeStageCodegenEvaluatorFactory.scala:50)\r\n\tat org.apache.spark.sql.execution.SparkPlan.$anonfun$getByteArrayRdd$1(SparkPlan.scala:402)\r\n\tat org.apache.spark.rdd.RDD.$anonfun$mapPartitionsInternal$2(RDD.scala:901)\r\n\tat org.apache.spark.rdd.RDD.$anonfun$mapPartitionsInternal$2$adapted(RDD.scala:901)\r\n\tat org.apache.spark.rdd.MapPartitionsRDD.compute(MapPartitionsRDD.scala:52)\r\n\tat org.apache.spark.rdd.RDD.computeOrReadCheckpoint(RDD.scala:374)\r\n\tat org.apache.spark.rdd.RDD.iterator(RDD.scala:338)\r\n\tat org.apache.spark.scheduler.ResultTask.runTask(ResultTask.scala:93)\r\n\tat org.apache.spark.TaskContext.runTaskWithListeners(TaskContext.scala:171)\r\n\tat org.apache.spark.scheduler.Task.run(Task.scala:147)\r\n\tat org.apache.spark.executor.Executor$TaskRunner.$anonfun$run$5(Executor.scala:647)\r\n\tat org.apache.spark.util.SparkErrorUtils.tryWithSafeFinally(SparkErrorUtils.scala:80)\r\n\tat org.apache.spark.util.SparkErrorUtils.tryWithSafeFinally$(SparkErrorUtils.scala:77)\r\n\tat org.apache.spark.util.Utils$.tryWithSafeFinally(Utils.scala:99)\r\n\tat org.apache.spark.executor.Executor$TaskRunner.run(Executor.scala:650)\r\n\tat java.base/java.util.concurrent.ThreadPoolExecutor.runWorker(ThreadPoolExecutor.java:1144)\r\n\tat java.base/java.util.concurrent.ThreadPoolExecutor$Worker.run(ThreadPoolExecutor.java:642)\r\n\t... 1 more\r\n"
     ]
    }
   ],
=======
   "execution_count": 61,
   "id": "dba1b106",
   "metadata": {},
   "outputs": [],
>>>>>>> bc7a0d1 (Add model prediction)
   "source": [
    "df_features = df.select(features).dropna()\n",
    "df_pd = df_features.toPandas()\n",
    "X_test = df_pd.astype('float32').values"
   ]
  },
  {
   "cell_type": "code",
   "execution_count": 62,
   "id": "794efef3",
   "metadata": {},
   "outputs": [
    {
     "name": "stdout",
     "output_type": "stream",
     "text": [
      "\u001b[1m37737/37737\u001b[0m \u001b[32m━━━━━━━━━━━━━━━━━━━━\u001b[0m\u001b[37m\u001b[0m \u001b[1m22s\u001b[0m 592us/step\n"
     ]
    }
   ],
   "source": [
    "pred_nutri, pred_nova, pred_add = model.predict(X_test)"
   ]
  },
  {
   "cell_type": "code",
   "execution_count": 63,
   "id": "ce319052",
   "metadata": {},
   "outputs": [
    {
     "data": {
      "text/plain": [
       "array([[4.6008366e-01, 1.4909835e-01, 3.1493473e-01, 7.4106239e-02,\n",
       "        1.7770195e-03],\n",
       "       [1.5019787e-06, 3.3392156e-05, 1.2126402e-04, 3.6710039e-02,\n",
       "        9.6313387e-01],\n",
       "       [1.3506991e-01, 7.8724883e-02, 4.4132459e-01, 3.3956438e-01,\n",
       "        5.3162067e-03],\n",
       "       ...,\n",
       "       [2.8381346e-02, 1.8383269e-01, 7.4515361e-01, 4.0559828e-02,\n",
       "        2.0725040e-03],\n",
       "       [1.9111466e-01, 6.1971941e-03, 1.3037404e-01, 6.6771054e-01,\n",
       "        4.6034865e-03],\n",
       "       [3.5894650e-21, 1.1944659e-14, 3.4926451e-10, 2.6454282e-04,\n",
       "        9.9973541e-01]], shape=(1207565, 5), dtype=float32)"
      ]
     },
     "execution_count": 63,
     "metadata": {},
     "output_type": "execute_result"
    }
   ],
   "source": [
    "pred_nutri"
   ]
  },
  {
   "cell_type": "code",
   "execution_count": 64,
   "id": "d37b0a67",
   "metadata": {},
   "outputs": [],
   "source": [
    "nutriscore_map = {0: 'a', 1: 'b', 2: 'c', 3: 'd', 4: 'e'}"
   ]
  },
  {
   "cell_type": "code",
   "execution_count": 65,
   "id": "518db08e",
   "metadata": {},
   "outputs": [],
   "source": [
    "nutri_pred_class = pred_nutri.argmax(axis=1)[0]\n",
    "nutri_label = nutriscore_map.get(nutri_pred_class, \"unknown\")"
   ]
  },
  {
   "cell_type": "code",
   "execution_count": 66,
   "id": "eecddd3d",
   "metadata": {},
   "outputs": [],
   "source": [
    "nova_pred_class = pred_nova.argmax(axis=1)[0]\n",
    "nova_label = nova_pred_class + 1  # if training labels were 1-based"
   ]
  },
  {
   "cell_type": "code",
   "execution_count": 67,
   "id": "c2df3045",
   "metadata": {},
   "outputs": [],
   "source": [
    "additives_pred = float(pred_add[0][0])\n",
    "additives_rounded = round(additives_pred)"
   ]
  },
  {
   "cell_type": "code",
<<<<<<< HEAD
   "execution_count": null,
   "id": "82a84978",
   "metadata": {},
   "outputs": [],
   "source": [
    "def model_predictions():\n",
    "    features = ['fat_100g', 'sugars_100g', 'salt_100g', 'fiber_100g', 'proteins_100g']\n",
    "    df_features = df.select(features)\n",
    "    df_features = df.select(features).dropna()\n",
    "    df_pd = df_features.toPandas()\n",
    "    X_test = df_pd.astype('float32').values\n",
    "    pred_nutri, pred_nova, pred_add = model.predict(X_test)\n",
    "    return pred_nutri, pred_nova, pred_add"
   ]
  },
  {
   "cell_type": "code",
=======
>>>>>>> bc7a0d1 (Add model prediction)
   "execution_count": 68,
   "id": "f3d9e250",
   "metadata": {},
   "outputs": [
    {
     "name": "stdout",
     "output_type": "stream",
     "text": [
      "Nutriscore Grade: a\n",
      "Nova Group: 4\n",
      "Additives Count: 2\n"
     ]
    }
   ],
   "source": [
    "def decode_predictions(pred_nutri, pred_nova, pred_add):\n",
    "    nutriscore_map = {0: 'a', 1: 'b', 2: 'c', 3: 'd', 4: 'e'}\n",
    "    \n",
    "    nutri_pred_class = pred_nutri.argmax(axis=1)[0]\n",
    "    nutri_label = nutriscore_map.get(nutri_pred_class, \"unknown\")\n",
    "    \n",
    "    nova_pred_class = pred_nova.argmax(axis=1)[0]\n",
    "    nova_label = nova_pred_class + 1  # adjust if needed\n",
    "    \n",
    "    additives_pred = float(pred_add[0][0])\n",
    "    additives_rounded = round(additives_pred)\n",
    "    \n",
    "    return nutri_label, nova_label, additives_rounded\n",
    "\n",
    "nutri_label, nova_label, additives_count = decode_predictions(pred_nutri, pred_nova, pred_add)\n",
    "\n",
    "print(f\"Nutriscore Grade: {nutri_label}\")\n",
    "print(f\"Nova Group: {nova_label}\")\n",
    "print(f\"Additives Count: {additives_count}\")"
   ]
  },
  {
   "cell_type": "code",
   "execution_count": null,
   "id": "d0d5b266",
   "metadata": {},
   "outputs": [],
   "source": []
  },
  {
   "cell_type": "markdown",
   "id": "ff1562b4",
   "metadata": {},
   "source": [
    "### Cleaned_data"
   ]
  },
  {
   "cell_type": "code",
   "execution_count": 74,
   "id": "6e0268ce",
   "metadata": {},
   "outputs": [
    {
     "data": {
      "text/html": [
       "<div>\n",
       "<style scoped>\n",
       "    .dataframe tbody tr th:only-of-type {\n",
       "        vertical-align: middle;\n",
       "    }\n",
       "\n",
       "    .dataframe tbody tr th {\n",
       "        vertical-align: top;\n",
       "    }\n",
       "\n",
       "    .dataframe thead th {\n",
       "        text-align: right;\n",
       "    }\n",
       "</style>\n",
       "<table border=\"1\" class=\"dataframe\">\n",
       "  <thead>\n",
       "    <tr style=\"text-align: right;\">\n",
       "      <th></th>\n",
       "      <th>fat_100g</th>\n",
       "      <th>sugars_100g</th>\n",
       "      <th>salt_100g</th>\n",
       "      <th>fiber_100g</th>\n",
       "      <th>proteins_100g</th>\n",
       "      <th>nutriscore_grade_num</th>\n",
       "      <th>nova_group</th>\n",
       "      <th>additives_n</th>\n",
       "    </tr>\n",
       "  </thead>\n",
       "  <tbody>\n",
       "    <tr>\n",
       "      <th>0</th>\n",
       "      <td>1.60</td>\n",
       "      <td>1.30</td>\n",
       "      <td>1.70</td>\n",
       "      <td>2.900000</td>\n",
       "      <td>82.00</td>\n",
       "      <td>4</td>\n",
       "      <td>3</td>\n",
       "      <td>0</td>\n",
       "    </tr>\n",
       "    <tr>\n",
       "      <th>1</th>\n",
       "      <td>2.00</td>\n",
       "      <td>1.70</td>\n",
       "      <td>1.50</td>\n",
       "      <td>10.714286</td>\n",
       "      <td>76.00</td>\n",
       "      <td>3</td>\n",
       "      <td>4</td>\n",
       "      <td>1</td>\n",
       "    </tr>\n",
       "    <tr>\n",
       "      <th>2</th>\n",
       "      <td>24.00</td>\n",
       "      <td>31.00</td>\n",
       "      <td>0.48</td>\n",
       "      <td>1.400000</td>\n",
       "      <td>6.40</td>\n",
       "      <td>5</td>\n",
       "      <td>4</td>\n",
       "      <td>6</td>\n",
       "    </tr>\n",
       "    <tr>\n",
       "      <th>3</th>\n",
       "      <td>16.70</td>\n",
       "      <td>1.85</td>\n",
       "      <td>0.88</td>\n",
       "      <td>18.500000</td>\n",
       "      <td>37.00</td>\n",
       "      <td>3</td>\n",
       "      <td>4</td>\n",
       "      <td>6</td>\n",
       "    </tr>\n",
       "    <tr>\n",
       "      <th>4</th>\n",
       "      <td>0.00</td>\n",
       "      <td>9.09</td>\n",
       "      <td>0.00</td>\n",
       "      <td>0.000000</td>\n",
       "      <td>90.90</td>\n",
       "      <td>1</td>\n",
       "      <td>3</td>\n",
       "      <td>0</td>\n",
       "    </tr>\n",
       "    <tr>\n",
       "      <th>...</th>\n",
       "      <td>...</td>\n",
       "      <td>...</td>\n",
       "      <td>...</td>\n",
       "      <td>...</td>\n",
       "      <td>...</td>\n",
       "      <td>...</td>\n",
       "      <td>...</td>\n",
       "      <td>...</td>\n",
       "    </tr>\n",
       "    <tr>\n",
       "      <th>49995</th>\n",
       "      <td>2.68</td>\n",
       "      <td>3.57</td>\n",
       "      <td>0.00</td>\n",
       "      <td>8.900000</td>\n",
       "      <td>16.07</td>\n",
       "      <td>1</td>\n",
       "      <td>1</td>\n",
       "      <td>0</td>\n",
       "    </tr>\n",
       "    <tr>\n",
       "      <th>49996</th>\n",
       "      <td>2.68</td>\n",
       "      <td>3.57</td>\n",
       "      <td>0.00</td>\n",
       "      <td>8.900000</td>\n",
       "      <td>16.07</td>\n",
       "      <td>1</td>\n",
       "      <td>3</td>\n",
       "      <td>0</td>\n",
       "    </tr>\n",
       "    <tr>\n",
       "      <th>49997</th>\n",
       "      <td>1.79</td>\n",
       "      <td>0.00</td>\n",
       "      <td>0.00</td>\n",
       "      <td>3.600000</td>\n",
       "      <td>12.50</td>\n",
       "      <td>1</td>\n",
       "      <td>1</td>\n",
       "      <td>0</td>\n",
       "    </tr>\n",
       "    <tr>\n",
       "      <th>49998</th>\n",
       "      <td>1.79</td>\n",
       "      <td>0.00</td>\n",
       "      <td>0.00</td>\n",
       "      <td>3.600000</td>\n",
       "      <td>12.50</td>\n",
       "      <td>1</td>\n",
       "      <td>1</td>\n",
       "      <td>0</td>\n",
       "    </tr>\n",
       "    <tr>\n",
       "      <th>49999</th>\n",
       "      <td>3.17</td>\n",
       "      <td>3.17</td>\n",
       "      <td>0.06</td>\n",
       "      <td>3.200000</td>\n",
       "      <td>14.29</td>\n",
       "      <td>1</td>\n",
       "      <td>1</td>\n",
       "      <td>0</td>\n",
       "    </tr>\n",
       "  </tbody>\n",
       "</table>\n",
       "<p>50000 rows × 8 columns</p>\n",
       "</div>"
      ],
      "text/plain": [
       "       fat_100g  sugars_100g  salt_100g  fiber_100g  proteins_100g  \\\n",
       "0          1.60         1.30       1.70    2.900000          82.00   \n",
       "1          2.00         1.70       1.50   10.714286          76.00   \n",
       "2         24.00        31.00       0.48    1.400000           6.40   \n",
       "3         16.70         1.85       0.88   18.500000          37.00   \n",
       "4          0.00         9.09       0.00    0.000000          90.90   \n",
       "...         ...          ...        ...         ...            ...   \n",
       "49995      2.68         3.57       0.00    8.900000          16.07   \n",
       "49996      2.68         3.57       0.00    8.900000          16.07   \n",
       "49997      1.79         0.00       0.00    3.600000          12.50   \n",
       "49998      1.79         0.00       0.00    3.600000          12.50   \n",
       "49999      3.17         3.17       0.06    3.200000          14.29   \n",
       "\n",
       "       nutriscore_grade_num  nova_group  additives_n  \n",
       "0                         4           3            0  \n",
       "1                         3           4            1  \n",
       "2                         5           4            6  \n",
       "3                         3           4            6  \n",
       "4                         1           3            0  \n",
       "...                     ...         ...          ...  \n",
       "49995                     1           1            0  \n",
       "49996                     1           3            0  \n",
       "49997                     1           1            0  \n",
       "49998                     1           1            0  \n",
       "49999                     1           1            0  \n",
       "\n",
       "[50000 rows x 8 columns]"
      ]
     },
     "execution_count": 74,
     "metadata": {},
     "output_type": "execute_result"
    }
   ],
   "source": [
    "pandas_df"
   ]
  },
  {
   "cell_type": "code",
   "execution_count": 76,
   "id": "cb66011f",
   "metadata": {},
   "outputs": [],
   "source": [
    "pandas_df.to_csv(\"../../data/clean/clean_data.csv\", index=False)"
   ]
  },
  {
   "cell_type": "code",
   "execution_count": null,
   "id": "85d0f666",
   "metadata": {},
   "outputs": [],
   "source": []
  }
 ],
 "metadata": {
  "kernelspec": {
   "display_name": ".venv",
   "language": "python",
   "name": "python3"
  },
  "language_info": {
   "codemirror_mode": {
    "name": "ipython",
    "version": 3
   },
   "file_extension": ".py",
   "mimetype": "text/x-python",
   "name": "python",
   "nbconvert_exporter": "python",
   "pygments_lexer": "ipython3",
   "version": "3.11.9"
  }
 },
 "nbformat": 4,
 "nbformat_minor": 5
}
